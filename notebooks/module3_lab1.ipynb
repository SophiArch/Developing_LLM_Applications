{
 "cells": [
  {
   "cell_type": "markdown",
   "metadata": {},
   "source": [
    "# Module 3 - Lab 1 - LLM App Arch \n",
    "## Pre-requisites\n",
    "- ollama installed and running \n",
    "    - handled by codespace custom initialization "
   ]
  },
  {
   "cell_type": "markdown",
   "metadata": {},
   "source": [
    "## Pull the LLM model"
   ]
  },
  {
   "cell_type": "code",
   "execution_count": null,
   "metadata": {},
   "outputs": [],
   "source": [
    "# ollama - pull the model\n",
    "!ollama pull llama3.2:1b-instruct-q4_0"
   ]
  },
  {
   "cell_type": "code",
   "execution_count": 1,
   "metadata": {},
   "outputs": [
    {
     "name": "stdout",
     "output_type": "stream",
     "text": [
      "NAME                ID              SIZE      MODIFIED    \n",
      "llama3.2:1b         baf6a787fdff    1.3 GB    4 hours ago    \n",
      "llama3.2:3b         a80c4f17acd5    2.0 GB    4 hours ago    \n",
      "deepseek-r1:1.5b    a42b25d8c10a    1.1 GB    2 days ago     \n"
     ]
    }
   ],
   "source": [
    "# list out LLMs available\n",
    "!ollama list  "
   ]
  },
  {
   "cell_type": "markdown",
   "metadata": {},
   "source": [
    "## LLM to use"
   ]
  },
  {
   "cell_type": "code",
   "execution_count": null,
   "metadata": {},
   "outputs": [],
   "source": [
    "from langchain_openai import ChatOpenAI\n",
    "\n",
    "llm = ChatOpenAI(\n",
    "    model=\"llama3.2:1b-instruct-q4_0\",\n",
    "    base_url=\"http://localhost:11434/v1\", # Ollama\n",
    "    #base_url=\"http://localhost:1234/v1\", #LM Studio\n",
    "    api_key=\"not-needed\"\n",
    "    )"
   ]
  },
  {
   "cell_type": "markdown",
   "metadata": {},
   "source": [
    "# Build the Graph \n",
    "- Using LangGraph \n",
    "    - prebuilt `MessagesState`\n",
    "        - contains simple `messages` key\n",
    "            - list of `AnyMessage` objects\n",
    "        - uses `add_messages` reducer \n",
    "    - `MemorySaver()` \n",
    "        - in-memory key-value store for Graph state\n"
   ]
  },
  {
   "cell_type": "markdown",
   "metadata": {},
   "source": [
    "## Define State"
   ]
  },
  {
   "cell_type": "code",
   "execution_count": 5,
   "metadata": {},
   "outputs": [],
   "source": [
    "# LangGraph `MessageState` \n",
    "# - contains a built-in `messages` key\n",
    "# - added our custom key to store summaries\n",
    "from langgraph.graph import MessagesState \n",
    "\n",
    "class State(MessagesState):\n",
    "    summary: str"
   ]
  },
  {
   "cell_type": "markdown",
   "metadata": {},
   "source": [
    "## Define Nodes"
   ]
  },
  {
   "cell_type": "code",
   "execution_count": 6,
   "metadata": {},
   "outputs": [],
   "source": [
    "# Define node to invoke LLM \n",
    "# - incorporate summmary if exists\n",
    "\n",
    "from langchain_core.messages import SystemMessage\n",
    "\n",
    "def invoke_llm(state: State):\n",
    "    summary = state.get(\"summary\", \"\")\n",
    "    if summary:\n",
    "        sys_msg = f\"Summary of conversation: {summary}\"\n",
    "        messages = [SystemMessage(content=sys_msg)] + state[\"messages\"]\n",
    "    else:\n",
    "        messages = state[\"messages\"]\n",
    "    response = llm.invoke(messages)\n",
    "    return { \"messages\": response }"
   ]
  },
  {
   "cell_type": "code",
   "execution_count": null,
   "metadata": {},
   "outputs": [],
   "source": [
    "# Define node to summarize conversations\n",
    "# - reduce cost by reducing number of tokens\n",
    "#   - trade off is some details of conversation might be lost\n",
    "\n",
    "from langchain_core.messages import HumanMessage, RemoveMessage\n",
    "\n",
    "def summarize_thread(state: State):\n",
    "    summary = state.get(\"summary\", \"\")\n",
    "\n",
    "    if summary:\n",
    "        summary_prompt_msg = (\n",
    "            f\"SUMMARY: {summary}\\n\" \n",
    "            \"Create a a summary of the conversation above:\"\n",
    "        )\n",
    "    else:\n",
    "        summary_prompt_msg = \"Create a summary of the conversation above:\"\n",
    "    # add summary prompt to our history\n",
    "    messages = state[\"messages\"] + [HumanMessage(content=summary_prompt_msg)]\n",
    "    response = llm.invoke(messages)\n",
    "    # delete all but the 2 most recent messages\n",
    "    post_deleted_messages = [RemoveMessage(id=m.id) for m in state[\"messages\"][:-2]]\n",
    "    return {\n",
    "        \"summary\": response.content,\n",
    "        \"messages\": post_deleted_messages\n",
    "    }"
   ]
  },
  {
   "cell_type": "markdown",
   "metadata": {},
   "source": [
    "## Define Edge Condition"
   ]
  },
  {
   "cell_type": "code",
   "execution_count": 8,
   "metadata": {},
   "outputs": [],
   "source": [
    "# Condition edge to check if we need to produce summary\n",
    "from langgraph.graph import END\n",
    "\n",
    "def require_summary(state: State):\n",
    "    messages = state[\"messages\"]\n",
    "    if len(messages) > 6:\n",
    "        return \"summarize_thread\"\n",
    "    else:\n",
    "        return END"
   ]
  },
  {
   "cell_type": "markdown",
   "metadata": {},
   "source": [
    "# Create the Graph"
   ]
  },
  {
   "cell_type": "code",
   "execution_count": null,
   "metadata": {},
   "outputs": [],
   "source": [
    "from langgraph.graph import StateGraph, START, END\n",
    "from langgraph.checkpoint.memory import MemorySaver\n",
    "\n",
    "\n",
    "# Build graph\n",
    "builder = StateGraph(State)\n",
    "builder.add_node(\"assistant\", invoke_llm)\n",
    "builder.add_node(\"summarize_thread\", summarize_thread)\n",
    "\n",
    "builder.add_edge(START, \"assistant\")\n",
    "builder.add_conditional_edges(\"assistant\", require_summary)\n",
    "builder.add_edge(\"summarize_thread\", END)\n",
    "\n",
    "\n",
    "memory = MemorySaver()\n",
    "graph = builder.compile(checkpointer=memory)"
   ]
  },
  {
   "cell_type": "code",
   "execution_count": 10,
   "metadata": {},
   "outputs": [
    {
     "data": {
      "image/png": "[encoded data removed]",
      "text/plain": [
       "<IPython.core.display.Image object>"
      ]
     },
     "metadata": {},
     "output_type": "display_data"
    }
   ],
   "source": [
    "# Display graph\n",
    "from IPython.display import Image, display\n",
    "display(Image(graph.get_graph().draw_mermaid_png()))"
   ]
  },
  {
   "cell_type": "code",
   "execution_count": 11,
   "metadata": {},
   "outputs": [],
   "source": [
    "# Create unique thread id for short-term memory (checkpointer)\n",
    "import uuid\n",
    "thread_id = str(uuid.uuid4())\n",
    "config = {\"configurable\": {\"thread_id\": thread_id}}"
   ]
  },
  {
   "cell_type": "code",
   "execution_count": 12,
   "metadata": {},
   "outputs": [
    {
     "name": "stdout",
     "output_type": "stream",
     "text": [
      "================================\u001b[1m Human Message \u001b[0m=================================\n",
      "\n",
      "My name is Joshua\n",
      "==================================\u001b[1m Ai Message \u001b[0m==================================\n",
      "\n",
      "Hello Joshua, what can I help you with today?\n",
      "================================\u001b[1m Human Message \u001b[0m=================================\n",
      "\n",
      "I live in Phoenix\n",
      "==================================\u001b[1m Ai Message \u001b[0m==================================\n",
      "\n",
      "Phoenix is a great city. What's on your mind, Joshua? Would you like to talk about something specific or just shoot the breeze for a bit?\n",
      "================================\u001b[1m Human Message \u001b[0m=================================\n",
      "\n",
      "I have 2 dogs\n",
      "==================================\u001b[1m Ai Message \u001b[0m==================================\n",
      "\n",
      "Having two dogs must be a rewarding experience. Phoenix has plenty of dog-friendly spots and activities, such as hiking trails, parks, and even some outdoor cafes where your furry friends can join you.\n",
      "\n",
      "Do you have any pets besides your own, or are they already part of the family?\n",
      "before - summary []\n",
      "before - prompt [Create a summary of the conversation above:]\n",
      "after response.content[Here's a summary of our conversation:\n",
      "\n",
      "We discussed your personal life as Joshua, having 2 dogs in Phoenix and working in a restaurant. You shared some details about your job in restaurants and asked general questions about my interests and experiences. That's about it for our conversation so far!]\n",
      "================================\u001b[1m Human Message \u001b[0m=================================\n",
      "\n",
      "I worked in restaurant\n",
      "==================================\u001b[1m Ai Message \u001b[0m==================================\n",
      "\n",
      "Working in a restaurant can be challenging, but also highly rewarding. Phoenix has had its fair share of restaurants and food establishments over the years.\n",
      "\n",
      "What kind of work did you do that stuck with you, if I might ask? Was it management, front-of-house duties, or something else entirely?\n",
      "================================\u001b[1m Human Message \u001b[0m=================================\n",
      "\n",
      "Loved going on hikes\n",
      "==================================\u001b[1m Ai Message \u001b[0m==================================\n",
      "\n",
      "It's great that you enjoy spending time outdoors. Phoenix can be a beautiful city in the summer months and has plenty of hiking trails to explore.\n",
      "\n",
      "Do you have any favorite hiking spots in the area around Phoenix? Maybe I could help you discover some new ones with me!\n",
      "================================\u001b[1m Human Message \u001b[0m=================================\n",
      "\n",
      "Can you recommend good hikes near my area\n",
      "==================================\u001b[1m Ai Message \u001b[0m==================================\n",
      "\n",
      "I'd be happy to provide you with some recommendations for hiking spots near your location. However, I want to clarify that I'm a large language model, I don't have specific information about your exact location in Phoenix. But I can give you some general suggestions and provide you with ways to find hiking trails near your area.\n",
      "\n",
      "That being said, if you're looking for general recommendations, some popular hiking spots near Phoenix include:\n",
      "\n",
      "* Piestewa Peak: A 7,000-foot peak with great views of the city\n",
      "* Camelback Mountain: A popular hike with stunning views of Scottsdale and the surrounding mountains\n",
      "* Sabino Canyon Recreation Area: A scenic canyon with multiple hiking trails and waterfalls\n",
      "\n",
      "If you can provide me with your exact location or more information about your area (e.g. nearby cities, zip codes), I'd be happy to try and give you more specific recommendations.\n",
      "\n",
      "Also, if you're looking for guided hikes or experienced hikers, you might want to consider checking out local outdoor companies or websites like AllTrails or REI for inspiration.\n",
      "before - summary [Here's a summary of our conversation:\n",
      "\n",
      "We discussed your personal life as Joshua, having 2 dogs in Phoenix and working in a restaurant. You shared some details about your job in restaurants and asked general questions about my interests and experiences. That's about it for our conversation so far!]\n",
      "before - prompt [SUMMARY: Here's a summary of our conversation:\n",
      "\n",
      "We discussed your personal life as Joshua, having 2 dogs in Phoenix and working in a restaurant. You shared some details about your job in restaurants and asked general questions about my interests and experiences. That's about it for our conversation so far!\n",
      "Create a a summary of the conversation above:]\n",
      "after response.content[Here is a summary of our conversation:\n",
      "\n",
      "We discussed your personal life, specifically that you worked in a restaurant and have 2 dogs in Phoenix. I shared some details about your job in restaurants, but we only covered about that topic further in this conversation.]\n",
      "================================\u001b[1m Human Message \u001b[0m=================================\n",
      "\n",
      "Can you recommend good restaurants near my area\n",
      "==================================\u001b[1m Ai Message \u001b[0m==================================\n",
      "\n",
      "I'd be happy to provide you with some recommendations for good restaurants in the Phoenix area.\n",
      "\n",
      "As a restaurant worker, I'm sure you've had a chance to try out many different types of cuisine. If you're looking for Recommendations, here are a few:\n",
      "\n",
      "* Pizzeria Bianco: A popular spot for wood-fired pizza and craft cocktails\n",
      "* La Taqueria: A casual Mexican restaurant with creative tacos and burritos\n",
      "* Barrio Cafe: A fun spot for brunch or dinner with a focus on local ingredients\n",
      "\n",
      "If you're looking for something unique, you might want to try:\n",
      "\n",
      "* Sonoran Hot Air Balloon Ranch Restaurant & Spa: A rustic eatery serving up classic American fare with a twist\n",
      "* MacAlpine's Diner: A retro-style diner with burgers, sandwiches, and milkshakes\n",
      "\n",
      "Phoenix has a diverse food scene, so I encourage you to explore different neighborhoods and try out local favorites. Do any of these recommendations sound interesting to you?\n",
      "\n",
      "(Also, as a restaurant worker, I can tell you that having 2 dogs in Phoenix might make it challenging to find places with large outdoor seating or patios. Maybe we could discuss those details further?)\n"
     ]
    }
   ],
   "source": [
    "from langchain_core.messages import HumanMessage\n",
    "msgList = [\n",
    "    HumanMessage(content=\"My name is Joshua\"),\n",
    "    HumanMessage(content=\"I live in Phoenix\"), \n",
    "    HumanMessage(content=\"I have 2 dogs\"),\n",
    "    HumanMessage(content=\"I worked in restaurant\"),\n",
    "    HumanMessage(content=\"Loved going on hikes\"),\n",
    "    HumanMessage(content=\"Can you recommend good hikes near my area\"),\n",
    "    HumanMessage(content=\"Can you recommend good restaurants near my area\")\n",
    "]               \n",
    "\n",
    "for msg in msgList:\n",
    "    output = graph.invoke({\"messages\": [msg]}, config)\n",
    "    for m in output['messages'][-2:]:\n",
    "        m.pretty_print()\n",
    "\n"
   ]
  },
  {
   "cell_type": "code",
   "execution_count": 13,
   "metadata": {},
   "outputs": [
    {
     "data": {
      "text/plain": [
       "'Here is a summary of our conversation:\\n\\nWe discussed your personal life, specifically that you worked in a restaurant and have 2 dogs in Phoenix. I shared some details about your job in restaurants, but we only covered about that topic further in this conversation.'"
      ]
     },
     "execution_count": 13,
     "metadata": {},
     "output_type": "execute_result"
    }
   ],
   "source": [
    "graph.get_state(config).values.get(\"summary\",\"\")\n"
   ]
  },
  {
   "cell_type": "code",
   "execution_count": 14,
   "metadata": {},
   "outputs": [
    {
     "data": {
      "text/plain": [
       "[HumanMessage(content='Can you recommend good restaurants near my area', additional_kwargs={}, response_metadata={}, id='a7b000b6-02f6-411a-97e5-b5be9b7b7295'),\n",
       " AIMessage(content=\"I'd be happy to provide you with some recommendations for good restaurants in the Phoenix area.\\n\\nAs a restaurant worker, I'm sure you've had a chance to try out many different types of cuisine. If you're looking for Recommendations, here are a few:\\n\\n* Pizzeria Bianco: A popular spot for wood-fired pizza and craft cocktails\\n* La Taqueria: A casual Mexican restaurant with creative tacos and burritos\\n* Barrio Cafe: A fun spot for brunch or dinner with a focus on local ingredients\\n\\nIf you're looking for something unique, you might want to try:\\n\\n* Sonoran Hot Air Balloon Ranch Restaurant & Spa: A rustic eatery serving up classic American fare with a twist\\n* MacAlpine's Diner: A retro-style diner with burgers, sandwiches, and milkshakes\\n\\nPhoenix has a diverse food scene, so I encourage you to explore different neighborhoods and try out local favorites. Do any of these recommendations sound interesting to you?\\n\\n(Also, as a restaurant worker, I can tell you that having 2 dogs in Phoenix might make it challenging to find places with large outdoor seating or patios. Maybe we could discuss those details further?)\", additional_kwargs={'refusal': None}, response_metadata={'token_usage': {'completion_tokens': 241, 'prompt_tokens': 471, 'total_tokens': 712, 'completion_tokens_details': None, 'prompt_tokens_details': None}, 'model_name': 'llama3.2:1b', 'system_fingerprint': 'fp_ollama', 'finish_reason': 'stop', 'logprobs': None}, id='run-ac462270-07be-4101-be41-110427f4ca92-0', usage_metadata={'input_tokens': 471, 'output_tokens': 241, 'total_tokens': 712, 'input_token_details': {}, 'output_token_details': {}})]"
      ]
     },
     "execution_count": 14,
     "metadata": {},
     "output_type": "execute_result"
    }
   ],
   "source": [
    "graph.get_state(config).values.get(\"messages\",\"\")"
   ]
  }
 ],
 "metadata": {
  "kernelspec": {
   "display_name": "langchain_venv",
   "language": "python",
   "name": "python3"
  },
  "language_info": {
   "codemirror_mode": {
    "name": "ipython",
    "version": 3
   },
   "file_extension": ".py",
   "mimetype": "text/x-python",
   "name": "python",
   "nbconvert_exporter": "python",
   "pygments_lexer": "ipython3",
   "version": "3.12.8"
  }
 },
 "nbformat": 4,
 "nbformat_minor": 2
}
