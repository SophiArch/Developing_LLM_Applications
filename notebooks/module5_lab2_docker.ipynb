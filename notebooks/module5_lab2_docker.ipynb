{
 "cells": [
  {
   "cell_type": "markdown",
   "metadata": {},
   "source": [
    "# Module 5 - Lab 2 - Deployment - Docker \n",
    "## Pre-requisites\n",
    "> handled by codespace custom initialization\n",
    "- ollama installed and running \n",
    "- python packages \n",
    "    - langchain\n",
    "    - langchain-openai\n",
    "    - langgraph\n",
    "- docker installed"
   ]
  },
  {
   "cell_type": "code",
   "execution_count": null,
   "metadata": {},
   "outputs": [],
   "source": [
    "# Install packages for deployment and SDK\n",
    "!pip install \"langgraph-cli[inmem]\" langgraph-sdk"
   ]
  },
  {
   "cell_type": "markdown",
   "metadata": {},
   "source": [
    "## Step 1 - Clean-up and regenerate chat_app"
   ]
  },
  {
   "cell_type": "code",
   "execution_count": null,
   "metadata": {},
   "outputs": [],
   "source": [
    "!rm -rf chat_app"
   ]
  },
  {
   "cell_type": "code",
   "execution_count": null,
   "metadata": {},
   "outputs": [],
   "source": [
    "!!langgraph new --template react-agent-python chat_app"
   ]
  },
  {
   "cell_type": "markdown",
   "metadata": {},
   "source": [
    "## Step 2 - setup .env (in chat_app dir)\n",
    "- OPENAI_API_KEY not needed if using ollama option\n",
    "```\n",
    "LANGCHAIN_TRACING_V2=true\n",
    "LANGCHAIN_PROJECT=005_deploy_lab\n",
    "LANGCHAIN_API_KEY=xx\n",
    "TAVILY_API_KEY=xx\n",
    "OPENAI_API_KEY=xx\n",
    "```"
   ]
  },
  {
   "cell_type": "markdown",
   "metadata": {},
   "source": [
    "## Step 3 - Use LangGraph CLI to generate docker with compose"
   ]
  },
  {
   "cell_type": "code",
   "execution_count": null,
   "metadata": {},
   "outputs": [],
   "source": [
    "%cd chat_app"
   ]
  },
  {
   "cell_type": "code",
   "execution_count": null,
   "metadata": {},
   "outputs": [],
   "source": [
    "!langgraph dockerfile --help"
   ]
  },
  {
   "cell_type": "code",
   "execution_count": null,
   "metadata": {},
   "outputs": [],
   "source": [
    "# LangGraph CLI to generate \n",
    "# - docker file call `Dockerfile` \n",
    "# - docker-compose.yml file\n",
    "!langgraph dockerfile --add-docker-compose Dockerfile"
   ]
  },
  {
   "cell_type": "markdown",
   "metadata": {},
   "source": [
    "## Step 4 - Startup Docker"
   ]
  },
  {
   "cell_type": "code",
   "execution_count": null,
   "metadata": {},
   "outputs": [],
   "source": [
    "!docker compose up -d"
   ]
  },
  {
   "cell_type": "code",
   "execution_count": null,
   "metadata": {},
   "outputs": [],
   "source": [
    "!docker ps"
   ]
  },
  {
   "cell_type": "markdown",
   "metadata": {},
   "source": [
    "## Step 5 - Connect via SDK"
   ]
  },
  {
   "cell_type": "code",
   "execution_count": 12,
   "metadata": {},
   "outputs": [],
   "source": [
    "# Connect via SDK\n",
    "# - change to correct port\n",
    "url_for_cli_deployment = \"http://localhost:8123\""
   ]
  },
  {
   "cell_type": "code",
   "execution_count": 15,
   "metadata": {},
   "outputs": [
    {
     "name": "stdout",
     "output_type": "stream",
     "text": [
      "[{\"title\": \"Super Bowl 2025: Philadelphia Eagles Win, Defeat Kansas City Chiefs\", \"url\": \"https://www.facebook.com/enews/videos/super-bowl-2025-philadelphia-eagles-win-defeat-kansas-city-chiefs/446408351870404/\", \"content\": \"Super Bowl 2025: Philadelphia Eagles Win, Defeat Kansas City Chiefs | Patrick Mahomes, Travis Kelce and the rest of the Kansas City Chiefs tried their best to make history, but Jalen Hurts and the Philadelphia Eagles came... Super Bowl 2025: Philadelphia Eagles Win, Defeat Kansas City Chiefs E! News E! News 6.3K E! News 30K E! News 367K E! News 726K E! News 204K E! News 226K E! News 655K E! News 216K E! News 10h ago E! News 10h ago E! News 14h ago E! News 15h ago E! News 15h ago E! News 16h ago E! News 16h ago E! News E! News Entertainment website E! News Super Bowl 2025: Philadelphia Eagles Win, Defeat Kansas City Chiefs Forgot password?\", \"score\": 0.8306082}, {\"title\": \"Philadelphia Eagles become two-time NFL champions - YouTube\", \"url\": \"https://www.youtube.com/watch?v=JBbY90fIzWk\", \"content\": \"Super Bowl 2025 recap: Philadelphia Eagles become two-time NFL champions \\n NBC News \\n 509 likes \\n 127958 views \\n 10 Feb 2025 \\n The Philadelphia Eagles reign as NFL champions after defeating the Kansas City Chiefs with a commanding 40-22 win. NBC News' Sam Brock and Staff writer at The Athletic Charlotte Carroll break down the Eagles' historic Super Bowl win—their second in franchise history.\\n\\n» Subscribe to NBC News: http://nbcnews.to/SubscribeToNBC\\n» Watch more NBC video: http://bit.ly/MoreNBCNews\\n\\nNBC News Digital is a collection of innovative and powerful news brands that deliver compelling, diverse and engaging news stories. NBC News Digital features NBCNews.com, MSNBC.com, TODAY.com, Nightly News, Meet the Press, Dateline, and the existing apps and digital extensions of these respective properties.  We deliver the best in breaking news, live video coverage, original journalism and segments from your favorite NBC News Shows.\\n\\nConnect with NBC News Online!\\nNBC News App: https://apps.nbcnews.com/mobile\\nBreaking News Alerts: https://link.nbcnews.com/join/5cj/breaking-news-signup?cid=sm_npd_nn_yt_bn-clip_190621\\nVisit NBCNews.Com: http://nbcnews.to/ReadNBC\\nFind NBC News on Facebook: http://nbcnews.to/LikeNBC\\nFollow NBC News on Twitter: http://nbcnews.to/FollowNBC\\nFollow NBC News on Instagram: http://nbcnews.to/InstaNBC\\n\\n#SuperBowl #Eagles #NFL \\n 141 comments\", \"score\": 0.82186085}, {\"title\": \"Eagles Crowned Super Bowl Champions 2025 - TikTok\", \"url\": \"https://www.tiktok.com/@espn/video/7469623857301720350?lang=en\", \"content\": \"THE EAGLES ARE YOUR SUPER BOWL CHAMPIONS ( FOX) #nfl #football #SuperBowl #chiefs #eagles. Eagles Crowned Super Bowl Champions 2025. The\", \"score\": 0.769306}, {\"title\": \"Super Bowl 2025 winners and losers, plus three reasons why Chiefs ...\", \"url\": \"https://www.cbssports.com/nfl/news/super-bowl-2025-winners-and-losers-plus-three-reasons-why-chiefs-got-destroyed-and-taylor-swift-gets-booed/\", \"content\": \"site: media | arena: nfl | pageType: stories | section: | slug: super-bowl-2025-winners-and-losers-plus-three-reasons-why-chiefs-got-destroyed-and-taylor-swift-gets-booed | sport: football | route: article_single.us | 6-keys: media/spln/nfl/reg/free/stories With three touchdowns against the Chiefs, Hurts now has seven total touchdowns in two career Super Bowl starts, which is the most in NFL history for a QB in his first two big-game starts. Including playoff games, the Eagles actually had more rushing yards (3,866) than passing yards (3,820) on the season, making them the first team since the 1975 Steelers to pull off that feat in a Super Bowl-winning season. The Eagles became just the second team since the 1970 AFL-NFL merger to win the Super Bowl in a season where they had the league's leading rusher and the No. 1 total defense.\", \"score\": 0.76617163}, {\"title\": \"Eagles deny Chiefs Super Bowl 2025 \\\"three-peat\\\" with dominant win ...\", \"url\": \"https://www.cbsnews.com/live-updates/super-bowl-2025-chiefs-eagles/\", \"content\": \"The Philadelphia Eagles crushed the Kansas City Chiefs 40-22 Sunday at the Superdome in New Orleans, earning the franchise's second Super Bowl title.\", \"score\": 0.74541736}, {\"title\": \"Super Bowl 2025: Kansas City Chiefs v. Philadelphia Eagles - NPR\", \"url\": \"https://www.npr.org/2025/02/09/nx-s1-5288003/super-bowl-2025-chiefs-eagles-kendrick\", \"content\": \"The Philadelphia Eagles avenged their 2023 loss, beating the The Kansas City Chiefs 40 to 22.\", \"score\": 0.67243975}, {\"title\": \"2025 Super Bowl LIX - News, Highlights and More | FOX Sports\", \"url\": \"https://www.foxsports.com/nfl/super-bowl\", \"content\": \"2025 Super Bowl LIX - News, Highlights and More | FOX Sports ### Super Bowl 2025 predictions: Experts pick between Chiefs, Eagles in SB LIX 2 DAYS AGO • FOX SPORTS   ### Colin Cowherd makes his pick for Super Bowl LIX between the Chiefs and Eagles | The Herd 1 DAY AGO • FOX SPORTS  ### What are the 10 best Super Bowl halftime shows of all time? 2 DAYS AGO • FOX SPORTS  ### What are the 10 best Super Bowl commercials of all time? Super Bowl LIX is set as the NFL playoffs draw to a close. How can I watch the Super Bowl? Super Bowl LIX will be available in 4K on FOX and Tubi.\", \"score\": 0.5608546}, {\"title\": \"Super Bowl LIX - Wikipedia\", \"url\": \"https://en.wikipedia.org/wiki/Super_Bowl_LIX\", \"content\": \"The season 3 premiere of Fox's game show The Floor aired after the game.[72] Beginning in January 2025, the Fox series Kitchen Nightmares aired a series of \\\"Road to Super Bowl LIX\\\" episodes during the first half of its ninth season, which primarily featured restaurants in the New Orleans area, and featured guest appearances by NFL players and personalities.[73] As part of its Super Bowl week programming, Fox scheduled special broadcast television airings of the Fox Sports 1 lineup of weekday studio programming (including The Herd with Colin Cowherd among others) from New Orleans on February 7.[62] 1960sI (1966)II (1967)III (1968)IV (1969)1970sV (1970)VI (1971)VII (1972)VIII (1973)IX (1974)X (1975)XI (1976)XII (1977)XIII (1978)XIV (1979)1980sXV (1980)XVI (1981)XVII (1982)XVIII (1983)XIX (1984)XX (1985)XXI (1986)XXII (1987)XXIII (1988)XXIV (1989)1990sXXV (1990)XXVI (1991)XXVII (1992)XXVIII (1993)XXIX (1994)XXX (1995)XXXI (1996)XXXII (1997)XXXIII (1998)XXXIV (1999)2000sXXXV (2000)XXXVI (2001)XXXVII (2002)XXXVIII (2003)XXXIX (2004)XL (2005)XLI (2006)XLII (2007)XLIII (2008)XLIV (2009)2010sXLV (2010)XLVI (2011)XLVII (2012)XLVIII (2013)XLIX (2014)50 (2015)LI (2016)LII (2017)LIII (2018)LIV (2019)2020sLV (2020)LVI (2021)LVII (2022)LVIII (2023)LIX (2024)LX (2025)LXI (2026)LXII (2027)\", \"score\": 0.16083227}]The Philadelphia Eagles won the last Super Bowl, defeating the Kansas City Chiefs with a score of 40-22, becoming two-time NFL champions."
     ]
    }
   ],
   "source": [
    "from langchain_core.messages import HumanMessage\n",
    "from langgraph_sdk import get_client\n",
    "\n",
    "client = get_client(url=url_for_cli_deployment)\n",
    "config = {\"configurable\": {\"user_id\": \"user1\", \"model\": \"openai/gpt-4o\"}}\n",
    "graph_name = \"agent\" \n",
    "thread = await client.threads.create()\n",
    "user_input = \"Who won the last superbowl?\"\n",
    "async for chunk in client.runs.stream(thread[\"thread_id\"], \n",
    "                                      graph_name, \n",
    "                                      input={\"messages\": [HumanMessage(content=user_input)]},\n",
    "                                      config=config,\n",
    "                                      stream_mode=\"messages-tuple\"):\n",
    "\n",
    "    if chunk.event == \"messages\":\n",
    "        print(\"\".join(data_item['content'] for data_item in chunk.data if 'content' in data_item), end=\"\", flush=True)"
   ]
  },
  {
   "cell_type": "markdown",
   "metadata": {},
   "source": [
    "## Shutdown"
   ]
  },
  {
   "cell_type": "code",
   "execution_count": null,
   "metadata": {},
   "outputs": [],
   "source": [
    "!docker compose down"
   ]
  }
 ],
 "metadata": {
  "kernelspec": {
   "display_name": "langchain_venv",
   "language": "python",
   "name": "python3"
  },
  "language_info": {
   "codemirror_mode": {
    "name": "ipython",
    "version": 3
   },
   "file_extension": ".py",
   "mimetype": "text/x-python",
   "name": "python",
   "nbconvert_exporter": "python",
   "pygments_lexer": "ipython3",
   "version": "3.12.8"
  }
 },
 "nbformat": 4,
 "nbformat_minor": 2
}
