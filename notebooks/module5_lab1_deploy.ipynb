{
 "cells": [
  {
   "cell_type": "markdown",
   "metadata": {},
   "source": [
    "# Module 5 - Lab 1 - Deploy LangGraph Dev\n",
    "> <span style=\"color:red\">**WARNING** must run on local env (not github codespaces)</span>\n",
    "> - Step 6 will \n",
    ">   - start LangGraph Server API dev on localhost \n",
    ">   - spawn a browser tab for Studio UI, eg.\n",
    ">       - 🚀 API: http://127.0.0.1:2024\n",
    ">       - 🎨 Studio UI: https://smith.langchain.com/studio/?baseUrl=http://127.0.0.1:2024\n",
    ">       - 📚 API Docs: http://127.0.0.1:2024/docs\n",
    ">   - Appears this is not possible in github codespaces\n",
    "\n",
    "## Pre-requisites\n",
    "- Python virtual environment\n",
    "- ollama installed and running (optional if using local LLM)\n",
    "    - https://ollama.com/download"
   ]
  },
  {
   "cell_type": "code",
   "execution_count": 1,
   "metadata": {},
   "outputs": [
    {
     "name": "stdout",
     "output_type": "stream",
     "text": [
      "Requirement already satisfied: langchain in /Users/jasonlau/.pyenv/versions/3.13.1/envs/langchain_venv/lib/python3.13/site-packages (0.3.20)\n",
      "Requirement already satisfied: langchain-openai in /Users/jasonlau/.pyenv/versions/3.13.1/envs/langchain_venv/lib/python3.13/site-packages (0.3.8)\n",
      "Requirement already satisfied: langchain-community in /Users/jasonlau/.pyenv/versions/3.13.1/envs/langchain_venv/lib/python3.13/site-packages (0.3.19)\n",
      "Requirement already satisfied: langgraph in /Users/jasonlau/.pyenv/versions/3.13.1/envs/langchain_venv/lib/python3.13/site-packages (0.3.8)\n",
      "Collecting langgraph\n",
      "  Downloading langgraph-0.3.10-py3-none-any.whl.metadata (7.5 kB)\n",
      "Requirement already satisfied: langgraph-sdk in /Users/jasonlau/.pyenv/versions/3.13.1/envs/langchain_venv/lib/python3.13/site-packages (0.1.56)\n",
      "Collecting langgraph-sdk\n",
      "  Downloading langgraph_sdk-0.1.57-py3-none-any.whl.metadata (1.8 kB)\n",
      "Requirement already satisfied: langgraph-cli[inmem] in /Users/jasonlau/.pyenv/versions/3.13.1/envs/langchain_venv/lib/python3.13/site-packages (0.1.76)\n",
      "Requirement already satisfied: langchain-core<1.0.0,>=0.3.41 in /Users/jasonlau/.pyenv/versions/3.13.1/envs/langchain_venv/lib/python3.13/site-packages (from langchain) (0.3.44)\n",
      "Requirement already satisfied: langchain-text-splitters<1.0.0,>=0.3.6 in /Users/jasonlau/.pyenv/versions/3.13.1/envs/langchain_venv/lib/python3.13/site-packages (from langchain) (0.3.6)\n",
      "Requirement already satisfied: langsmith<0.4,>=0.1.17 in /Users/jasonlau/.pyenv/versions/3.13.1/envs/langchain_venv/lib/python3.13/site-packages (from langchain) (0.3.13)\n",
      "Requirement already satisfied: pydantic<3.0.0,>=2.7.4 in /Users/jasonlau/.pyenv/versions/3.13.1/envs/langchain_venv/lib/python3.13/site-packages (from langchain) (2.10.6)\n",
      "Requirement already satisfied: SQLAlchemy<3,>=1.4 in /Users/jasonlau/.pyenv/versions/3.13.1/envs/langchain_venv/lib/python3.13/site-packages (from langchain) (2.0.39)\n",
      "Requirement already satisfied: requests<3,>=2 in /Users/jasonlau/.pyenv/versions/3.13.1/envs/langchain_venv/lib/python3.13/site-packages (from langchain) (2.32.3)\n",
      "Requirement already satisfied: PyYAML>=5.3 in /Users/jasonlau/.pyenv/versions/3.13.1/envs/langchain_venv/lib/python3.13/site-packages (from langchain) (6.0.2)\n",
      "Requirement already satisfied: openai<2.0.0,>=1.58.1 in /Users/jasonlau/.pyenv/versions/3.13.1/envs/langchain_venv/lib/python3.13/site-packages (from langchain-openai) (1.65.1)\n",
      "Requirement already satisfied: tiktoken<1,>=0.7 in /Users/jasonlau/.pyenv/versions/3.13.1/envs/langchain_venv/lib/python3.13/site-packages (from langchain-openai) (0.9.0)\n",
      "Requirement already satisfied: aiohttp<4.0.0,>=3.8.3 in /Users/jasonlau/.pyenv/versions/3.13.1/envs/langchain_venv/lib/python3.13/site-packages (from langchain-community) (3.11.13)\n",
      "Requirement already satisfied: tenacity!=8.4.0,<10,>=8.1.0 in /Users/jasonlau/.pyenv/versions/3.13.1/envs/langchain_venv/lib/python3.13/site-packages (from langchain-community) (9.0.0)\n",
      "Requirement already satisfied: dataclasses-json<0.7,>=0.5.7 in /Users/jasonlau/.pyenv/versions/3.13.1/envs/langchain_venv/lib/python3.13/site-packages (from langchain-community) (0.6.7)\n",
      "Requirement already satisfied: pydantic-settings<3.0.0,>=2.4.0 in /Users/jasonlau/.pyenv/versions/3.13.1/envs/langchain_venv/lib/python3.13/site-packages (from langchain-community) (2.8.1)\n",
      "Requirement already satisfied: httpx-sse<1.0.0,>=0.4.0 in /Users/jasonlau/.pyenv/versions/3.13.1/envs/langchain_venv/lib/python3.13/site-packages (from langchain-community) (0.4.0)\n",
      "Requirement already satisfied: numpy<3,>=1.26.2 in /Users/jasonlau/.pyenv/versions/3.13.1/envs/langchain_venv/lib/python3.13/site-packages (from langchain-community) (2.2.3)\n",
      "Requirement already satisfied: langgraph-checkpoint<3.0.0,>=2.0.10 in /Users/jasonlau/.pyenv/versions/3.13.1/envs/langchain_venv/lib/python3.13/site-packages (from langgraph) (2.0.19)\n",
      "Requirement already satisfied: langgraph-prebuilt<0.2,>=0.1.1 in /Users/jasonlau/.pyenv/versions/3.13.1/envs/langchain_venv/lib/python3.13/site-packages (from langgraph) (0.1.2)\n",
      "Requirement already satisfied: click<9.0.0,>=8.1.7 in /Users/jasonlau/.pyenv/versions/3.13.1/envs/langchain_venv/lib/python3.13/site-packages (from langgraph-cli[inmem]) (8.1.8)\n",
      "Requirement already satisfied: langgraph-api<0.1.0,>=0.0.27 in /Users/jasonlau/.pyenv/versions/3.13.1/envs/langchain_venv/lib/python3.13/site-packages (from langgraph-cli[inmem]) (0.0.28)\n",
      "Requirement already satisfied: python-dotenv>=0.8.0 in /Users/jasonlau/.pyenv/versions/3.13.1/envs/langchain_venv/lib/python3.13/site-packages (from langgraph-cli[inmem]) (1.0.1)\n",
      "Requirement already satisfied: httpx>=0.25.2 in /Users/jasonlau/.pyenv/versions/3.13.1/envs/langchain_venv/lib/python3.13/site-packages (from langgraph-sdk) (0.28.1)\n",
      "Requirement already satisfied: orjson>=3.10.1 in /Users/jasonlau/.pyenv/versions/3.13.1/envs/langchain_venv/lib/python3.13/site-packages (from langgraph-sdk) (3.10.15)\n",
      "Requirement already satisfied: aiohappyeyeballs>=2.3.0 in /Users/jasonlau/.pyenv/versions/3.13.1/envs/langchain_venv/lib/python3.13/site-packages (from aiohttp<4.0.0,>=3.8.3->langchain-community) (2.6.1)\n",
      "Requirement already satisfied: aiosignal>=1.1.2 in /Users/jasonlau/.pyenv/versions/3.13.1/envs/langchain_venv/lib/python3.13/site-packages (from aiohttp<4.0.0,>=3.8.3->langchain-community) (1.3.2)\n",
      "Requirement already satisfied: attrs>=17.3.0 in /Users/jasonlau/.pyenv/versions/3.13.1/envs/langchain_venv/lib/python3.13/site-packages (from aiohttp<4.0.0,>=3.8.3->langchain-community) (25.2.0)\n",
      "Requirement already satisfied: frozenlist>=1.1.1 in /Users/jasonlau/.pyenv/versions/3.13.1/envs/langchain_venv/lib/python3.13/site-packages (from aiohttp<4.0.0,>=3.8.3->langchain-community) (1.5.0)\n",
      "Requirement already satisfied: multidict<7.0,>=4.5 in /Users/jasonlau/.pyenv/versions/3.13.1/envs/langchain_venv/lib/python3.13/site-packages (from aiohttp<4.0.0,>=3.8.3->langchain-community) (6.1.0)\n",
      "Requirement already satisfied: propcache>=0.2.0 in /Users/jasonlau/.pyenv/versions/3.13.1/envs/langchain_venv/lib/python3.13/site-packages (from aiohttp<4.0.0,>=3.8.3->langchain-community) (0.3.0)\n",
      "Requirement already satisfied: yarl<2.0,>=1.17.0 in /Users/jasonlau/.pyenv/versions/3.13.1/envs/langchain_venv/lib/python3.13/site-packages (from aiohttp<4.0.0,>=3.8.3->langchain-community) (1.18.3)\n",
      "Requirement already satisfied: marshmallow<4.0.0,>=3.18.0 in /Users/jasonlau/.pyenv/versions/3.13.1/envs/langchain_venv/lib/python3.13/site-packages (from dataclasses-json<0.7,>=0.5.7->langchain-community) (3.26.1)\n",
      "Requirement already satisfied: typing-inspect<1,>=0.4.0 in /Users/jasonlau/.pyenv/versions/3.13.1/envs/langchain_venv/lib/python3.13/site-packages (from dataclasses-json<0.7,>=0.5.7->langchain-community) (0.9.0)\n",
      "Requirement already satisfied: anyio in /Users/jasonlau/.pyenv/versions/3.13.1/envs/langchain_venv/lib/python3.13/site-packages (from httpx>=0.25.2->langgraph-sdk) (4.8.0)\n",
      "Requirement already satisfied: certifi in /Users/jasonlau/.pyenv/versions/3.13.1/envs/langchain_venv/lib/python3.13/site-packages (from httpx>=0.25.2->langgraph-sdk) (2025.1.31)\n",
      "Requirement already satisfied: httpcore==1.* in /Users/jasonlau/.pyenv/versions/3.13.1/envs/langchain_venv/lib/python3.13/site-packages (from httpx>=0.25.2->langgraph-sdk) (1.0.7)\n",
      "Requirement already satisfied: idna in /Users/jasonlau/.pyenv/versions/3.13.1/envs/langchain_venv/lib/python3.13/site-packages (from httpx>=0.25.2->langgraph-sdk) (3.10)\n",
      "Requirement already satisfied: h11<0.15,>=0.13 in /Users/jasonlau/.pyenv/versions/3.13.1/envs/langchain_venv/lib/python3.13/site-packages (from httpcore==1.*->httpx>=0.25.2->langgraph-sdk) (0.14.0)\n",
      "Requirement already satisfied: jsonpatch<2.0,>=1.33 in /Users/jasonlau/.pyenv/versions/3.13.1/envs/langchain_venv/lib/python3.13/site-packages (from langchain-core<1.0.0,>=0.3.41->langchain) (1.33)\n",
      "Requirement already satisfied: packaging<25,>=23.2 in /Users/jasonlau/.pyenv/versions/3.13.1/envs/langchain_venv/lib/python3.13/site-packages (from langchain-core<1.0.0,>=0.3.41->langchain) (24.2)\n",
      "Requirement already satisfied: typing-extensions>=4.7 in /Users/jasonlau/.pyenv/versions/3.13.1/envs/langchain_venv/lib/python3.13/site-packages (from langchain-core<1.0.0,>=0.3.41->langchain) (4.12.2)\n",
      "Requirement already satisfied: cryptography<44.0.0,>=43.0.3 in /Users/jasonlau/.pyenv/versions/3.13.1/envs/langchain_venv/lib/python3.13/site-packages (from langgraph-api<0.1.0,>=0.0.27->langgraph-cli[inmem]) (43.0.3)\n",
      "Requirement already satisfied: jsonschema-rs<0.21.0,>=0.20.0 in /Users/jasonlau/.pyenv/versions/3.13.1/envs/langchain_venv/lib/python3.13/site-packages (from langgraph-api<0.1.0,>=0.0.27->langgraph-cli[inmem]) (0.20.0)\n",
      "Requirement already satisfied: pyjwt<3.0.0,>=2.9.0 in /Users/jasonlau/.pyenv/versions/3.13.1/envs/langchain_venv/lib/python3.13/site-packages (from langgraph-api<0.1.0,>=0.0.27->langgraph-cli[inmem]) (2.10.1)\n",
      "Requirement already satisfied: sse-starlette<2.2.0,>=2.1.0 in /Users/jasonlau/.pyenv/versions/3.13.1/envs/langchain_venv/lib/python3.13/site-packages (from langgraph-api<0.1.0,>=0.0.27->langgraph-cli[inmem]) (2.1.3)\n",
      "Requirement already satisfied: starlette>=0.38.6 in /Users/jasonlau/.pyenv/versions/3.13.1/envs/langchain_venv/lib/python3.13/site-packages (from langgraph-api<0.1.0,>=0.0.27->langgraph-cli[inmem]) (0.46.1)\n",
      "Requirement already satisfied: structlog<26,>=24.1.0 in /Users/jasonlau/.pyenv/versions/3.13.1/envs/langchain_venv/lib/python3.13/site-packages (from langgraph-api<0.1.0,>=0.0.27->langgraph-cli[inmem]) (25.2.0)\n",
      "Requirement already satisfied: uvicorn>=0.26.0 in /Users/jasonlau/.pyenv/versions/3.13.1/envs/langchain_venv/lib/python3.13/site-packages (from langgraph-api<0.1.0,>=0.0.27->langgraph-cli[inmem]) (0.34.0)\n",
      "Requirement already satisfied: watchfiles>=0.13 in /Users/jasonlau/.pyenv/versions/3.13.1/envs/langchain_venv/lib/python3.13/site-packages (from langgraph-api<0.1.0,>=0.0.27->langgraph-cli[inmem]) (1.0.4)\n",
      "Requirement already satisfied: msgpack<2.0.0,>=1.1.0 in /Users/jasonlau/.pyenv/versions/3.13.1/envs/langchain_venv/lib/python3.13/site-packages (from langgraph-checkpoint<3.0.0,>=2.0.10->langgraph) (1.1.0)\n",
      "Requirement already satisfied: requests-toolbelt<2.0.0,>=1.0.0 in /Users/jasonlau/.pyenv/versions/3.13.1/envs/langchain_venv/lib/python3.13/site-packages (from langsmith<0.4,>=0.1.17->langchain) (1.0.0)\n",
      "Requirement already satisfied: zstandard<0.24.0,>=0.23.0 in /Users/jasonlau/.pyenv/versions/3.13.1/envs/langchain_venv/lib/python3.13/site-packages (from langsmith<0.4,>=0.1.17->langchain) (0.23.0)\n",
      "Requirement already satisfied: distro<2,>=1.7.0 in /Users/jasonlau/.pyenv/versions/3.13.1/envs/langchain_venv/lib/python3.13/site-packages (from openai<2.0.0,>=1.58.1->langchain-openai) (1.9.0)\n",
      "Requirement already satisfied: jiter<1,>=0.4.0 in /Users/jasonlau/.pyenv/versions/3.13.1/envs/langchain_venv/lib/python3.13/site-packages (from openai<2.0.0,>=1.58.1->langchain-openai) (0.9.0)\n",
      "Requirement already satisfied: sniffio in /Users/jasonlau/.pyenv/versions/3.13.1/envs/langchain_venv/lib/python3.13/site-packages (from openai<2.0.0,>=1.58.1->langchain-openai) (1.3.1)\n",
      "Requirement already satisfied: tqdm>4 in /Users/jasonlau/.pyenv/versions/3.13.1/envs/langchain_venv/lib/python3.13/site-packages (from openai<2.0.0,>=1.58.1->langchain-openai) (4.66.4)\n",
      "Requirement already satisfied: annotated-types>=0.6.0 in /Users/jasonlau/.pyenv/versions/3.13.1/envs/langchain_venv/lib/python3.13/site-packages (from pydantic<3.0.0,>=2.7.4->langchain) (0.7.0)\n",
      "Requirement already satisfied: pydantic-core==2.27.2 in /Users/jasonlau/.pyenv/versions/3.13.1/envs/langchain_venv/lib/python3.13/site-packages (from pydantic<3.0.0,>=2.7.4->langchain) (2.27.2)\n",
      "Requirement already satisfied: charset-normalizer<4,>=2 in /Users/jasonlau/.pyenv/versions/3.13.1/envs/langchain_venv/lib/python3.13/site-packages (from requests<3,>=2->langchain) (3.4.1)\n",
      "Requirement already satisfied: urllib3<3,>=1.21.1 in /Users/jasonlau/.pyenv/versions/3.13.1/envs/langchain_venv/lib/python3.13/site-packages (from requests<3,>=2->langchain) (2.3.0)\n",
      "Requirement already satisfied: regex>=2022.1.18 in /Users/jasonlau/.pyenv/versions/3.13.1/envs/langchain_venv/lib/python3.13/site-packages (from tiktoken<1,>=0.7->langchain-openai) (2024.11.6)\n",
      "Requirement already satisfied: cffi>=1.12 in /Users/jasonlau/.pyenv/versions/3.13.1/envs/langchain_venv/lib/python3.13/site-packages (from cryptography<44.0.0,>=43.0.3->langgraph-api<0.1.0,>=0.0.27->langgraph-cli[inmem]) (1.17.1)\n",
      "Requirement already satisfied: jsonpointer>=1.9 in /Users/jasonlau/.pyenv/versions/3.13.1/envs/langchain_venv/lib/python3.13/site-packages (from jsonpatch<2.0,>=1.33->langchain-core<1.0.0,>=0.3.41->langchain) (3.0.0)\n",
      "Requirement already satisfied: mypy-extensions>=0.3.0 in /Users/jasonlau/.pyenv/versions/3.13.1/envs/langchain_venv/lib/python3.13/site-packages (from typing-inspect<1,>=0.4.0->dataclasses-json<0.7,>=0.5.7->langchain-community) (1.0.0)\n",
      "Requirement already satisfied: pycparser in /Users/jasonlau/.pyenv/versions/3.13.1/envs/langchain_venv/lib/python3.13/site-packages (from cffi>=1.12->cryptography<44.0.0,>=43.0.3->langgraph-api<0.1.0,>=0.0.27->langgraph-cli[inmem]) (2.22)\n",
      "Downloading langgraph-0.3.10-py3-none-any.whl (132 kB)\n",
      "Downloading langgraph_sdk-0.1.57-py3-none-any.whl (46 kB)\n",
      "Installing collected packages: langgraph-sdk, langgraph\n",
      "  Attempting uninstall: langgraph-sdk\n",
      "    Found existing installation: langgraph-sdk 0.1.56\n",
      "    Uninstalling langgraph-sdk-0.1.56:\n",
      "      Successfully uninstalled langgraph-sdk-0.1.56\n",
      "  Attempting uninstall: langgraph\n",
      "    Found existing installation: langgraph 0.3.8\n",
      "    Uninstalling langgraph-0.3.8:\n",
      "      Successfully uninstalled langgraph-0.3.8\n",
      "Successfully installed langgraph-0.3.10 langgraph-sdk-0.1.57\n",
      "\n",
      "\u001b[1m[\u001b[0m\u001b[34;49mnotice\u001b[0m\u001b[1;39;49m]\u001b[0m\u001b[39;49m A new release of pip is available: \u001b[0m\u001b[31;49m24.3.1\u001b[0m\u001b[39;49m -> \u001b[0m\u001b[32;49m25.0.1\u001b[0m\n",
      "\u001b[1m[\u001b[0m\u001b[34;49mnotice\u001b[0m\u001b[1;39;49m]\u001b[0m\u001b[39;49m To update, run: \u001b[0m\u001b[32;49mpip install --upgrade pip\u001b[0m\n"
     ]
    }
   ],
   "source": [
    "# Install packages for deployment and SDK\n",
    "!pip install -U langchain langchain-openai langchain-community langgraph \"langgraph-cli[inmem]\" langgraph-sdk"
   ]
  },
  {
   "cell_type": "markdown",
   "metadata": {},
   "source": [
    "## Step 1 - Use LangGraph CLI to create template app"
   ]
  },
  {
   "cell_type": "code",
   "execution_count": 2,
   "metadata": {},
   "outputs": [
    {
     "name": "stdout",
     "output_type": "stream",
     "text": [
      "Usage: langgraph [OPTIONS] COMMAND [ARGS]...\n",
      "\n",
      "Options:\n",
      "  --version  Show the version and exit.\n",
      "  --help     Show this message and exit.\n",
      "\n",
      "Commands:\n",
      "  build       📦 Build LangGraph API server Docker image.\n",
      "  dev         🏃‍♀️‍➡️ Run LangGraph API server in development mode with...\n",
      "  dockerfile  🐳 Generate a Dockerfile for the LangGraph API server, with...\n",
      "  new         🌱 Create a new LangGraph project from a template.\n",
      "  up          🚀 Launch LangGraph API server.\n"
     ]
    }
   ],
   "source": [
    "# view the LangGraph CLI help\n",
    "!langgraph --help"
   ]
  },
  {
   "cell_type": "code",
   "execution_count": 3,
   "metadata": {},
   "outputs": [
    {
     "name": "stdout",
     "output_type": "stream",
     "text": [
      "Usage: langgraph new [OPTIONS] [PATH]\n",
      "\n",
      "  🌱 Create a new LangGraph project from a template.\n",
      "\n",
      "Options:\n",
      "  --template TEXT  The name of the template to use. Available options: new-\n",
      "                   langgraph-project-python new-langgraph-project-js react-\n",
      "                   agent-python react-agent-js memory-agent-python memory-\n",
      "                   agent-js retrieval-agent-python retrieval-agent-js data-\n",
      "                   enrichment-agent-python data-enrichment-agent-js\n",
      "  --help           Show this message and exit.\n"
     ]
    }
   ],
   "source": [
    "# view the LangGraph CLI new command help\n",
    "!langgraph new --help"
   ]
  },
  {
   "cell_type": "code",
   "execution_count": 4,
   "metadata": {},
   "outputs": [],
   "source": [
    "# Clean up prior to generating\n",
    "!rm -rf chat_app"
   ]
  },
  {
   "cell_type": "code",
   "execution_count": 5,
   "metadata": {},
   "outputs": [
    {
     "name": "stdout",
     "output_type": "stream",
     "text": [
      "\u001b[33m📥 Attempting to download repository as a ZIP archive...\u001b[0m\n",
      "\u001b[33mURL: https://github.com/langchain-ai/react-agent/archive/refs/heads/main.zip\u001b[0m\n",
      "\u001b[32m✅ Downloaded and extracted repository to /Volumes/CrucialSSD/Software/Developing_LLM_Applications/notebooks/chat_app\u001b[0m\n",
      "\u001b[32m\u001b[1m🎉 New project created at /Volumes/CrucialSSD/Software/Developing_LLM_Applications/notebooks/chat_app\u001b[0m\n"
     ]
    }
   ],
   "source": [
    "# Use LangGraph CLI to generate template for:\n",
    "# - ReAct agent for Python \n",
    "# - in chat_app directory\n",
    "!langgraph new --template react-agent-python chat_app"
   ]
  },
  {
   "cell_type": "markdown",
   "metadata": {},
   "source": [
    "## Step 2 - Install as package in editable mode"
   ]
  },
  {
   "cell_type": "code",
   "execution_count": 6,
   "metadata": {},
   "outputs": [
    {
     "name": "stdout",
     "output_type": "stream",
     "text": [
      "/Volumes/CrucialSSD/Software/Developing_LLM_Applications/notebooks/chat_app\n",
      "Obtaining file:///Volumes/CrucialSSD/Software/Developing_LLM_Applications/notebooks/chat_app\n",
      "  Installing build dependencies ... \u001b[?25ldone\n",
      "\u001b[?25h  Checking if build backend supports build_editable ... \u001b[?25ldone\n",
      "\u001b[?25h  Getting requirements to build editable ... \u001b[?25ldone\n",
      "\u001b[?25h  Preparing editable metadata (pyproject.toml) ... \u001b[?25ldone\n",
      "\u001b[?25hRequirement already satisfied: langgraph>=0.2.6 in /Users/jasonlau/.pyenv/versions/3.13.1/envs/langchain_venv/lib/python3.13/site-packages (from react-agent==0.0.1) (0.3.10)\n",
      "Requirement already satisfied: langchain-openai>=0.1.22 in /Users/jasonlau/.pyenv/versions/3.13.1/envs/langchain_venv/lib/python3.13/site-packages (from react-agent==0.0.1) (0.3.8)\n",
      "Requirement already satisfied: langchain-anthropic>=0.1.23 in /Users/jasonlau/.pyenv/versions/3.13.1/envs/langchain_venv/lib/python3.13/site-packages (from react-agent==0.0.1) (0.3.9)\n",
      "Requirement already satisfied: langchain>=0.2.14 in /Users/jasonlau/.pyenv/versions/3.13.1/envs/langchain_venv/lib/python3.13/site-packages (from react-agent==0.0.1) (0.3.20)\n",
      "Requirement already satisfied: langchain-fireworks>=0.1.7 in /Users/jasonlau/.pyenv/versions/3.13.1/envs/langchain_venv/lib/python3.13/site-packages (from react-agent==0.0.1) (0.2.7)\n",
      "Requirement already satisfied: python-dotenv>=1.0.1 in /Users/jasonlau/.pyenv/versions/3.13.1/envs/langchain_venv/lib/python3.13/site-packages (from react-agent==0.0.1) (1.0.1)\n",
      "Requirement already satisfied: langchain-community>=0.2.17 in /Users/jasonlau/.pyenv/versions/3.13.1/envs/langchain_venv/lib/python3.13/site-packages (from react-agent==0.0.1) (0.3.19)\n",
      "Requirement already satisfied: tavily-python>=0.4.0 in /Users/jasonlau/.pyenv/versions/3.13.1/envs/langchain_venv/lib/python3.13/site-packages (from react-agent==0.0.1) (0.5.1)\n",
      "Requirement already satisfied: langchain-core<1.0.0,>=0.3.41 in /Users/jasonlau/.pyenv/versions/3.13.1/envs/langchain_venv/lib/python3.13/site-packages (from langchain>=0.2.14->react-agent==0.0.1) (0.3.44)\n",
      "Requirement already satisfied: langchain-text-splitters<1.0.0,>=0.3.6 in /Users/jasonlau/.pyenv/versions/3.13.1/envs/langchain_venv/lib/python3.13/site-packages (from langchain>=0.2.14->react-agent==0.0.1) (0.3.6)\n",
      "Requirement already satisfied: langsmith<0.4,>=0.1.17 in /Users/jasonlau/.pyenv/versions/3.13.1/envs/langchain_venv/lib/python3.13/site-packages (from langchain>=0.2.14->react-agent==0.0.1) (0.3.13)\n",
      "Requirement already satisfied: pydantic<3.0.0,>=2.7.4 in /Users/jasonlau/.pyenv/versions/3.13.1/envs/langchain_venv/lib/python3.13/site-packages (from langchain>=0.2.14->react-agent==0.0.1) (2.10.6)\n",
      "Requirement already satisfied: SQLAlchemy<3,>=1.4 in /Users/jasonlau/.pyenv/versions/3.13.1/envs/langchain_venv/lib/python3.13/site-packages (from langchain>=0.2.14->react-agent==0.0.1) (2.0.39)\n",
      "Requirement already satisfied: requests<3,>=2 in /Users/jasonlau/.pyenv/versions/3.13.1/envs/langchain_venv/lib/python3.13/site-packages (from langchain>=0.2.14->react-agent==0.0.1) (2.32.3)\n",
      "Requirement already satisfied: PyYAML>=5.3 in /Users/jasonlau/.pyenv/versions/3.13.1/envs/langchain_venv/lib/python3.13/site-packages (from langchain>=0.2.14->react-agent==0.0.1) (6.0.2)\n",
      "Requirement already satisfied: anthropic<1,>=0.47.0 in /Users/jasonlau/.pyenv/versions/3.13.1/envs/langchain_venv/lib/python3.13/site-packages (from langchain-anthropic>=0.1.23->react-agent==0.0.1) (0.49.0)\n",
      "Requirement already satisfied: aiohttp<4.0.0,>=3.8.3 in /Users/jasonlau/.pyenv/versions/3.13.1/envs/langchain_venv/lib/python3.13/site-packages (from langchain-community>=0.2.17->react-agent==0.0.1) (3.11.13)\n",
      "Requirement already satisfied: tenacity!=8.4.0,<10,>=8.1.0 in /Users/jasonlau/.pyenv/versions/3.13.1/envs/langchain_venv/lib/python3.13/site-packages (from langchain-community>=0.2.17->react-agent==0.0.1) (9.0.0)\n",
      "Requirement already satisfied: dataclasses-json<0.7,>=0.5.7 in /Users/jasonlau/.pyenv/versions/3.13.1/envs/langchain_venv/lib/python3.13/site-packages (from langchain-community>=0.2.17->react-agent==0.0.1) (0.6.7)\n",
      "Requirement already satisfied: pydantic-settings<3.0.0,>=2.4.0 in /Users/jasonlau/.pyenv/versions/3.13.1/envs/langchain_venv/lib/python3.13/site-packages (from langchain-community>=0.2.17->react-agent==0.0.1) (2.8.1)\n",
      "Requirement already satisfied: httpx-sse<1.0.0,>=0.4.0 in /Users/jasonlau/.pyenv/versions/3.13.1/envs/langchain_venv/lib/python3.13/site-packages (from langchain-community>=0.2.17->react-agent==0.0.1) (0.4.0)\n",
      "Requirement already satisfied: numpy<3,>=1.26.2 in /Users/jasonlau/.pyenv/versions/3.13.1/envs/langchain_venv/lib/python3.13/site-packages (from langchain-community>=0.2.17->react-agent==0.0.1) (2.2.3)\n",
      "Requirement already satisfied: fireworks-ai>=0.13.0 in /Users/jasonlau/.pyenv/versions/3.13.1/envs/langchain_venv/lib/python3.13/site-packages (from langchain-fireworks>=0.1.7->react-agent==0.0.1) (0.15.12)\n",
      "Requirement already satisfied: openai<2.0.0,>=1.10.0 in /Users/jasonlau/.pyenv/versions/3.13.1/envs/langchain_venv/lib/python3.13/site-packages (from langchain-fireworks>=0.1.7->react-agent==0.0.1) (1.65.1)\n",
      "Requirement already satisfied: tiktoken<1,>=0.7 in /Users/jasonlau/.pyenv/versions/3.13.1/envs/langchain_venv/lib/python3.13/site-packages (from langchain-openai>=0.1.22->react-agent==0.0.1) (0.9.0)\n",
      "Requirement already satisfied: langgraph-checkpoint<3.0.0,>=2.0.10 in /Users/jasonlau/.pyenv/versions/3.13.1/envs/langchain_venv/lib/python3.13/site-packages (from langgraph>=0.2.6->react-agent==0.0.1) (2.0.19)\n",
      "Requirement already satisfied: langgraph-prebuilt<0.2,>=0.1.1 in /Users/jasonlau/.pyenv/versions/3.13.1/envs/langchain_venv/lib/python3.13/site-packages (from langgraph>=0.2.6->react-agent==0.0.1) (0.1.2)\n",
      "Requirement already satisfied: langgraph-sdk<0.2.0,>=0.1.42 in /Users/jasonlau/.pyenv/versions/3.13.1/envs/langchain_venv/lib/python3.13/site-packages (from langgraph>=0.2.6->react-agent==0.0.1) (0.1.57)\n",
      "Requirement already satisfied: httpx in /Users/jasonlau/.pyenv/versions/3.13.1/envs/langchain_venv/lib/python3.13/site-packages (from tavily-python>=0.4.0->react-agent==0.0.1) (0.28.1)\n",
      "Requirement already satisfied: aiohappyeyeballs>=2.3.0 in /Users/jasonlau/.pyenv/versions/3.13.1/envs/langchain_venv/lib/python3.13/site-packages (from aiohttp<4.0.0,>=3.8.3->langchain-community>=0.2.17->react-agent==0.0.1) (2.6.1)\n",
      "Requirement already satisfied: aiosignal>=1.1.2 in /Users/jasonlau/.pyenv/versions/3.13.1/envs/langchain_venv/lib/python3.13/site-packages (from aiohttp<4.0.0,>=3.8.3->langchain-community>=0.2.17->react-agent==0.0.1) (1.3.2)\n",
      "Requirement already satisfied: attrs>=17.3.0 in /Users/jasonlau/.pyenv/versions/3.13.1/envs/langchain_venv/lib/python3.13/site-packages (from aiohttp<4.0.0,>=3.8.3->langchain-community>=0.2.17->react-agent==0.0.1) (25.2.0)\n",
      "Requirement already satisfied: frozenlist>=1.1.1 in /Users/jasonlau/.pyenv/versions/3.13.1/envs/langchain_venv/lib/python3.13/site-packages (from aiohttp<4.0.0,>=3.8.3->langchain-community>=0.2.17->react-agent==0.0.1) (1.5.0)\n",
      "Requirement already satisfied: multidict<7.0,>=4.5 in /Users/jasonlau/.pyenv/versions/3.13.1/envs/langchain_venv/lib/python3.13/site-packages (from aiohttp<4.0.0,>=3.8.3->langchain-community>=0.2.17->react-agent==0.0.1) (6.1.0)\n",
      "Requirement already satisfied: propcache>=0.2.0 in /Users/jasonlau/.pyenv/versions/3.13.1/envs/langchain_venv/lib/python3.13/site-packages (from aiohttp<4.0.0,>=3.8.3->langchain-community>=0.2.17->react-agent==0.0.1) (0.3.0)\n",
      "Requirement already satisfied: yarl<2.0,>=1.17.0 in /Users/jasonlau/.pyenv/versions/3.13.1/envs/langchain_venv/lib/python3.13/site-packages (from aiohttp<4.0.0,>=3.8.3->langchain-community>=0.2.17->react-agent==0.0.1) (1.18.3)\n",
      "Requirement already satisfied: anyio<5,>=3.5.0 in /Users/jasonlau/.pyenv/versions/3.13.1/envs/langchain_venv/lib/python3.13/site-packages (from anthropic<1,>=0.47.0->langchain-anthropic>=0.1.23->react-agent==0.0.1) (4.8.0)\n",
      "Requirement already satisfied: distro<2,>=1.7.0 in /Users/jasonlau/.pyenv/versions/3.13.1/envs/langchain_venv/lib/python3.13/site-packages (from anthropic<1,>=0.47.0->langchain-anthropic>=0.1.23->react-agent==0.0.1) (1.9.0)\n",
      "Requirement already satisfied: jiter<1,>=0.4.0 in /Users/jasonlau/.pyenv/versions/3.13.1/envs/langchain_venv/lib/python3.13/site-packages (from anthropic<1,>=0.47.0->langchain-anthropic>=0.1.23->react-agent==0.0.1) (0.9.0)\n",
      "Requirement already satisfied: sniffio in /Users/jasonlau/.pyenv/versions/3.13.1/envs/langchain_venv/lib/python3.13/site-packages (from anthropic<1,>=0.47.0->langchain-anthropic>=0.1.23->react-agent==0.0.1) (1.3.1)\n",
      "Requirement already satisfied: typing-extensions<5,>=4.10 in /Users/jasonlau/.pyenv/versions/3.13.1/envs/langchain_venv/lib/python3.13/site-packages (from anthropic<1,>=0.47.0->langchain-anthropic>=0.1.23->react-agent==0.0.1) (4.12.2)\n",
      "Requirement already satisfied: marshmallow<4.0.0,>=3.18.0 in /Users/jasonlau/.pyenv/versions/3.13.1/envs/langchain_venv/lib/python3.13/site-packages (from dataclasses-json<0.7,>=0.5.7->langchain-community>=0.2.17->react-agent==0.0.1) (3.26.1)\n",
      "Requirement already satisfied: typing-inspect<1,>=0.4.0 in /Users/jasonlau/.pyenv/versions/3.13.1/envs/langchain_venv/lib/python3.13/site-packages (from dataclasses-json<0.7,>=0.5.7->langchain-community>=0.2.17->react-agent==0.0.1) (0.9.0)\n",
      "Requirement already satisfied: httpx-ws in /Users/jasonlau/.pyenv/versions/3.13.1/envs/langchain_venv/lib/python3.13/site-packages (from fireworks-ai>=0.13.0->langchain-fireworks>=0.1.7->react-agent==0.0.1) (0.7.1)\n",
      "Requirement already satisfied: Pillow in /Users/jasonlau/.pyenv/versions/3.13.1/envs/langchain_venv/lib/python3.13/site-packages (from fireworks-ai>=0.13.0->langchain-fireworks>=0.1.7->react-agent==0.0.1) (11.1.0)\n",
      "Requirement already satisfied: certifi in /Users/jasonlau/.pyenv/versions/3.13.1/envs/langchain_venv/lib/python3.13/site-packages (from httpx->tavily-python>=0.4.0->react-agent==0.0.1) (2025.1.31)\n",
      "Requirement already satisfied: httpcore==1.* in /Users/jasonlau/.pyenv/versions/3.13.1/envs/langchain_venv/lib/python3.13/site-packages (from httpx->tavily-python>=0.4.0->react-agent==0.0.1) (1.0.7)\n",
      "Requirement already satisfied: idna in /Users/jasonlau/.pyenv/versions/3.13.1/envs/langchain_venv/lib/python3.13/site-packages (from httpx->tavily-python>=0.4.0->react-agent==0.0.1) (3.10)\n",
      "Requirement already satisfied: h11<0.15,>=0.13 in /Users/jasonlau/.pyenv/versions/3.13.1/envs/langchain_venv/lib/python3.13/site-packages (from httpcore==1.*->httpx->tavily-python>=0.4.0->react-agent==0.0.1) (0.14.0)\n",
      "Requirement already satisfied: jsonpatch<2.0,>=1.33 in /Users/jasonlau/.pyenv/versions/3.13.1/envs/langchain_venv/lib/python3.13/site-packages (from langchain-core<1.0.0,>=0.3.41->langchain>=0.2.14->react-agent==0.0.1) (1.33)\n",
      "Requirement already satisfied: packaging<25,>=23.2 in /Users/jasonlau/.pyenv/versions/3.13.1/envs/langchain_venv/lib/python3.13/site-packages (from langchain-core<1.0.0,>=0.3.41->langchain>=0.2.14->react-agent==0.0.1) (24.2)\n",
      "Requirement already satisfied: msgpack<2.0.0,>=1.1.0 in /Users/jasonlau/.pyenv/versions/3.13.1/envs/langchain_venv/lib/python3.13/site-packages (from langgraph-checkpoint<3.0.0,>=2.0.10->langgraph>=0.2.6->react-agent==0.0.1) (1.1.0)\n",
      "Requirement already satisfied: orjson>=3.10.1 in /Users/jasonlau/.pyenv/versions/3.13.1/envs/langchain_venv/lib/python3.13/site-packages (from langgraph-sdk<0.2.0,>=0.1.42->langgraph>=0.2.6->react-agent==0.0.1) (3.10.15)\n",
      "Requirement already satisfied: requests-toolbelt<2.0.0,>=1.0.0 in /Users/jasonlau/.pyenv/versions/3.13.1/envs/langchain_venv/lib/python3.13/site-packages (from langsmith<0.4,>=0.1.17->langchain>=0.2.14->react-agent==0.0.1) (1.0.0)\n",
      "Requirement already satisfied: zstandard<0.24.0,>=0.23.0 in /Users/jasonlau/.pyenv/versions/3.13.1/envs/langchain_venv/lib/python3.13/site-packages (from langsmith<0.4,>=0.1.17->langchain>=0.2.14->react-agent==0.0.1) (0.23.0)\n",
      "Requirement already satisfied: tqdm>4 in /Users/jasonlau/.pyenv/versions/3.13.1/envs/langchain_venv/lib/python3.13/site-packages (from openai<2.0.0,>=1.10.0->langchain-fireworks>=0.1.7->react-agent==0.0.1) (4.66.4)\n",
      "Requirement already satisfied: annotated-types>=0.6.0 in /Users/jasonlau/.pyenv/versions/3.13.1/envs/langchain_venv/lib/python3.13/site-packages (from pydantic<3.0.0,>=2.7.4->langchain>=0.2.14->react-agent==0.0.1) (0.7.0)\n",
      "Requirement already satisfied: pydantic-core==2.27.2 in /Users/jasonlau/.pyenv/versions/3.13.1/envs/langchain_venv/lib/python3.13/site-packages (from pydantic<3.0.0,>=2.7.4->langchain>=0.2.14->react-agent==0.0.1) (2.27.2)\n",
      "Requirement already satisfied: charset-normalizer<4,>=2 in /Users/jasonlau/.pyenv/versions/3.13.1/envs/langchain_venv/lib/python3.13/site-packages (from requests<3,>=2->langchain>=0.2.14->react-agent==0.0.1) (3.4.1)\n",
      "Requirement already satisfied: urllib3<3,>=1.21.1 in /Users/jasonlau/.pyenv/versions/3.13.1/envs/langchain_venv/lib/python3.13/site-packages (from requests<3,>=2->langchain>=0.2.14->react-agent==0.0.1) (2.3.0)\n",
      "Requirement already satisfied: regex>=2022.1.18 in /Users/jasonlau/.pyenv/versions/3.13.1/envs/langchain_venv/lib/python3.13/site-packages (from tiktoken<1,>=0.7->langchain-openai>=0.1.22->react-agent==0.0.1) (2024.11.6)\n",
      "Requirement already satisfied: jsonpointer>=1.9 in /Users/jasonlau/.pyenv/versions/3.13.1/envs/langchain_venv/lib/python3.13/site-packages (from jsonpatch<2.0,>=1.33->langchain-core<1.0.0,>=0.3.41->langchain>=0.2.14->react-agent==0.0.1) (3.0.0)\n",
      "Requirement already satisfied: mypy-extensions>=0.3.0 in /Users/jasonlau/.pyenv/versions/3.13.1/envs/langchain_venv/lib/python3.13/site-packages (from typing-inspect<1,>=0.4.0->dataclasses-json<0.7,>=0.5.7->langchain-community>=0.2.17->react-agent==0.0.1) (1.0.0)\n",
      "Requirement already satisfied: wsproto in /Users/jasonlau/.pyenv/versions/3.13.1/envs/langchain_venv/lib/python3.13/site-packages (from httpx-ws->fireworks-ai>=0.13.0->langchain-fireworks>=0.1.7->react-agent==0.0.1) (1.2.0)\n",
      "Building wheels for collected packages: react-agent\n",
      "  Building editable for react-agent (pyproject.toml) ... \u001b[?25ldone\n",
      "\u001b[?25h  Created wheel for react-agent: filename=react_agent-0.0.1-0.editable-py3-none-any.whl size=6976 sha256=757c0a0d720241d594d6db9c96904870c01251ed7edf74d3bbafb9902196ffe7\n",
      "  Stored in directory: /private/var/folders/jw/ft66857d2c13dsmc9514zfkw0000gn/T/pip-ephem-wheel-cache-qmtuv3jo/wheels/f2/8c/7b/5497d9f64ff9dad6b636bb3fdf1e57bf9081ba34b7aca11a27\n",
      "Successfully built react-agent\n",
      "Installing collected packages: react-agent\n",
      "  Attempting uninstall: react-agent\n",
      "    Found existing installation: react-agent 0.0.1\n",
      "    Uninstalling react-agent-0.0.1:\n",
      "      Successfully uninstalled react-agent-0.0.1\n",
      "Successfully installed react-agent-0.0.1\n",
      "\n",
      "\u001b[1m[\u001b[0m\u001b[34;49mnotice\u001b[0m\u001b[1;39;49m]\u001b[0m\u001b[39;49m A new release of pip is available: \u001b[0m\u001b[31;49m24.3.1\u001b[0m\u001b[39;49m -> \u001b[0m\u001b[32;49m25.0.1\u001b[0m\n",
      "\u001b[1m[\u001b[0m\u001b[34;49mnotice\u001b[0m\u001b[1;39;49m]\u001b[0m\u001b[39;49m To update, run: \u001b[0m\u001b[32;49mpip install --upgrade pip\u001b[0m\n"
     ]
    }
   ],
   "source": [
    "%cd chat_app \n",
    "!pip install -e ."
   ]
  },
  {
   "cell_type": "code",
   "execution_count": 7,
   "metadata": {},
   "outputs": [
    {
     "name": "stdout",
     "output_type": "stream",
     "text": [
      "react-agent              0.0.1       /Volumes/CrucialSSD/Software/Developing_LLM_Applications/notebooks/chat_app\n"
     ]
    }
   ],
   "source": [
    "# Verify package installed as editable mode\n",
    "!pip list | grep react-agent"
   ]
  },
  {
   "cell_type": "markdown",
   "metadata": {},
   "source": [
    "## Step 3 - Customize to use Ollama local LLM (Optional)\n",
    "- edit chat_app/react_agent/graph.py\n",
    "    - add this import near top\n",
    "    ```\n",
    "    from langchain_openai import ChatOpenAI\n",
    "    ```\n",
    "    - search for this line\n",
    "    ```\n",
    "    # Initialize the model with tool binding. Change the model or add more tools here.\n",
    "    model = load_chat_model(configuration.model).bind_tools(TOOLS)\n",
    "    ```\n",
    "    - edit to\n",
    "    ```\n",
    "    # Initialize the model with tool binding. Change the model or add more tools here.\n",
    "    # model = load_chat_model(configuration.model).bind_tools(TOOLS)\n",
    "    model = ChatOpenAI(\n",
    "        model=\"llama3.2:1b-instruct-q4_0\",\n",
    "        base_url=\"http://localhost:11434/v1\",\n",
    "        api_key=\"not-needed\").bind_tools(TOOLS)\n",
    "    ```"
   ]
  },
  {
   "cell_type": "markdown",
   "metadata": {},
   "source": [
    "## Step 4 - Pull llama3.2:1b model (Optional)"
   ]
  },
  {
   "cell_type": "code",
   "execution_count": 8,
   "metadata": {},
   "outputs": [
    {
     "name": "stdout",
     "output_type": "stream",
     "text": [
      "\u001b[?2026h\u001b[?25l\u001b[1Gpulling manifest ⠋ \u001b[K\u001b[?25h\u001b[?2026l\u001b[?2026h\u001b[?25l\u001b[1Gpulling manifest ⠙ \u001b[K\u001b[?25h\u001b[?2026l\u001b[?2026h\u001b[?25l\u001b[1Gpulling manifest ⠹ \u001b[K\u001b[?25h\u001b[?2026l\u001b[?2026h\u001b[?25l\u001b[1Gpulling manifest ⠸ \u001b[K\u001b[?25h\u001b[?2026l\u001b[?2026h\u001b[?25l\u001b[1Gpulling manifest ⠼ \u001b[K\u001b[?25h\u001b[?2026l\u001b[?2026h\u001b[?25l\u001b[1Gpulling manifest ⠴ \u001b[K\u001b[?25h\u001b[?2026l\u001b[?2026h\u001b[?25l\u001b[1Gpulling manifest ⠦ \u001b[K\u001b[?25h\u001b[?2026l\u001b[?2026h\u001b[?25l\u001b[1Gpulling manifest ⠧ \u001b[K\u001b[?25h\u001b[?2026l\u001b[?2026h\u001b[?25l\u001b[1Gpulling manifest ⠇ \u001b[K\u001b[?25h\u001b[?2026l\u001b[?2026h\u001b[?25l\u001b[1Gpulling manifest ⠏ \u001b[K\u001b[?25h\u001b[?2026l\u001b[?2026h\u001b[?25l\u001b[1Gpulling manifest ⠋ \u001b[K\u001b[?25h\u001b[?2026l\u001b[?2026h\u001b[?25l\u001b[1Gpulling manifest ⠙ \u001b[K\u001b[?25h\u001b[?2026l\u001b[?2026h\u001b[?25l\u001b[1Gpulling manifest ⠹ \u001b[K\u001b[?25h\u001b[?2026l\u001b[?2026h\u001b[?25l\u001b[1Gpulling manifest ⠸ \u001b[K\u001b[?25h\u001b[?2026l\u001b[?2026h\u001b[?25l\u001b[1Gpulling manifest ⠼ \u001b[K\u001b[?25h\u001b[?2026l\u001b[?2026h\u001b[?25l\u001b[1Gpulling manifest ⠴ \u001b[K\u001b[?25h\u001b[?2026l\u001b[?2026h\u001b[?25l\u001b[1Gpulling manifest ⠦ \u001b[K\u001b[?25h\u001b[?2026l\u001b[?2026h\u001b[?25l\u001b[1Gpulling manifest \u001b[K\n",
      "pulling b98b382ad859... 100% ▕████████████████▏ 770 MB                         \u001b[K\n",
      "pulling 966de95ca8a6... 100% ▕████████████████▏ 1.4 KB                         \u001b[K\n",
      "pulling fcc5a6bec9da... 100% ▕████████████████▏ 7.7 KB                         \u001b[K\n",
      "pulling a70ff7e570d9... 100% ▕████████████████▏ 6.0 KB                         \u001b[K\n",
      "pulling e9e2eec515fb... 100% ▕████████████████▏  485 B                         \u001b[K\n",
      "verifying sha256 digest \u001b[K\n",
      "writing manifest \u001b[K\n",
      "success \u001b[K\u001b[?25h\u001b[?2026l\n"
     ]
    }
   ],
   "source": [
    "!ollama pull llama3.2:1b-instruct-q4_0"
   ]
  },
  {
   "cell_type": "markdown",
   "metadata": {},
   "source": [
    "## Step 5 - setup .env (in chat_app dir)\n",
    "- OPENAI_API_KEY not needed if using ollama option\n",
    "```\n",
    "LANGCHAIN_TRACING_V2=true\n",
    "LANGCHAIN_PROJECT=005_deploy_lab\n",
    "LANGCHAIN_API_KEY=xx\n",
    "TAVILY_API_KEY=xx\n",
    "OPENAI_API_KEY=xx\n",
    "```"
   ]
  },
  {
   "cell_type": "markdown",
   "metadata": {},
   "source": [
    "## Step 6 start local dev env\n",
    "- open integrated terminal in chat_app folder\n",
    "- type `langgraph dev`\n",
    "    - will spawn \n",
    "        - API server on localhost\n",
    "        - Studio UI on LangSmith site\n",
    "            - login with your creds"
   ]
  },
  {
   "cell_type": "markdown",
   "metadata": {},
   "source": [
    "## Step 7 Interact via LangGraph SDK\n",
    "- update to correct port on localhost\n"
   ]
  },
  {
   "cell_type": "code",
   "execution_count": 9,
   "metadata": {},
   "outputs": [],
   "source": [
    "# Connect via SDK\n",
    "url_for_cli_deployment = \"http://localhost:2024\""
   ]
  },
  {
   "cell_type": "markdown",
   "metadata": {},
   "source": [
    "## Streaming Runs\n",
    "* Each time a client makes a streaming request:\n",
    "    * The HTTP worker generates a unique run ID\n",
    "    * The Queue worker begins work on the run\n",
    "    * During execution, the Queue worker publishes update to Redis\n",
    "    * The HTTP worker subscribes to updates from Redis for ths run, and returns them to the client"
   ]
  },
  {
   "cell_type": "code",
   "execution_count": 10,
   "metadata": {},
   "outputs": [
    {
     "name": "stdout",
     "output_type": "stream",
     "text": [
      "[{\"title\": \"The Last 10 Super Bowl Winners - Ticketmaster Blog\", \"url\": \"https://blog.ticketmaster.com/super-bowl-winners/\", \"content\": \"The Kansas City Chiefs defeated the Philadelphia Eagles to win 38–35, led by a stellar performance from quarterback Patrick Mahomes.\", \"score\": 0.7876867}, {\"title\": \"List of Super Bowl Winners - Topend Sports\", \"url\": \"https://www.topendsports.com/events/super-bowl/winners-list.htm\", \"content\": \"Super Bowl Winners ; LI, 2017, New England Patriots ; L · 2016, Denver Broncos ; XLIX, 2015, New England Patriots ; XLVIII, 2014, Seattle Seahawks\", \"score\": 0.7746691}, {\"title\": \"Super Bowl Winners and Results | FOX Sports\", \"url\": \"https://www.foxsports.com/nfl-super-bowl-winners-and-results\", \"content\": \"| III | Miami Orange Bowl | Jan. 12, 1969 | New York Jets 16, Baltimore 7 | | XVIII | Tampa Stadium | Jan. 22, 1984 | Los Angeles Raiders 38, Washington 9 | | XIX | Stanford Stadium | Jan. 20, 1985 | San Francisco 38, Miami 16 | | XXI | Rose Bowl | Jan. 25, 1987 | New York Giants 39, Denver 20 | | XXV | Tampa Stadium | Jan. 27, 1991 | New York Giants 20, Buffalo 19 | | XXXV | Raymond James Stadium | Jan. 28, 2001 | Baltimore 34, New York Giants 7 | | LIII | Mercedes-Benz Stadium | Feb. 3, 2019 | New England 13, Los Angeles Rams 3 |\", \"score\": 0.75268626}, {\"title\": \"Who has won the Super Bowl throughout history? Full list of winners ...\", \"url\": \"https://www.cbsnews.com/news/super-bowl-winners-list-history/\", \"content\": \"2021: Tampa Bay Buccaneers — The Buccaneers dominated the Kansas City Chiefs in a 31-9 win, with Tom Brady, in his first season after leaving the New England Patriots, winning his seventh Super Bowl. 2020: Kansas City Chiefs — The Chiefs beat the San Francisco 49ers 31-20 for quarterback Patrick Mahomes' first Super Bowl win, scoring 21 unanswered points in the fourth quarter after going down by 10 in the third. 2015: New England Patriots — The Seattle Seahawks appeared to be on the verge of what would have been a second straight Super Bowl victory, but, with the team forgoing a run play from the 1-yard line, quarterback Russell Wilson was picked off in the closing seconds of the game to preserve the Patriots' 28-24 lead.\", \"score\": 0.741169}, {\"title\": \"List of Super Bowl champions - Wikipedia\", \"url\": \"https://en.wikipedia.org/wiki/List_of_Super_Bowl_champions\", \"content\": \"I: Green Bay Packers II: Green Bay Packers III: New York Jets IV: Kansas City Chiefs V: Baltimore Colts VI: Dallas Cowboys VII: Miami Dolphins VIII: Miami Dolphins IX: Pittsburgh Steelers X: Pittsburgh Steelers XI: Oakland Raiders XII: Dallas Cowboys XIII: Pittsburgh Steelers XIV: Pittsburgh Steelers XV: Oakland Raiders XVI: San Francisco 49ers XVII: Washington Redskins XVIII: Los Angeles Raiders XIX: San Francisco 49ers XX: Chicago Bears XXI: New York Giants XXII: Washington Redskins XXIII: San Francisco 49ers XXIV: San Francisco 49ers XXV: New York Giants XXVI: Washington Redskins XXVII: Dallas Cowboys XXVIII: Dallas Cowboys XXIX: San Francisco 49ers XXX: Dallas Cowboys XXXI: Green Bay Packers XXXII: Denver Broncos XXXIII: Denver Broncos XXXIV: St. Louis Rams XXXV: Baltimore Ravens XXXVI: New England Patriots XXXVII: Tampa Bay Buccaneers XXXVIII: New England Patriots XXXIX: New England Patriots XL: Pittsburgh Steelers XLI: Indianapolis Colts XLII: New York Giants XLIII: Pittsburgh Steelers XLIV: New Orleans Saints XLV: Green Bay PackersXLVI: New York GiantsXLVII: Baltimore RavensXLVIII: Seattle SeahawksXLIX: New England Patriots50: Denver BroncosLI: New England PatriotsLII: Philadelphia EaglesLIII: New England PatriotsLIV: Kansas City ChiefsLV: Tampa Bay BuccaneersLVI: Los Angeles RamsLVII: Kansas City ChiefsLVIII: Kansas City ChiefsLIX: Philadelphia Eagles\", \"score\": 0.7371019}, {\"title\": \"Super Bowl - Wikipedia\", \"url\": \"https://en.wikipedia.org/wiki/Super_Bowl\", \"content\": \"One year later, the AFL's Kansas City Chiefs defeated the NFL's Minnesota Vikings 23–7 in Super Bowl IV in New Orleans, which was the final AFL–NFL World Championship Game played before the merger. The winning team receives the Vince Lombardi Trophy, named after the former coach of the Green Bay Packers, who won the first two Super Bowl games as well as five NFL championships preceding the merger (1961, 1962, 1965, 1966, 1967).\", \"score\": 0.64773196}, {\"title\": \"Who Played in (and Won!) the Last 10 Super Bowls? - People.com\", \"url\": \"https://people.com/super-bowl-winners-of-the-past-10-years-8788180\", \"content\": \"New England Patriots ... Super Bowl LII saw the Philadelphia Eagles triumphantly defeat the New England Patriots 41-33 in the game played in\", \"score\": 0.49655825}, {\"title\": \"Notable changes in football since Philadelphia Eagles' last Super ...\", \"url\": \"https://www.espn.com/nfl/story/_/id/43726646/philadelphia-eagles-super-bowl-lix-capsule-football-world-trends\", \"content\": \"The Philadelphia Eagles defeated the Kansas City Chiefs 40-22 in Super Bowl LIX on Sunday. Editor's Picks. Super Bowl LIX highlights: Eagles\", \"score\": 0.42233846}, {\"title\": \"Super Bowl Winners by Year - ESPN\", \"url\": \"http://www.espn.com/nfl/superbowl/history/winners\", \"content\": \"Super Bowl Winners by Year - ESPN NFL History - Super Bowl Winners Leaders Super Bowl Winners Super Bowl MVPs SPORTS NBA College Football Olympic Sports Horse Racing Football ESPN THE MAGAZINE TEAM ESPN ESPN FRONT ROW ESPN NBA More Sports Gaming NBA G League NBA Summer League RN BB RN FB Sports Betting X Games ESPN BET ESPN+ Super Bowl Fantasy Football Super Bowl Winners Weekly Leaders ESPN.com: Help | Press | Advertise on ESPN.com | Sales Media Kit | Interest-Based Ads | Do Not Sell or Share My Personal Information | Report a Bug | Corrections | Contact Us | Site Map | Jobs at ESPN © 2025 ESPN Internet Ventures.\", \"score\": 0.20296437}]The last Super Bowl winner was the Tampa Bay Buccaneers, who won Super Bowl LIV (54) and Super Bowl LV (55)."
     ]
    }
   ],
   "source": [
    "from langchain_core.messages import HumanMessage\n",
    "from langgraph_sdk import get_client\n",
    "\n",
    "config = {\"configurable\": {\"user_id\": \"user1\"}}\n",
    "graph_name = \"agent\" \n",
    "client = get_client(url=url_for_cli_deployment)\n",
    "\n",
    "thread = await client.threads.create()\n",
    "user_input = \"Who won the last superbowl?\"\n",
    "async for chunk in client.runs.stream(thread[\"thread_id\"], \n",
    "                                      graph_name, \n",
    "                                      input={\"messages\": [HumanMessage(content=user_input)]},\n",
    "                                      config=config,\n",
    "                                      stream_mode=\"messages-tuple\"):\n",
    "\n",
    "    if chunk.event == \"messages\":\n",
    "        print(\"\".join(data_item['content'] for data_item in chunk.data if 'content' in data_item), end=\"\", flush=True)"
   ]
  }
 ],
 "metadata": {
  "kernelspec": {
   "display_name": "langchain_venv",
   "language": "python",
   "name": "python3"
  },
  "language_info": {
   "codemirror_mode": {
    "name": "ipython",
    "version": 3
   },
   "file_extension": ".py",
   "mimetype": "text/x-python",
   "name": "python",
   "nbconvert_exporter": "python",
   "pygments_lexer": "ipython3",
   "version": "3.13.1"
  }
 },
 "nbformat": 4,
 "nbformat_minor": 2
}
