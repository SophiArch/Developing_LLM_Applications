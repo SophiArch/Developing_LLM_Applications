{
 "cells": [
  {
   "cell_type": "markdown",
   "metadata": {},
   "source": [
    "# Module 5 - Lab 1 - Deploy\n",
    "## Pre-requisites\n",
    "> handled by codespace custom initialization\n",
    "- ollama installed and running \n",
    "- python packages \n",
    "    - langchain\n",
    "    - langchain-openai\n",
    "    - langchain-community\n",
    "    - langgraph"
   ]
  },
  {
   "cell_type": "code",
   "execution_count": 1,
   "metadata": {},
   "outputs": [
    {
     "name": "stdout",
     "output_type": "stream",
     "text": [
      "Requirement already satisfied: langgraph-sdk in /Users/jasonlau/.pyenv/versions/3.13.1/envs/langchain_venv/lib/python3.13/site-packages (0.1.56)\n",
      "Requirement already satisfied: langgraph-cli[inmem] in /Users/jasonlau/.pyenv/versions/3.13.1/envs/langchain_venv/lib/python3.13/site-packages (0.1.76)\n",
      "Requirement already satisfied: click<9.0.0,>=8.1.7 in /Users/jasonlau/.pyenv/versions/3.13.1/envs/langchain_venv/lib/python3.13/site-packages (from langgraph-cli[inmem]) (8.1.8)\n",
      "Requirement already satisfied: langgraph-api<0.1.0,>=0.0.27 in /Users/jasonlau/.pyenv/versions/3.13.1/envs/langchain_venv/lib/python3.13/site-packages (from langgraph-cli[inmem]) (0.0.28)\n",
      "Requirement already satisfied: python-dotenv>=0.8.0 in /Users/jasonlau/.pyenv/versions/3.13.1/envs/langchain_venv/lib/python3.13/site-packages (from langgraph-cli[inmem]) (1.0.1)\n",
      "Requirement already satisfied: httpx>=0.25.2 in /Users/jasonlau/.pyenv/versions/3.13.1/envs/langchain_venv/lib/python3.13/site-packages (from langgraph-sdk) (0.28.1)\n",
      "Requirement already satisfied: orjson>=3.10.1 in /Users/jasonlau/.pyenv/versions/3.13.1/envs/langchain_venv/lib/python3.13/site-packages (from langgraph-sdk) (3.10.15)\n",
      "Requirement already satisfied: anyio in /Users/jasonlau/.pyenv/versions/3.13.1/envs/langchain_venv/lib/python3.13/site-packages (from httpx>=0.25.2->langgraph-sdk) (4.8.0)\n",
      "Requirement already satisfied: certifi in /Users/jasonlau/.pyenv/versions/3.13.1/envs/langchain_venv/lib/python3.13/site-packages (from httpx>=0.25.2->langgraph-sdk) (2025.1.31)\n",
      "Requirement already satisfied: httpcore==1.* in /Users/jasonlau/.pyenv/versions/3.13.1/envs/langchain_venv/lib/python3.13/site-packages (from httpx>=0.25.2->langgraph-sdk) (1.0.7)\n",
      "Requirement already satisfied: idna in /Users/jasonlau/.pyenv/versions/3.13.1/envs/langchain_venv/lib/python3.13/site-packages (from httpx>=0.25.2->langgraph-sdk) (3.10)\n",
      "Requirement already satisfied: h11<0.15,>=0.13 in /Users/jasonlau/.pyenv/versions/3.13.1/envs/langchain_venv/lib/python3.13/site-packages (from httpcore==1.*->httpx>=0.25.2->langgraph-sdk) (0.14.0)\n",
      "Requirement already satisfied: cryptography<44.0.0,>=43.0.3 in /Users/jasonlau/.pyenv/versions/3.13.1/envs/langchain_venv/lib/python3.13/site-packages (from langgraph-api<0.1.0,>=0.0.27->langgraph-cli[inmem]) (43.0.3)\n",
      "Requirement already satisfied: jsonschema-rs<0.21.0,>=0.20.0 in /Users/jasonlau/.pyenv/versions/3.13.1/envs/langchain_venv/lib/python3.13/site-packages (from langgraph-api<0.1.0,>=0.0.27->langgraph-cli[inmem]) (0.20.0)\n",
      "Requirement already satisfied: langchain-core<0.4.0,>=0.2.38 in /Users/jasonlau/.pyenv/versions/3.13.1/envs/langchain_venv/lib/python3.13/site-packages (from langgraph-api<0.1.0,>=0.0.27->langgraph-cli[inmem]) (0.3.44)\n",
      "Requirement already satisfied: langgraph<0.4.0,>=0.2.56 in /Users/jasonlau/.pyenv/versions/3.13.1/envs/langchain_venv/lib/python3.13/site-packages (from langgraph-api<0.1.0,>=0.0.27->langgraph-cli[inmem]) (0.3.5)\n",
      "Requirement already satisfied: langgraph-checkpoint<3.0,>=2.0.15 in /Users/jasonlau/.pyenv/versions/3.13.1/envs/langchain_venv/lib/python3.13/site-packages (from langgraph-api<0.1.0,>=0.0.27->langgraph-cli[inmem]) (2.0.19)\n",
      "Requirement already satisfied: langsmith<0.4.0,>=0.1.63 in /Users/jasonlau/.pyenv/versions/3.13.1/envs/langchain_venv/lib/python3.13/site-packages (from langgraph-api<0.1.0,>=0.0.27->langgraph-cli[inmem]) (0.3.13)\n",
      "Requirement already satisfied: pyjwt<3.0.0,>=2.9.0 in /Users/jasonlau/.pyenv/versions/3.13.1/envs/langchain_venv/lib/python3.13/site-packages (from langgraph-api<0.1.0,>=0.0.27->langgraph-cli[inmem]) (2.10.1)\n",
      "Requirement already satisfied: sse-starlette<2.2.0,>=2.1.0 in /Users/jasonlau/.pyenv/versions/3.13.1/envs/langchain_venv/lib/python3.13/site-packages (from langgraph-api<0.1.0,>=0.0.27->langgraph-cli[inmem]) (2.1.3)\n",
      "Requirement already satisfied: starlette>=0.38.6 in /Users/jasonlau/.pyenv/versions/3.13.1/envs/langchain_venv/lib/python3.13/site-packages (from langgraph-api<0.1.0,>=0.0.27->langgraph-cli[inmem]) (0.46.1)\n",
      "Requirement already satisfied: structlog<26,>=24.1.0 in /Users/jasonlau/.pyenv/versions/3.13.1/envs/langchain_venv/lib/python3.13/site-packages (from langgraph-api<0.1.0,>=0.0.27->langgraph-cli[inmem]) (25.2.0)\n",
      "Requirement already satisfied: tenacity>=8.0.0 in /Users/jasonlau/.pyenv/versions/3.13.1/envs/langchain_venv/lib/python3.13/site-packages (from langgraph-api<0.1.0,>=0.0.27->langgraph-cli[inmem]) (9.0.0)\n",
      "Requirement already satisfied: uvicorn>=0.26.0 in /Users/jasonlau/.pyenv/versions/3.13.1/envs/langchain_venv/lib/python3.13/site-packages (from langgraph-api<0.1.0,>=0.0.27->langgraph-cli[inmem]) (0.34.0)\n",
      "Requirement already satisfied: watchfiles>=0.13 in /Users/jasonlau/.pyenv/versions/3.13.1/envs/langchain_venv/lib/python3.13/site-packages (from langgraph-api<0.1.0,>=0.0.27->langgraph-cli[inmem]) (1.0.4)\n",
      "Requirement already satisfied: cffi>=1.12 in /Users/jasonlau/.pyenv/versions/3.13.1/envs/langchain_venv/lib/python3.13/site-packages (from cryptography<44.0.0,>=43.0.3->langgraph-api<0.1.0,>=0.0.27->langgraph-cli[inmem]) (1.17.1)\n",
      "Requirement already satisfied: jsonpatch<2.0,>=1.33 in /Users/jasonlau/.pyenv/versions/3.13.1/envs/langchain_venv/lib/python3.13/site-packages (from langchain-core<0.4.0,>=0.2.38->langgraph-api<0.1.0,>=0.0.27->langgraph-cli[inmem]) (1.33)\n",
      "Requirement already satisfied: PyYAML>=5.3 in /Users/jasonlau/.pyenv/versions/3.13.1/envs/langchain_venv/lib/python3.13/site-packages (from langchain-core<0.4.0,>=0.2.38->langgraph-api<0.1.0,>=0.0.27->langgraph-cli[inmem]) (6.0.2)\n",
      "Requirement already satisfied: packaging<25,>=23.2 in /Users/jasonlau/.pyenv/versions/3.13.1/envs/langchain_venv/lib/python3.13/site-packages (from langchain-core<0.4.0,>=0.2.38->langgraph-api<0.1.0,>=0.0.27->langgraph-cli[inmem]) (24.2)\n",
      "Requirement already satisfied: typing-extensions>=4.7 in /Users/jasonlau/.pyenv/versions/3.13.1/envs/langchain_venv/lib/python3.13/site-packages (from langchain-core<0.4.0,>=0.2.38->langgraph-api<0.1.0,>=0.0.27->langgraph-cli[inmem]) (4.12.2)\n",
      "Requirement already satisfied: pydantic<3.0.0,>=2.7.4 in /Users/jasonlau/.pyenv/versions/3.13.1/envs/langchain_venv/lib/python3.13/site-packages (from langchain-core<0.4.0,>=0.2.38->langgraph-api<0.1.0,>=0.0.27->langgraph-cli[inmem]) (2.10.6)\n",
      "Requirement already satisfied: langgraph-prebuilt<0.2,>=0.1.1 in /Users/jasonlau/.pyenv/versions/3.13.1/envs/langchain_venv/lib/python3.13/site-packages (from langgraph<0.4.0,>=0.2.56->langgraph-api<0.1.0,>=0.0.27->langgraph-cli[inmem]) (0.1.2)\n",
      "Requirement already satisfied: msgpack<2.0.0,>=1.1.0 in /Users/jasonlau/.pyenv/versions/3.13.1/envs/langchain_venv/lib/python3.13/site-packages (from langgraph-checkpoint<3.0,>=2.0.15->langgraph-api<0.1.0,>=0.0.27->langgraph-cli[inmem]) (1.1.0)\n",
      "Requirement already satisfied: requests<3,>=2 in /Users/jasonlau/.pyenv/versions/3.13.1/envs/langchain_venv/lib/python3.13/site-packages (from langsmith<0.4.0,>=0.1.63->langgraph-api<0.1.0,>=0.0.27->langgraph-cli[inmem]) (2.32.3)\n",
      "Requirement already satisfied: requests-toolbelt<2.0.0,>=1.0.0 in /Users/jasonlau/.pyenv/versions/3.13.1/envs/langchain_venv/lib/python3.13/site-packages (from langsmith<0.4.0,>=0.1.63->langgraph-api<0.1.0,>=0.0.27->langgraph-cli[inmem]) (1.0.0)\n",
      "Requirement already satisfied: zstandard<0.24.0,>=0.23.0 in /Users/jasonlau/.pyenv/versions/3.13.1/envs/langchain_venv/lib/python3.13/site-packages (from langsmith<0.4.0,>=0.1.63->langgraph-api<0.1.0,>=0.0.27->langgraph-cli[inmem]) (0.23.0)\n",
      "Requirement already satisfied: sniffio>=1.1 in /Users/jasonlau/.pyenv/versions/3.13.1/envs/langchain_venv/lib/python3.13/site-packages (from anyio->httpx>=0.25.2->langgraph-sdk) (1.3.1)\n",
      "Requirement already satisfied: pycparser in /Users/jasonlau/.pyenv/versions/3.13.1/envs/langchain_venv/lib/python3.13/site-packages (from cffi>=1.12->cryptography<44.0.0,>=43.0.3->langgraph-api<0.1.0,>=0.0.27->langgraph-cli[inmem]) (2.22)\n",
      "Requirement already satisfied: jsonpointer>=1.9 in /Users/jasonlau/.pyenv/versions/3.13.1/envs/langchain_venv/lib/python3.13/site-packages (from jsonpatch<2.0,>=1.33->langchain-core<0.4.0,>=0.2.38->langgraph-api<0.1.0,>=0.0.27->langgraph-cli[inmem]) (3.0.0)\n",
      "Requirement already satisfied: annotated-types>=0.6.0 in /Users/jasonlau/.pyenv/versions/3.13.1/envs/langchain_venv/lib/python3.13/site-packages (from pydantic<3.0.0,>=2.7.4->langchain-core<0.4.0,>=0.2.38->langgraph-api<0.1.0,>=0.0.27->langgraph-cli[inmem]) (0.7.0)\n",
      "Requirement already satisfied: pydantic-core==2.27.2 in /Users/jasonlau/.pyenv/versions/3.13.1/envs/langchain_venv/lib/python3.13/site-packages (from pydantic<3.0.0,>=2.7.4->langchain-core<0.4.0,>=0.2.38->langgraph-api<0.1.0,>=0.0.27->langgraph-cli[inmem]) (2.27.2)\n",
      "Requirement already satisfied: charset-normalizer<4,>=2 in /Users/jasonlau/.pyenv/versions/3.13.1/envs/langchain_venv/lib/python3.13/site-packages (from requests<3,>=2->langsmith<0.4.0,>=0.1.63->langgraph-api<0.1.0,>=0.0.27->langgraph-cli[inmem]) (3.4.1)\n",
      "Requirement already satisfied: urllib3<3,>=1.21.1 in /Users/jasonlau/.pyenv/versions/3.13.1/envs/langchain_venv/lib/python3.13/site-packages (from requests<3,>=2->langsmith<0.4.0,>=0.1.63->langgraph-api<0.1.0,>=0.0.27->langgraph-cli[inmem]) (2.3.0)\n",
      "\n",
      "\u001b[1m[\u001b[0m\u001b[34;49mnotice\u001b[0m\u001b[1;39;49m]\u001b[0m\u001b[39;49m A new release of pip is available: \u001b[0m\u001b[31;49m24.3.1\u001b[0m\u001b[39;49m -> \u001b[0m\u001b[32;49m25.0.1\u001b[0m\n",
      "\u001b[1m[\u001b[0m\u001b[34;49mnotice\u001b[0m\u001b[1;39;49m]\u001b[0m\u001b[39;49m To update, run: \u001b[0m\u001b[32;49mpip install --upgrade pip\u001b[0m\n"
     ]
    }
   ],
   "source": [
    "# Install packages for deployment and SDK\n",
    "!pip install -U \"langgraph-cli[inmem]\" langgraph-sdk"
   ]
  },
  {
   "cell_type": "markdown",
   "metadata": {},
   "source": [
    "# Step 1 - Use LangGraph CLI to create template app"
   ]
  },
  {
   "cell_type": "code",
   "execution_count": 2,
   "metadata": {},
   "outputs": [
    {
     "name": "stdout",
     "output_type": "stream",
     "text": [
      "Usage: langgraph [OPTIONS] COMMAND [ARGS]...\n",
      "\n",
      "Options:\n",
      "  --version  Show the version and exit.\n",
      "  --help     Show this message and exit.\n",
      "\n",
      "Commands:\n",
      "  build       📦 Build LangGraph API server Docker image.\n",
      "  dev         🏃‍♀️‍➡️ Run LangGraph API server in development mode with...\n",
      "  dockerfile  🐳 Generate a Dockerfile for the LangGraph API server, with...\n",
      "  new         🌱 Create a new LangGraph project from a template.\n",
      "  up          🚀 Launch LangGraph API server.\n"
     ]
    }
   ],
   "source": [
    "!langgraph --help"
   ]
  },
  {
   "cell_type": "code",
   "execution_count": 3,
   "metadata": {},
   "outputs": [
    {
     "name": "stdout",
     "output_type": "stream",
     "text": [
      "Usage: langgraph new [OPTIONS] [PATH]\n",
      "\n",
      "  🌱 Create a new LangGraph project from a template.\n",
      "\n",
      "Options:\n",
      "  --template TEXT  The name of the template to use. Available options: new-\n",
      "                   langgraph-project-python new-langgraph-project-js react-\n",
      "                   agent-python react-agent-js memory-agent-python memory-\n",
      "                   agent-js retrieval-agent-python retrieval-agent-js data-\n",
      "                   enrichment-agent-python data-enrichment-agent-js\n",
      "  --help           Show this message and exit.\n"
     ]
    }
   ],
   "source": [
    "!langgraph new --help"
   ]
  },
  {
   "cell_type": "code",
   "execution_count": 4,
   "metadata": {},
   "outputs": [
    {
     "name": "stdout",
     "output_type": "stream",
     "text": [
      "\u001b[33m📥 Attempting to download repository as a ZIP archive...\u001b[0m\n",
      "\u001b[33mURL: https://github.com/langchain-ai/react-agent/archive/refs/heads/main.zip\u001b[0m\n",
      "\u001b[32m✅ Downloaded and extracted repository to /Volumes/CrucialSSD/Software/Developing_LLM_Applications/notebooks/chat_app\u001b[0m\n",
      "\u001b[32m\u001b[1m🎉 New project created at /Volumes/CrucialSSD/Software/Developing_LLM_Applications/notebooks/chat_app\u001b[0m\n"
     ]
    }
   ],
   "source": [
    "# Generate the template \n",
    "# - ReAct agent for Python \n",
    "# - in chat_app directory\n",
    "!langgraph new --template react-agent-python chat_app"
   ]
  },
  {
   "cell_type": "markdown",
   "metadata": {},
   "source": [
    "# Step 2 - Install as package in editable mode"
   ]
  },
  {
   "cell_type": "code",
   "execution_count": 13,
   "metadata": {},
   "outputs": [
    {
     "name": "stdout",
     "output_type": "stream",
     "text": [
      "/Volumes/CrucialSSD/Software/Developing_LLM_Applications/notebooks/chat_app\n",
      "Obtaining file:///Volumes/CrucialSSD/Software/Developing_LLM_Applications/notebooks/chat_app\n",
      "  Installing build dependencies ... \u001b[?25ldone\n",
      "\u001b[?25h  Checking if build backend supports build_editable ... \u001b[?25ldone\n",
      "\u001b[?25h  Getting requirements to build editable ... \u001b[?25ldone\n",
      "\u001b[?25h  Preparing editable metadata (pyproject.toml) ... \u001b[?25ldone\n",
      "\u001b[?25hRequirement already satisfied: langgraph>=0.2.6 in /Users/jasonlau/.pyenv/versions/3.13.1/envs/langchain_venv/lib/python3.13/site-packages (from react-agent==0.0.1) (0.3.5)\n",
      "Requirement already satisfied: langchain-openai>=0.1.22 in /Users/jasonlau/.pyenv/versions/3.13.1/envs/langchain_venv/lib/python3.13/site-packages (from react-agent==0.0.1) (0.3.7)\n",
      "Requirement already satisfied: langchain-anthropic>=0.1.23 in /Users/jasonlau/.pyenv/versions/3.13.1/envs/langchain_venv/lib/python3.13/site-packages (from react-agent==0.0.1) (0.3.9)\n",
      "Requirement already satisfied: langchain>=0.2.14 in /Users/jasonlau/.pyenv/versions/3.13.1/envs/langchain_venv/lib/python3.13/site-packages (from react-agent==0.0.1) (0.3.20)\n",
      "Requirement already satisfied: langchain-fireworks>=0.1.7 in /Users/jasonlau/.pyenv/versions/3.13.1/envs/langchain_venv/lib/python3.13/site-packages (from react-agent==0.0.1) (0.2.7)\n",
      "Requirement already satisfied: python-dotenv>=1.0.1 in /Users/jasonlau/.pyenv/versions/3.13.1/envs/langchain_venv/lib/python3.13/site-packages (from react-agent==0.0.1) (1.0.1)\n",
      "Requirement already satisfied: langchain-community>=0.2.17 in /Users/jasonlau/.pyenv/versions/3.13.1/envs/langchain_venv/lib/python3.13/site-packages (from react-agent==0.0.1) (0.3.19)\n",
      "Requirement already satisfied: tavily-python>=0.4.0 in /Users/jasonlau/.pyenv/versions/3.13.1/envs/langchain_venv/lib/python3.13/site-packages (from react-agent==0.0.1) (0.5.1)\n",
      "Requirement already satisfied: langchain-core<1.0.0,>=0.3.41 in /Users/jasonlau/.pyenv/versions/3.13.1/envs/langchain_venv/lib/python3.13/site-packages (from langchain>=0.2.14->react-agent==0.0.1) (0.3.44)\n",
      "Requirement already satisfied: langchain-text-splitters<1.0.0,>=0.3.6 in /Users/jasonlau/.pyenv/versions/3.13.1/envs/langchain_venv/lib/python3.13/site-packages (from langchain>=0.2.14->react-agent==0.0.1) (0.3.6)\n",
      "Requirement already satisfied: langsmith<0.4,>=0.1.17 in /Users/jasonlau/.pyenv/versions/3.13.1/envs/langchain_venv/lib/python3.13/site-packages (from langchain>=0.2.14->react-agent==0.0.1) (0.3.13)\n",
      "Requirement already satisfied: pydantic<3.0.0,>=2.7.4 in /Users/jasonlau/.pyenv/versions/3.13.1/envs/langchain_venv/lib/python3.13/site-packages (from langchain>=0.2.14->react-agent==0.0.1) (2.10.6)\n",
      "Requirement already satisfied: SQLAlchemy<3,>=1.4 in /Users/jasonlau/.pyenv/versions/3.13.1/envs/langchain_venv/lib/python3.13/site-packages (from langchain>=0.2.14->react-agent==0.0.1) (2.0.39)\n",
      "Requirement already satisfied: requests<3,>=2 in /Users/jasonlau/.pyenv/versions/3.13.1/envs/langchain_venv/lib/python3.13/site-packages (from langchain>=0.2.14->react-agent==0.0.1) (2.32.3)\n",
      "Requirement already satisfied: PyYAML>=5.3 in /Users/jasonlau/.pyenv/versions/3.13.1/envs/langchain_venv/lib/python3.13/site-packages (from langchain>=0.2.14->react-agent==0.0.1) (6.0.2)\n",
      "Requirement already satisfied: anthropic<1,>=0.47.0 in /Users/jasonlau/.pyenv/versions/3.13.1/envs/langchain_venv/lib/python3.13/site-packages (from langchain-anthropic>=0.1.23->react-agent==0.0.1) (0.49.0)\n",
      "Requirement already satisfied: aiohttp<4.0.0,>=3.8.3 in /Users/jasonlau/.pyenv/versions/3.13.1/envs/langchain_venv/lib/python3.13/site-packages (from langchain-community>=0.2.17->react-agent==0.0.1) (3.11.13)\n",
      "Requirement already satisfied: tenacity!=8.4.0,<10,>=8.1.0 in /Users/jasonlau/.pyenv/versions/3.13.1/envs/langchain_venv/lib/python3.13/site-packages (from langchain-community>=0.2.17->react-agent==0.0.1) (9.0.0)\n",
      "Requirement already satisfied: dataclasses-json<0.7,>=0.5.7 in /Users/jasonlau/.pyenv/versions/3.13.1/envs/langchain_venv/lib/python3.13/site-packages (from langchain-community>=0.2.17->react-agent==0.0.1) (0.6.7)\n",
      "Requirement already satisfied: pydantic-settings<3.0.0,>=2.4.0 in /Users/jasonlau/.pyenv/versions/3.13.1/envs/langchain_venv/lib/python3.13/site-packages (from langchain-community>=0.2.17->react-agent==0.0.1) (2.8.1)\n",
      "Requirement already satisfied: httpx-sse<1.0.0,>=0.4.0 in /Users/jasonlau/.pyenv/versions/3.13.1/envs/langchain_venv/lib/python3.13/site-packages (from langchain-community>=0.2.17->react-agent==0.0.1) (0.4.0)\n",
      "Requirement already satisfied: numpy<3,>=1.26.2 in /Users/jasonlau/.pyenv/versions/3.13.1/envs/langchain_venv/lib/python3.13/site-packages (from langchain-community>=0.2.17->react-agent==0.0.1) (2.2.3)\n",
      "Requirement already satisfied: fireworks-ai>=0.13.0 in /Users/jasonlau/.pyenv/versions/3.13.1/envs/langchain_venv/lib/python3.13/site-packages (from langchain-fireworks>=0.1.7->react-agent==0.0.1) (0.15.12)\n",
      "Requirement already satisfied: openai<2.0.0,>=1.10.0 in /Users/jasonlau/.pyenv/versions/3.13.1/envs/langchain_venv/lib/python3.13/site-packages (from langchain-fireworks>=0.1.7->react-agent==0.0.1) (1.65.1)\n",
      "Requirement already satisfied: tiktoken<1,>=0.7 in /Users/jasonlau/.pyenv/versions/3.13.1/envs/langchain_venv/lib/python3.13/site-packages (from langchain-openai>=0.1.22->react-agent==0.0.1) (0.9.0)\n",
      "Requirement already satisfied: langgraph-checkpoint<3.0.0,>=2.0.10 in /Users/jasonlau/.pyenv/versions/3.13.1/envs/langchain_venv/lib/python3.13/site-packages (from langgraph>=0.2.6->react-agent==0.0.1) (2.0.19)\n",
      "Requirement already satisfied: langgraph-prebuilt<0.2,>=0.1.1 in /Users/jasonlau/.pyenv/versions/3.13.1/envs/langchain_venv/lib/python3.13/site-packages (from langgraph>=0.2.6->react-agent==0.0.1) (0.1.2)\n",
      "Requirement already satisfied: langgraph-sdk<0.2.0,>=0.1.42 in /Users/jasonlau/.pyenv/versions/3.13.1/envs/langchain_venv/lib/python3.13/site-packages (from langgraph>=0.2.6->react-agent==0.0.1) (0.1.56)\n",
      "Requirement already satisfied: httpx in /Users/jasonlau/.pyenv/versions/3.13.1/envs/langchain_venv/lib/python3.13/site-packages (from tavily-python>=0.4.0->react-agent==0.0.1) (0.28.1)\n",
      "Requirement already satisfied: aiohappyeyeballs>=2.3.0 in /Users/jasonlau/.pyenv/versions/3.13.1/envs/langchain_venv/lib/python3.13/site-packages (from aiohttp<4.0.0,>=3.8.3->langchain-community>=0.2.17->react-agent==0.0.1) (2.6.1)\n",
      "Requirement already satisfied: aiosignal>=1.1.2 in /Users/jasonlau/.pyenv/versions/3.13.1/envs/langchain_venv/lib/python3.13/site-packages (from aiohttp<4.0.0,>=3.8.3->langchain-community>=0.2.17->react-agent==0.0.1) (1.3.2)\n",
      "Requirement already satisfied: attrs>=17.3.0 in /Users/jasonlau/.pyenv/versions/3.13.1/envs/langchain_venv/lib/python3.13/site-packages (from aiohttp<4.0.0,>=3.8.3->langchain-community>=0.2.17->react-agent==0.0.1) (25.2.0)\n",
      "Requirement already satisfied: frozenlist>=1.1.1 in /Users/jasonlau/.pyenv/versions/3.13.1/envs/langchain_venv/lib/python3.13/site-packages (from aiohttp<4.0.0,>=3.8.3->langchain-community>=0.2.17->react-agent==0.0.1) (1.5.0)\n",
      "Requirement already satisfied: multidict<7.0,>=4.5 in /Users/jasonlau/.pyenv/versions/3.13.1/envs/langchain_venv/lib/python3.13/site-packages (from aiohttp<4.0.0,>=3.8.3->langchain-community>=0.2.17->react-agent==0.0.1) (6.1.0)\n",
      "Requirement already satisfied: propcache>=0.2.0 in /Users/jasonlau/.pyenv/versions/3.13.1/envs/langchain_venv/lib/python3.13/site-packages (from aiohttp<4.0.0,>=3.8.3->langchain-community>=0.2.17->react-agent==0.0.1) (0.3.0)\n",
      "Requirement already satisfied: yarl<2.0,>=1.17.0 in /Users/jasonlau/.pyenv/versions/3.13.1/envs/langchain_venv/lib/python3.13/site-packages (from aiohttp<4.0.0,>=3.8.3->langchain-community>=0.2.17->react-agent==0.0.1) (1.18.3)\n",
      "Requirement already satisfied: anyio<5,>=3.5.0 in /Users/jasonlau/.pyenv/versions/3.13.1/envs/langchain_venv/lib/python3.13/site-packages (from anthropic<1,>=0.47.0->langchain-anthropic>=0.1.23->react-agent==0.0.1) (4.8.0)\n",
      "Requirement already satisfied: distro<2,>=1.7.0 in /Users/jasonlau/.pyenv/versions/3.13.1/envs/langchain_venv/lib/python3.13/site-packages (from anthropic<1,>=0.47.0->langchain-anthropic>=0.1.23->react-agent==0.0.1) (1.9.0)\n",
      "Requirement already satisfied: jiter<1,>=0.4.0 in /Users/jasonlau/.pyenv/versions/3.13.1/envs/langchain_venv/lib/python3.13/site-packages (from anthropic<1,>=0.47.0->langchain-anthropic>=0.1.23->react-agent==0.0.1) (0.9.0)\n",
      "Requirement already satisfied: sniffio in /Users/jasonlau/.pyenv/versions/3.13.1/envs/langchain_venv/lib/python3.13/site-packages (from anthropic<1,>=0.47.0->langchain-anthropic>=0.1.23->react-agent==0.0.1) (1.3.1)\n",
      "Requirement already satisfied: typing-extensions<5,>=4.10 in /Users/jasonlau/.pyenv/versions/3.13.1/envs/langchain_venv/lib/python3.13/site-packages (from anthropic<1,>=0.47.0->langchain-anthropic>=0.1.23->react-agent==0.0.1) (4.12.2)\n",
      "Requirement already satisfied: marshmallow<4.0.0,>=3.18.0 in /Users/jasonlau/.pyenv/versions/3.13.1/envs/langchain_venv/lib/python3.13/site-packages (from dataclasses-json<0.7,>=0.5.7->langchain-community>=0.2.17->react-agent==0.0.1) (3.26.1)\n",
      "Requirement already satisfied: typing-inspect<1,>=0.4.0 in /Users/jasonlau/.pyenv/versions/3.13.1/envs/langchain_venv/lib/python3.13/site-packages (from dataclasses-json<0.7,>=0.5.7->langchain-community>=0.2.17->react-agent==0.0.1) (0.9.0)\n",
      "Requirement already satisfied: httpx-ws in /Users/jasonlau/.pyenv/versions/3.13.1/envs/langchain_venv/lib/python3.13/site-packages (from fireworks-ai>=0.13.0->langchain-fireworks>=0.1.7->react-agent==0.0.1) (0.7.1)\n",
      "Requirement already satisfied: Pillow in /Users/jasonlau/.pyenv/versions/3.13.1/envs/langchain_venv/lib/python3.13/site-packages (from fireworks-ai>=0.13.0->langchain-fireworks>=0.1.7->react-agent==0.0.1) (11.1.0)\n",
      "Requirement already satisfied: certifi in /Users/jasonlau/.pyenv/versions/3.13.1/envs/langchain_venv/lib/python3.13/site-packages (from httpx->tavily-python>=0.4.0->react-agent==0.0.1) (2025.1.31)\n",
      "Requirement already satisfied: httpcore==1.* in /Users/jasonlau/.pyenv/versions/3.13.1/envs/langchain_venv/lib/python3.13/site-packages (from httpx->tavily-python>=0.4.0->react-agent==0.0.1) (1.0.7)\n",
      "Requirement already satisfied: idna in /Users/jasonlau/.pyenv/versions/3.13.1/envs/langchain_venv/lib/python3.13/site-packages (from httpx->tavily-python>=0.4.0->react-agent==0.0.1) (3.10)\n",
      "Requirement already satisfied: h11<0.15,>=0.13 in /Users/jasonlau/.pyenv/versions/3.13.1/envs/langchain_venv/lib/python3.13/site-packages (from httpcore==1.*->httpx->tavily-python>=0.4.0->react-agent==0.0.1) (0.14.0)\n",
      "Requirement already satisfied: jsonpatch<2.0,>=1.33 in /Users/jasonlau/.pyenv/versions/3.13.1/envs/langchain_venv/lib/python3.13/site-packages (from langchain-core<1.0.0,>=0.3.41->langchain>=0.2.14->react-agent==0.0.1) (1.33)\n",
      "Requirement already satisfied: packaging<25,>=23.2 in /Users/jasonlau/.pyenv/versions/3.13.1/envs/langchain_venv/lib/python3.13/site-packages (from langchain-core<1.0.0,>=0.3.41->langchain>=0.2.14->react-agent==0.0.1) (24.2)\n",
      "Requirement already satisfied: msgpack<2.0.0,>=1.1.0 in /Users/jasonlau/.pyenv/versions/3.13.1/envs/langchain_venv/lib/python3.13/site-packages (from langgraph-checkpoint<3.0.0,>=2.0.10->langgraph>=0.2.6->react-agent==0.0.1) (1.1.0)\n",
      "Requirement already satisfied: orjson>=3.10.1 in /Users/jasonlau/.pyenv/versions/3.13.1/envs/langchain_venv/lib/python3.13/site-packages (from langgraph-sdk<0.2.0,>=0.1.42->langgraph>=0.2.6->react-agent==0.0.1) (3.10.15)\n",
      "Requirement already satisfied: requests-toolbelt<2.0.0,>=1.0.0 in /Users/jasonlau/.pyenv/versions/3.13.1/envs/langchain_venv/lib/python3.13/site-packages (from langsmith<0.4,>=0.1.17->langchain>=0.2.14->react-agent==0.0.1) (1.0.0)\n",
      "Requirement already satisfied: zstandard<0.24.0,>=0.23.0 in /Users/jasonlau/.pyenv/versions/3.13.1/envs/langchain_venv/lib/python3.13/site-packages (from langsmith<0.4,>=0.1.17->langchain>=0.2.14->react-agent==0.0.1) (0.23.0)\n",
      "Requirement already satisfied: tqdm>4 in /Users/jasonlau/.pyenv/versions/3.13.1/envs/langchain_venv/lib/python3.13/site-packages (from openai<2.0.0,>=1.10.0->langchain-fireworks>=0.1.7->react-agent==0.0.1) (4.66.4)\n",
      "Requirement already satisfied: annotated-types>=0.6.0 in /Users/jasonlau/.pyenv/versions/3.13.1/envs/langchain_venv/lib/python3.13/site-packages (from pydantic<3.0.0,>=2.7.4->langchain>=0.2.14->react-agent==0.0.1) (0.7.0)\n",
      "Requirement already satisfied: pydantic-core==2.27.2 in /Users/jasonlau/.pyenv/versions/3.13.1/envs/langchain_venv/lib/python3.13/site-packages (from pydantic<3.0.0,>=2.7.4->langchain>=0.2.14->react-agent==0.0.1) (2.27.2)\n",
      "Requirement already satisfied: charset-normalizer<4,>=2 in /Users/jasonlau/.pyenv/versions/3.13.1/envs/langchain_venv/lib/python3.13/site-packages (from requests<3,>=2->langchain>=0.2.14->react-agent==0.0.1) (3.4.1)\n",
      "Requirement already satisfied: urllib3<3,>=1.21.1 in /Users/jasonlau/.pyenv/versions/3.13.1/envs/langchain_venv/lib/python3.13/site-packages (from requests<3,>=2->langchain>=0.2.14->react-agent==0.0.1) (2.3.0)\n",
      "Requirement already satisfied: regex>=2022.1.18 in /Users/jasonlau/.pyenv/versions/3.13.1/envs/langchain_venv/lib/python3.13/site-packages (from tiktoken<1,>=0.7->langchain-openai>=0.1.22->react-agent==0.0.1) (2024.11.6)\n",
      "Requirement already satisfied: jsonpointer>=1.9 in /Users/jasonlau/.pyenv/versions/3.13.1/envs/langchain_venv/lib/python3.13/site-packages (from jsonpatch<2.0,>=1.33->langchain-core<1.0.0,>=0.3.41->langchain>=0.2.14->react-agent==0.0.1) (3.0.0)\n",
      "Requirement already satisfied: mypy-extensions>=0.3.0 in /Users/jasonlau/.pyenv/versions/3.13.1/envs/langchain_venv/lib/python3.13/site-packages (from typing-inspect<1,>=0.4.0->dataclasses-json<0.7,>=0.5.7->langchain-community>=0.2.17->react-agent==0.0.1) (1.0.0)\n",
      "Requirement already satisfied: wsproto in /Users/jasonlau/.pyenv/versions/3.13.1/envs/langchain_venv/lib/python3.13/site-packages (from httpx-ws->fireworks-ai>=0.13.0->langchain-fireworks>=0.1.7->react-agent==0.0.1) (1.2.0)\n",
      "Building wheels for collected packages: react-agent\n",
      "  Building editable for react-agent (pyproject.toml) ... \u001b[?25ldone\n",
      "\u001b[?25h  Created wheel for react-agent: filename=react_agent-0.0.1-0.editable-py3-none-any.whl size=6976 sha256=ceb5bbc12560587cffd16aa20f2baabf9bd092c4ba0c08e41434ebad17003202\n",
      "  Stored in directory: /private/var/folders/jw/ft66857d2c13dsmc9514zfkw0000gn/T/pip-ephem-wheel-cache-k8che9p4/wheels/f2/8c/7b/5497d9f64ff9dad6b636bb3fdf1e57bf9081ba34b7aca11a27\n",
      "Successfully built react-agent\n",
      "Installing collected packages: react-agent\n",
      "Successfully installed react-agent-0.0.1\n",
      "\n",
      "\u001b[1m[\u001b[0m\u001b[34;49mnotice\u001b[0m\u001b[1;39;49m]\u001b[0m\u001b[39;49m A new release of pip is available: \u001b[0m\u001b[31;49m24.3.1\u001b[0m\u001b[39;49m -> \u001b[0m\u001b[32;49m25.0.1\u001b[0m\n",
      "\u001b[1m[\u001b[0m\u001b[34;49mnotice\u001b[0m\u001b[1;39;49m]\u001b[0m\u001b[39;49m To update, run: \u001b[0m\u001b[32;49mpip install --upgrade pip\u001b[0m\n"
     ]
    }
   ],
   "source": [
    "%cd chat_app \n",
    "!pip install -e ."
   ]
  },
  {
   "cell_type": "code",
   "execution_count": 15,
   "metadata": {},
   "outputs": [
    {
     "name": "stdout",
     "output_type": "stream",
     "text": [
      "react-agent              0.0.1       /Volumes/CrucialSSD/Software/Developing_LLM_Applications/notebooks/chat_app\n"
     ]
    }
   ],
   "source": [
    "!pip list | grep react-agent"
   ]
  },
  {
   "cell_type": "markdown",
   "metadata": {},
   "source": [
    "# Step 3 - Customize to use Ollama local LLM (Optional)\n",
    "- edit chat_app/react_agetnt/graph.py\n",
    "    - add this import near top\n",
    "    ```\n",
    "    from langchain_openai import ChatOpenAI\n",
    "    ```\n",
    "    - search for this line\n",
    "    ```\n",
    "    # Initialize the model with tool binding. Change the model or add more tools here.\n",
    "    model = load_chat_model(configuration.model).bind_tools(TOOLS)\n",
    "    ```\n",
    "    - edit to\n",
    "    ```\n",
    "    # Initialize the model with tool binding. Change the model or add more tools here.\n",
    "    # model = load_chat_model(configuration.model).bind_tools(TOOLS)\n",
    "    model = ChatOpenAI(\n",
    "        model=\"llama3.2:1b-instruct-q4_0\",\n",
    "        base_url=\"http://localhost:11434/v1\",\n",
    "        api_key=\"not-needed\").bind_tools(TOOLS)\n",
    "    ```"
   ]
  },
  {
   "cell_type": "markdown",
   "metadata": {},
   "source": [
    "# Step 4 - Pull llama3.2:1b model (Optional)"
   ]
  },
  {
   "cell_type": "code",
   "execution_count": null,
   "metadata": {},
   "outputs": [
    {
     "name": "stdout",
     "output_type": "stream",
     "text": [
      "\u001b[?2026h\u001b[?25l\u001b[1Gpulling manifest ⠋ \u001b[K\u001b[?25h\u001b[?2026l\u001b[?2026h\u001b[?25l\u001b[1Gpulling manifest ⠙ \u001b[K\u001b[?25h\u001b[?2026l\u001b[?2026h\u001b[?25l\u001b[1Gpulling manifest ⠹ \u001b[K\u001b[?25h\u001b[?2026l\u001b[?2026h\u001b[?25l\u001b[1Gpulling manifest ⠸ \u001b[K\u001b[?25h\u001b[?2026l\u001b[?2026h\u001b[?25l\u001b[1Gpulling manifest ⠼ \u001b[K\u001b[?25h\u001b[?2026l\u001b[?2026h\u001b[?25l\u001b[1Gpulling manifest ⠴ \u001b[K\u001b[?25h\u001b[?2026l\u001b[?2026h\u001b[?25l\u001b[1Gpulling manifest ⠦ \u001b[K\u001b[?25h\u001b[?2026l\u001b[?2026h\u001b[?25l\u001b[1Gpulling manifest ⠧ \u001b[K\u001b[?25h\u001b[?2026l\u001b[?2026h\u001b[?25l\u001b[1Gpulling manifest ⠇ \u001b[K\u001b[?25h\u001b[?2026l\u001b[?2026h\u001b[?25l\u001b[1Gpulling manifest ⠏ \u001b[K\u001b[?25h\u001b[?2026l\u001b[?2026h\u001b[?25l\u001b[1Gpulling manifest ⠋ \u001b[K\u001b[?25h\u001b[?2026l\u001b[?2026h\u001b[?25l\u001b[1Gpulling manifest ⠙ \u001b[K\u001b[?25h\u001b[?2026l\u001b[?2026h\u001b[?25l\u001b[1Gpulling manifest ⠹ \u001b[K\u001b[?25h\u001b[?2026l\u001b[?2026h\u001b[?25l\u001b[1Gpulling manifest ⠸ \u001b[K\u001b[?25h\u001b[?2026l\u001b[?2026h\u001b[?25l\u001b[1Gpulling manifest ⠼ \u001b[K\u001b[?25h\u001b[?2026l\u001b[?2026h\u001b[?25l\u001b[1Gpulling manifest ⠴ \u001b[K\u001b[?25h\u001b[?2026l\u001b[?2026h\u001b[?25l\u001b[1Gpulling manifest ⠦ \u001b[K\u001b[?25h\u001b[?2026l\u001b[?2026h\u001b[?25l\u001b[1Gpulling manifest \u001b[K\n",
      "pulling b98b382ad859... 100% ▕████████████████▏ 770 MB                         \u001b[K\n",
      "pulling 966de95ca8a6... 100% ▕████████████████▏ 1.4 KB                         \u001b[K\n",
      "pulling fcc5a6bec9da... 100% ▕████████████████▏ 7.7 KB                         \u001b[K\n",
      "pulling a70ff7e570d9... 100% ▕████████████████▏ 6.0 KB                         \u001b[K\n",
      "pulling e9e2eec515fb... 100% ▕████████████████▏  485 B                         \u001b[K\n",
      "verifying sha256 digest \u001b[K\n",
      "writing manifest \u001b[K\n",
      "success \u001b[K\u001b[?25h\u001b[?2026l\n"
     ]
    }
   ],
   "source": [
    "!ollama pull llama3.2:1b-instruct-q4_0"
   ]
  },
  {
   "cell_type": "markdown",
   "metadata": {},
   "source": [
    "# Step 5 - setup .env (in chat_app dir)\n",
    "- OPENAI_API_KEY not needed if using ollama option\n",
    "```\n",
    "LANGCHAIN_TRACING_V2=true\n",
    "LANGCHAIN_PROJECT=005_deploy_lab\n",
    "LANGCHAIN_API_KEY=xx\n",
    "TAVILY_API_KEY=xx\n",
    "OPENAI_API_KEY=xx\n",
    "```"
   ]
  },
  {
   "cell_type": "markdown",
   "metadata": {},
   "source": [
    "# Step 6 start local dev env\n",
    "- in chat_app folder"
   ]
  },
  {
   "cell_type": "code",
   "execution_count": null,
   "metadata": {},
   "outputs": [
    {
     "name": "stdout",
     "output_type": "stream",
     "text": [
      "/Volumes/CrucialSSD/Software/Developing_LLM_Applications/notebooks/chat_app\n"
     ]
    }
   ],
   "source": [
    "# confirm if we are in chat_app directory\n",
    "!pwd\n",
    "# otherwise do `%cd chat_app`"
   ]
  },
  {
   "cell_type": "code",
   "execution_count": null,
   "metadata": {},
   "outputs": [
    {
     "name": "stdout",
     "output_type": "stream",
     "text": [
      "INFO:langgraph_api.cli:\n",
      "\n",
      "        Welcome to\n",
      "\n",
      "╦  ┌─┐┌┐┌┌─┐╔═╗┬─┐┌─┐┌─┐┬ ┬\n",
      "║  ├─┤││││ ┬║ ╦├┬┘├─┤├─┘├─┤\n",
      "╩═╝┴ ┴┘└┘└─┘╚═╝┴└─┴ ┴┴  ┴ ┴\n",
      "\n",
      "- 🚀 API: \u001b[36mhttp://127.0.0.1:2024\u001b[0m\n",
      "- 🎨 Studio UI: \u001b[36mhttps://smith.langchain.com/studio/?baseUrl=http://127.0.0.1:2024\u001b[0m\n",
      "- 📚 API Docs: \u001b[36mhttp://127.0.0.1:2024/docs\u001b[0m\n",
      "\n",
      "This in-memory server is designed for development and testing.\n",
      "For production use, please use LangGraph Cloud.\n",
      "\n",
      "\n",
      "\u001b[2m2025-03-13T03:37:05.196175Z\u001b[0m [\u001b[32m\u001b[1minfo     \u001b[0m] \u001b[1mWill watch for changes in these directories: ['/Volumes/CrucialSSD/Software/Developing_LLM_Applications/notebooks/chat_app']\u001b[0m [\u001b[0m\u001b[1m\u001b[34muvicorn.error\u001b[0m]\u001b[0m \u001b[36mapi_variant\u001b[0m=\u001b[35mlocal_dev\u001b[0m \u001b[36mthread_name\u001b[0m=\u001b[35mMainThread\u001b[0m\n",
      "\u001b[2m2025-03-13T03:37:05.197564Z\u001b[0m [\u001b[32m\u001b[1minfo     \u001b[0m] \u001b[1mUvicorn running on http://127.0.0.1:2024 (Press CTRL+C to quit)\u001b[0m [\u001b[0m\u001b[1m\u001b[34muvicorn.error\u001b[0m]\u001b[0m \u001b[36mapi_variant\u001b[0m=\u001b[35mlocal_dev\u001b[0m \u001b[36mcolor_message\u001b[0m=\u001b[35m'Uvicorn running on \\x1b[1m%s://%s:%d\\x1b[0m (Press CTRL+C to quit)'\u001b[0m \u001b[36mthread_name\u001b[0m=\u001b[35mMainThread\u001b[0m\n",
      "\u001b[2m2025-03-13T03:37:05.198123Z\u001b[0m [\u001b[32m\u001b[1minfo     \u001b[0m] \u001b[1mStarted reloader process [17860] using WatchFiles\u001b[0m [\u001b[0m\u001b[1m\u001b[34muvicorn.error\u001b[0m]\u001b[0m \u001b[36mapi_variant\u001b[0m=\u001b[35mlocal_dev\u001b[0m \u001b[36mcolor_message\u001b[0m=\u001b[35m'Started reloader process [\\x1b[36m\\x1b[1m17860\\x1b[0m] using \\x1b[36m\\x1b[1mWatchFiles\\x1b[0m'\u001b[0m \u001b[36mthread_name\u001b[0m=\u001b[35mMainThread\u001b[0m\n",
      "\u001b[2m2025-03-13T03:37:05.721911Z\u001b[0m [\u001b[32m\u001b[1minfo     \u001b[0m] \u001b[1mUsing auth of type=noop       \u001b[0m [\u001b[0m\u001b[1m\u001b[34mlanggraph_api.auth.middleware\u001b[0m]\u001b[0m \u001b[36mapi_variant\u001b[0m=\u001b[35mlocal_dev\u001b[0m \u001b[36mthread_name\u001b[0m=\u001b[35mMainThread\u001b[0m\n",
      "\u001b[2m2025-03-13T03:37:05.723375Z\u001b[0m [\u001b[32m\u001b[1minfo     \u001b[0m] \u001b[1mStarted server process [17862]\u001b[0m [\u001b[0m\u001b[1m\u001b[34muvicorn.error\u001b[0m]\u001b[0m \u001b[36mapi_variant\u001b[0m=\u001b[35mlocal_dev\u001b[0m \u001b[36mcolor_message\u001b[0m=\u001b[35m'Started server process [\\x1b[36m%d\\x1b[0m]'\u001b[0m \u001b[36mthread_name\u001b[0m=\u001b[35mMainThread\u001b[0m\n",
      "\u001b[2m2025-03-13T03:37:05.723458Z\u001b[0m [\u001b[32m\u001b[1minfo     \u001b[0m] \u001b[1mWaiting for application startup.\u001b[0m [\u001b[0m\u001b[1m\u001b[34muvicorn.error\u001b[0m]\u001b[0m \u001b[36mapi_variant\u001b[0m=\u001b[35mlocal_dev\u001b[0m \u001b[36mthread_name\u001b[0m=\u001b[35mMainThread\u001b[0m\n",
      "\u001b[2m2025-03-13T03:37:05.839493Z\u001b[0m [\u001b[32m\u001b[1minfo     \u001b[0m] \u001b[1m3 changes detected            \u001b[0m [\u001b[0m\u001b[1m\u001b[34mwatchfiles.main\u001b[0m]\u001b[0m \u001b[36mapi_variant\u001b[0m=\u001b[35mlocal_dev\u001b[0m \u001b[36mthread_name\u001b[0m=\u001b[35mMainThread\u001b[0m\n",
      "\u001b[2m2025-03-13T03:37:06.195769Z\u001b[0m [\u001b[32m\u001b[1minfo     \u001b[0m] \u001b[1mRegistering graph with id 'agent'\u001b[0m [\u001b[0m\u001b[1m\u001b[34mlanggraph_api.graph\u001b[0m]\u001b[0m \u001b[36mapi_variant\u001b[0m=\u001b[35mlocal_dev\u001b[0m \u001b[36mgraph_id\u001b[0m=\u001b[35magent\u001b[0m \u001b[36mthread_name\u001b[0m=\u001b[35masyncio_0\u001b[0m\n",
      "\u001b[2m2025-03-13T03:37:06.196130Z\u001b[0m [\u001b[32m\u001b[1minfo     \u001b[0m] \u001b[1mStarting metadata loop        \u001b[0m [\u001b[0m\u001b[1m\u001b[34mlanggraph_api.metadata\u001b[0m]\u001b[0m \u001b[36mapi_variant\u001b[0m=\u001b[35mlocal_dev\u001b[0m \u001b[36mthread_name\u001b[0m=\u001b[35mMainThread\u001b[0m\n",
      "\u001b[2m2025-03-13T03:37:06.199585Z\u001b[0m [\u001b[32m\u001b[1minfo     \u001b[0m] \u001b[1mApplication startup complete. \u001b[0m [\u001b[0m\u001b[1m\u001b[34muvicorn.error\u001b[0m]\u001b[0m \u001b[36mapi_variant\u001b[0m=\u001b[35mlocal_dev\u001b[0m \u001b[36mthread_name\u001b[0m=\u001b[35mMainThread\u001b[0m\n",
      "\u001b[2m2025-03-13T03:37:06.199686Z\u001b[0m [\u001b[32m\u001b[1minfo     \u001b[0m] \u001b[1mStarting 1 background workers \u001b[0m [\u001b[0m\u001b[1m\u001b[34mlanggraph_storage.queue\u001b[0m]\u001b[0m \u001b[36mapi_variant\u001b[0m=\u001b[35mlocal_dev\u001b[0m \u001b[36mthread_name\u001b[0m=\u001b[35masyncio_0\u001b[0m\n",
      "\u001b[2m2025-03-13T03:37:06.200146Z\u001b[0m [\u001b[32m\u001b[1minfo     \u001b[0m] \u001b[1mWorker stats                  \u001b[0m [\u001b[0m\u001b[1m\u001b[34mlanggraph_storage.queue\u001b[0m]\u001b[0m \u001b[36mactive\u001b[0m=\u001b[35m0\u001b[0m \u001b[36mapi_variant\u001b[0m=\u001b[35mlocal_dev\u001b[0m \u001b[36mavailable\u001b[0m=\u001b[35m1\u001b[0m \u001b[36mmax\u001b[0m=\u001b[35m1\u001b[0m \u001b[36mthread_name\u001b[0m=\u001b[35masyncio_1\u001b[0m\n",
      "Server started in 1.47s\n",
      "\u001b[2m2025-03-13T03:37:06.369137Z\u001b[0m [\u001b[32m\u001b[1minfo     \u001b[0m] \u001b[1mGET /ok 200 0ms               \u001b[0m [\u001b[0m\u001b[1m\u001b[34mlanggraph_api.server\u001b[0m]\u001b[0m \u001b[36mapi_variant\u001b[0m=\u001b[35mlocal_dev\u001b[0m \u001b[36mlatency_ms\u001b[0m=\u001b[35m0\u001b[0m \u001b[36mmethod\u001b[0m=\u001b[35mGET\u001b[0m \u001b[36mpath\u001b[0m=\u001b[35m/ok\u001b[0m \u001b[36mpath_params\u001b[0m=\u001b[35m{}\u001b[0m \u001b[36mproto\u001b[0m=\u001b[35m1.1\u001b[0m \u001b[36mquery_string\u001b[0m=\u001b[35m\u001b[0m \u001b[36mreq_header\u001b[0m=\u001b[35m{'accept-encoding': 'identity', 'host': '127.0.0.1:2024', 'user-agent': 'Python-urllib/3.13', 'connection': 'close'}\u001b[0m \u001b[36mres_header\u001b[0m=\u001b[35m{'content-length': '11', 'content-type': 'application/json'}\u001b[0m \u001b[36mroute\u001b[0m=\u001b[35mNone\u001b[0m \u001b[36mstatus\u001b[0m=\u001b[35m200\u001b[0m \u001b[36mthread_name\u001b[0m=\u001b[35masyncio_1\u001b[0m\n",
      "\u001b[2m2025-03-13T03:37:06.369268Z\u001b[0m [\u001b[32m\u001b[1minfo     \u001b[0m] \u001b[1mServer started in 1.47s       \u001b[0m [\u001b[0m\u001b[1m\u001b[34mbrowser_opener\u001b[0m]\u001b[0m \u001b[36mapi_variant\u001b[0m=\u001b[35mlocal_dev\u001b[0m \u001b[36mmessage\u001b[0m=\u001b[35m'Server started in 1.47s'\u001b[0m \u001b[36mthread_name\u001b[0m=\u001b[35m'Thread-3 (_open_browser)'\u001b[0m\n",
      "🎨 Opening Studio in your browser...\n",
      "\u001b[2m2025-03-13T03:37:06.369434Z\u001b[0m [\u001b[32m\u001b[1minfo     \u001b[0m] \u001b[1m🎨 Opening Studio in your browser...\u001b[0m [\u001b[0m\u001b[1m\u001b[34mbrowser_opener\u001b[0m]\u001b[0m \u001b[36mapi_variant\u001b[0m=\u001b[35mlocal_dev\u001b[0m \u001b[36mmessage\u001b[0m=\u001b[35m'🎨 Opening Studio in your browser...'\u001b[0m \u001b[36mthread_name\u001b[0m=\u001b[35m'Thread-3 (_open_browser)'\u001b[0m\n",
      "URL: https://smith.langchain.com/studio/?baseUrl=http://127.0.0.1:2024&organizationId=1af51a76-4aca-416e-9fb5-5d14275e5e54\n",
      "\u001b[2m2025-03-13T03:37:06.369525Z\u001b[0m [\u001b[32m\u001b[1minfo     \u001b[0m] \u001b[1mURL: https://smith.langchain.com/studio/?baseUrl=http://127.0.0.1:2024&organizationId=1af51a76-4aca-416e-9fb5-5d14275e5e54\u001b[0m [\u001b[0m\u001b[1m\u001b[34mbrowser_opener\u001b[0m]\u001b[0m \u001b[36mapi_variant\u001b[0m=\u001b[35mlocal_dev\u001b[0m \u001b[36mmessage\u001b[0m=\u001b[35m'URL: https://smith.langchain.com/studio/?baseUrl=http://127.0.0.1:2024&organizationId=1af51a76-4aca-416e-9fb5-5d14275e5e54'\u001b[0m \u001b[36mthread_name\u001b[0m=\u001b[35m'Thread-3 (_open_browser)'\u001b[0m\n",
      "\u001b[2m2025-03-13T03:37:06.442035Z\u001b[0m [\u001b[32m\u001b[1minfo     \u001b[0m] \u001b[1mHTTP Request: POST https://api.smith.langchain.com/v1/metadata/submit \"HTTP/1.1 204 No Content\"\u001b[0m [\u001b[0m\u001b[1m\u001b[34mhttpx\u001b[0m]\u001b[0m \u001b[36mapi_variant\u001b[0m=\u001b[35mlocal_dev\u001b[0m \u001b[36mthread_name\u001b[0m=\u001b[35mMainThread\u001b[0m\n",
      "\u001b[2m2025-03-13T03:37:06.701770Z\u001b[0m [\u001b[32m\u001b[1minfo     \u001b[0m] \u001b[1mQueue stats                   \u001b[0m [\u001b[0m\u001b[1m\u001b[34mlanggraph_storage.queue\u001b[0m]\u001b[0m \u001b[36mapi_variant\u001b[0m=\u001b[35mlocal_dev\u001b[0m \u001b[36mmax_age_secs\u001b[0m=\u001b[35mNone\u001b[0m \u001b[36mmed_age_secs\u001b[0m=\u001b[35mNone\u001b[0m \u001b[36mn_pending\u001b[0m=\u001b[35m0\u001b[0m \u001b[36mn_running\u001b[0m=\u001b[35m0\u001b[0m \u001b[36mthread_name\u001b[0m=\u001b[35masyncio_0\u001b[0m\n",
      "\u001b[2m2025-03-13T03:37:06.702088Z\u001b[0m [\u001b[32m\u001b[1minfo     \u001b[0m] \u001b[1mSweeped runs                  \u001b[0m [\u001b[0m\u001b[1m\u001b[34mlanggraph_storage.queue\u001b[0m]\u001b[0m \u001b[36mapi_variant\u001b[0m=\u001b[35mlocal_dev\u001b[0m \u001b[36mrun_ids\u001b[0m=\u001b[35m[]\u001b[0m \u001b[36mthread_name\u001b[0m=\u001b[35mMainThread\u001b[0m\n",
      "\u001b[2m2025-03-13T03:37:08.184069Z\u001b[0m [\u001b[32m\u001b[1minfo     \u001b[0m] \u001b[1mGET /info 200 1ms             \u001b[0m [\u001b[0m\u001b[1m\u001b[34mlanggraph_api.server\u001b[0m]\u001b[0m \u001b[36mapi_variant\u001b[0m=\u001b[35mlocal_dev\u001b[0m \u001b[36mlatency_ms\u001b[0m=\u001b[35m1\u001b[0m \u001b[36mmethod\u001b[0m=\u001b[35mGET\u001b[0m \u001b[36mpath\u001b[0m=\u001b[35m/info\u001b[0m \u001b[36mpath_params\u001b[0m=\u001b[35m{}\u001b[0m \u001b[36mproto\u001b[0m=\u001b[35m1.1\u001b[0m \u001b[36mquery_string\u001b[0m=\u001b[35m\u001b[0m \u001b[36mreq_header\u001b[0m=\u001b[35m{'host': '127.0.0.1:2024', 'connection': 'keep-alive', 'sec-ch-ua-platform': '\"macOS\"', 'user-agent': 'Mozilla/5.0 (Macintosh; Intel Mac OS X 10_15_7) AppleWebKit/537.36 (KHTML, like Gecko) Chrome/134.0.0.0 Safari/537.36', 'sec-ch-ua': '\"Chromium\";v=\"134\", \"Not:A-Brand\";v=\"24\", \"Google Chrome\";v=\"134\"', 'sec-ch-ua-mobile': '?0', 'accept': '*/*', 'origin': 'https://smith.langchain.com', 'sec-fetch-site': 'cross-site', 'sec-fetch-mode': 'cors', 'sec-fetch-dest': 'empty', 'accept-encoding': 'gzip, deflate, br, zstd', 'accept-language': 'en-US,en;q=0.9,ja;q=0.8,zh-CN;q=0.7,zh;q=0.6'}\u001b[0m \u001b[36mres_header\u001b[0m=\u001b[35m{'content-length': '60', 'content-type': 'application/json'}\u001b[0m \u001b[36mroute\u001b[0m=\u001b[35mNone\u001b[0m \u001b[36mstatus\u001b[0m=\u001b[35m200\u001b[0m \u001b[36mthread_name\u001b[0m=\u001b[35masyncio_1\u001b[0m\n",
      "\u001b[2m2025-03-13T03:37:08.184939Z\u001b[0m [\u001b[32m\u001b[1minfo     \u001b[0m] \u001b[1mGetting auth instance: None   \u001b[0m [\u001b[0m\u001b[1m\u001b[34mlanggraph_api.auth.custom\u001b[0m]\u001b[0m \u001b[36mapi_variant\u001b[0m=\u001b[35mlocal_dev\u001b[0m \u001b[36mlanggraph_auth\u001b[0m=\u001b[35mNone\u001b[0m \u001b[36mthread_name\u001b[0m=\u001b[35mMainThread\u001b[0m\n",
      "\u001b[2m2025-03-13T03:37:08.185780Z\u001b[0m [\u001b[32m\u001b[1minfo     \u001b[0m] \u001b[1mPOST /assistants/search 200 2ms\u001b[0m [\u001b[0m\u001b[1m\u001b[34mlanggraph_api.server\u001b[0m]\u001b[0m \u001b[36mapi_variant\u001b[0m=\u001b[35mlocal_dev\u001b[0m \u001b[36mlatency_ms\u001b[0m=\u001b[35m2\u001b[0m \u001b[36mmethod\u001b[0m=\u001b[35mPOST\u001b[0m \u001b[36mpath\u001b[0m=\u001b[35m/assistants/search\u001b[0m \u001b[36mpath_params\u001b[0m=\u001b[35m{}\u001b[0m \u001b[36mproto\u001b[0m=\u001b[35m1.1\u001b[0m \u001b[36mquery_string\u001b[0m=\u001b[35m\u001b[0m \u001b[36mreq_header\u001b[0m=\u001b[35m{'host': '127.0.0.1:2024', 'connection': 'keep-alive', 'content-length': '25', 'x-auth-scheme': 'langsmith', 'sec-ch-ua-platform': '\"macOS\"', 'user-agent': 'Mozilla/5.0 (Macintosh; Intel Mac OS X 10_15_7) AppleWebKit/537.36 (KHTML, like Gecko) Chrome/134.0.0.0 Safari/537.36', 'sec-ch-ua': '\"Chromium\";v=\"134\", \"Not:A-Brand\";v=\"24\", \"Google Chrome\";v=\"134\"', 'content-type': 'application/json', 'sec-ch-ua-mobile': '?0', 'accept': '*/*', 'origin': 'https://smith.langchain.com', 'sec-fetch-site': 'cross-site', 'sec-fetch-mode': 'cors', 'sec-fetch-dest': 'empty', 'accept-encoding': 'gzip, deflate, br, zstd', 'accept-language': 'en-US,en;q=0.9,ja;q=0.8,zh-CN;q=0.7,zh;q=0.6'}\u001b[0m \u001b[36mres_header\u001b[0m=\u001b[35m{'content-length': '246', 'content-type': 'application/json'}\u001b[0m \u001b[36mroute\u001b[0m=\u001b[35m/assistants/search\u001b[0m \u001b[36mstatus\u001b[0m=\u001b[35m200\u001b[0m \u001b[36mthread_name\u001b[0m=\u001b[35masyncio_0\u001b[0m\n",
      "\u001b[2m2025-03-13T03:37:08.298332Z\u001b[0m [\u001b[32m\u001b[1minfo     \u001b[0m] \u001b[1mGET /assistants/fe096781-5601-53d2-b2f6-0d3403f7e9ca/graph 200 93ms\u001b[0m [\u001b[0m\u001b[1m\u001b[34mlanggraph_api.server\u001b[0m]\u001b[0m \u001b[36mapi_variant\u001b[0m=\u001b[35mlocal_dev\u001b[0m \u001b[36mlatency_ms\u001b[0m=\u001b[35m93\u001b[0m \u001b[36mmethod\u001b[0m=\u001b[35mGET\u001b[0m \u001b[36mpath\u001b[0m=\u001b[35m/assistants/fe096781-5601-53d2-b2f6-0d3403f7e9ca/graph\u001b[0m \u001b[36mpath_params\u001b[0m=\u001b[35m{'assistant_id': 'fe096781-5601-53d2-b2f6-0d3403f7e9ca'}\u001b[0m \u001b[36mproto\u001b[0m=\u001b[35m1.1\u001b[0m \u001b[36mquery_string\u001b[0m=\u001b[35m'xray=true'\u001b[0m \u001b[36mreq_header\u001b[0m=\u001b[35m{'host': '127.0.0.1:2024', 'connection': 'keep-alive', 'x-auth-scheme': 'langsmith', 'sec-ch-ua-platform': '\"macOS\"', 'user-agent': 'Mozilla/5.0 (Macintosh; Intel Mac OS X 10_15_7) AppleWebKit/537.36 (KHTML, like Gecko) Chrome/134.0.0.0 Safari/537.36', 'sec-ch-ua': '\"Chromium\";v=\"134\", \"Not:A-Brand\";v=\"24\", \"Google Chrome\";v=\"134\"', 'sec-ch-ua-mobile': '?0', 'accept': '*/*', 'origin': 'https://smith.langchain.com', 'sec-fetch-site': 'cross-site', 'sec-fetch-mode': 'cors', 'sec-fetch-dest': 'empty', 'accept-encoding': 'gzip, deflate, br, zstd', 'accept-language': 'en-US,en;q=0.9,ja;q=0.8,zh-CN;q=0.7,zh;q=0.6'}\u001b[0m \u001b[36mres_header\u001b[0m=\u001b[35m{'content-length': '567', 'content-type': 'application/json'}\u001b[0m \u001b[36mroute\u001b[0m=\u001b[35m/assistants/{assistant_id}/graph\u001b[0m \u001b[36mstatus\u001b[0m=\u001b[35m200\u001b[0m \u001b[36mthread_name\u001b[0m=\u001b[35masyncio_0\u001b[0m\n",
      "\u001b[2m2025-03-13T03:37:08.299098Z\u001b[0m [\u001b[32m\u001b[1minfo     \u001b[0m] \u001b[1mGET /assistants/fe096781-5601-53d2-b2f6-0d3403f7e9ca/schemas 200 94ms\u001b[0m [\u001b[0m\u001b[1m\u001b[34mlanggraph_api.server\u001b[0m]\u001b[0m \u001b[36mapi_variant\u001b[0m=\u001b[35mlocal_dev\u001b[0m \u001b[36mlatency_ms\u001b[0m=\u001b[35m94\u001b[0m \u001b[36mmethod\u001b[0m=\u001b[35mGET\u001b[0m \u001b[36mpath\u001b[0m=\u001b[35m/assistants/fe096781-5601-53d2-b2f6-0d3403f7e9ca/schemas\u001b[0m \u001b[36mpath_params\u001b[0m=\u001b[35m{'assistant_id': 'fe096781-5601-53d2-b2f6-0d3403f7e9ca'}\u001b[0m \u001b[36mproto\u001b[0m=\u001b[35m1.1\u001b[0m \u001b[36mquery_string\u001b[0m=\u001b[35m\u001b[0m \u001b[36mreq_header\u001b[0m=\u001b[35m{'host': '127.0.0.1:2024', 'connection': 'keep-alive', 'x-auth-scheme': 'langsmith', 'sec-ch-ua-platform': '\"macOS\"', 'user-agent': 'Mozilla/5.0 (Macintosh; Intel Mac OS X 10_15_7) AppleWebKit/537.36 (KHTML, like Gecko) Chrome/134.0.0.0 Safari/537.36', 'sec-ch-ua': '\"Chromium\";v=\"134\", \"Not:A-Brand\";v=\"24\", \"Google Chrome\";v=\"134\"', 'sec-ch-ua-mobile': '?0', 'accept': '*/*', 'origin': 'https://smith.langchain.com', 'sec-fetch-site': 'cross-site', 'sec-fetch-mode': 'cors', 'sec-fetch-dest': 'empty', 'accept-encoding': 'gzip, deflate, br, zstd', 'accept-language': 'en-US,en;q=0.9,ja;q=0.8,zh-CN;q=0.7,zh;q=0.6'}\u001b[0m \u001b[36mres_header\u001b[0m=\u001b[35m{'content-length': '54083', 'content-type': 'application/json'}\u001b[0m \u001b[36mroute\u001b[0m=\u001b[35m/assistants/{assistant_id}/schemas\u001b[0m \u001b[36mstatus\u001b[0m=\u001b[35m200\u001b[0m \u001b[36mthread_name\u001b[0m=\u001b[35masyncio_1\u001b[0m\n",
      "\u001b[2m2025-03-13T03:37:08.299712Z\u001b[0m [\u001b[32m\u001b[1minfo     \u001b[0m] \u001b[1mGET /assistants/fe096781-5601-53d2-b2f6-0d3403f7e9ca/subgraphs 200 94ms\u001b[0m [\u001b[0m\u001b[1m\u001b[34mlanggraph_api.server\u001b[0m]\u001b[0m \u001b[36mapi_variant\u001b[0m=\u001b[35mlocal_dev\u001b[0m \u001b[36mlatency_ms\u001b[0m=\u001b[35m94\u001b[0m \u001b[36mmethod\u001b[0m=\u001b[35mGET\u001b[0m \u001b[36mpath\u001b[0m=\u001b[35m/assistants/fe096781-5601-53d2-b2f6-0d3403f7e9ca/subgraphs\u001b[0m \u001b[36mpath_params\u001b[0m=\u001b[35m{'assistant_id': 'fe096781-5601-53d2-b2f6-0d3403f7e9ca'}\u001b[0m \u001b[36mproto\u001b[0m=\u001b[35m1.1\u001b[0m \u001b[36mquery_string\u001b[0m=\u001b[35m'recurse=true'\u001b[0m \u001b[36mreq_header\u001b[0m=\u001b[35m{'host': '127.0.0.1:2024', 'connection': 'keep-alive', 'x-auth-scheme': 'langsmith', 'sec-ch-ua-platform': '\"macOS\"', 'user-agent': 'Mozilla/5.0 (Macintosh; Intel Mac OS X 10_15_7) AppleWebKit/537.36 (KHTML, like Gecko) Chrome/134.0.0.0 Safari/537.36', 'sec-ch-ua': '\"Chromium\";v=\"134\", \"Not:A-Brand\";v=\"24\", \"Google Chrome\";v=\"134\"', 'sec-ch-ua-mobile': '?0', 'accept': '*/*', 'origin': 'https://smith.langchain.com', 'sec-fetch-site': 'cross-site', 'sec-fetch-mode': 'cors', 'sec-fetch-dest': 'empty', 'accept-encoding': 'gzip, deflate, br, zstd', 'accept-language': 'en-US,en;q=0.9,ja;q=0.8,zh-CN;q=0.7,zh;q=0.6'}\u001b[0m \u001b[36mres_header\u001b[0m=\u001b[35m{'content-length': '2', 'content-type': 'application/json'}\u001b[0m \u001b[36mroute\u001b[0m=\u001b[35m/assistants/{assistant_id}/subgraphs\u001b[0m \u001b[36mstatus\u001b[0m=\u001b[35m200\u001b[0m \u001b[36mthread_name\u001b[0m=\u001b[35masyncio_0\u001b[0m\n",
      "\u001b[2m2025-03-13T03:37:08.301287Z\u001b[0m [\u001b[32m\u001b[1minfo     \u001b[0m] \u001b[1mPOST /threads/search 200 4ms  \u001b[0m [\u001b[0m\u001b[1m\u001b[34mlanggraph_api.server\u001b[0m]\u001b[0m \u001b[36mapi_variant\u001b[0m=\u001b[35mlocal_dev\u001b[0m \u001b[36mlatency_ms\u001b[0m=\u001b[35m4\u001b[0m \u001b[36mmethod\u001b[0m=\u001b[35mPOST\u001b[0m \u001b[36mpath\u001b[0m=\u001b[35m/threads/search\u001b[0m \u001b[36mpath_params\u001b[0m=\u001b[35m{}\u001b[0m \u001b[36mproto\u001b[0m=\u001b[35m1.1\u001b[0m \u001b[36mquery_string\u001b[0m=\u001b[35m\u001b[0m \u001b[36mreq_header\u001b[0m=\u001b[35m{'host': '127.0.0.1:2024', 'connection': 'keep-alive', 'content-length': '39', 'x-auth-scheme': 'langsmith', 'sec-ch-ua-platform': '\"macOS\"', 'user-agent': 'Mozilla/5.0 (Macintosh; Intel Mac OS X 10_15_7) AppleWebKit/537.36 (KHTML, like Gecko) Chrome/134.0.0.0 Safari/537.36', 'sec-ch-ua': '\"Chromium\";v=\"134\", \"Not:A-Brand\";v=\"24\", \"Google Chrome\";v=\"134\"', 'content-type': 'application/json', 'sec-ch-ua-mobile': '?0', 'accept': '*/*', 'origin': 'https://smith.langchain.com', 'sec-fetch-site': 'cross-site', 'sec-fetch-mode': 'cors', 'sec-fetch-dest': 'empty', 'accept-encoding': 'gzip, deflate, br, zstd', 'accept-language': 'en-US,en;q=0.9,ja;q=0.8,zh-CN;q=0.7,zh;q=0.6'}\u001b[0m \u001b[36mres_header\u001b[0m=\u001b[35m{'content-length': '2', 'content-type': 'application/json'}\u001b[0m \u001b[36mroute\u001b[0m=\u001b[35m/threads/search\u001b[0m \u001b[36mstatus\u001b[0m=\u001b[35m200\u001b[0m \u001b[36mthread_name\u001b[0m=\u001b[35masyncio_0\u001b[0m\n",
      "\u001b[2m2025-03-13T03:37:09.780713Z\u001b[0m [\u001b[32m\u001b[1minfo     \u001b[0m] \u001b[1mGET /assistants/fe096781-5601-53d2-b2f6-0d3403f7e9ca/schemas 200 107ms\u001b[0m [\u001b[0m\u001b[1m\u001b[34mlanggraph_api.server\u001b[0m]\u001b[0m \u001b[36mapi_variant\u001b[0m=\u001b[35mlocal_dev\u001b[0m \u001b[36mlatency_ms\u001b[0m=\u001b[35m107\u001b[0m \u001b[36mmethod\u001b[0m=\u001b[35mGET\u001b[0m \u001b[36mpath\u001b[0m=\u001b[35m/assistants/fe096781-5601-53d2-b2f6-0d3403f7e9ca/schemas\u001b[0m \u001b[36mpath_params\u001b[0m=\u001b[35m{'assistant_id': 'fe096781-5601-53d2-b2f6-0d3403f7e9ca'}\u001b[0m \u001b[36mproto\u001b[0m=\u001b[35m1.1\u001b[0m \u001b[36mquery_string\u001b[0m=\u001b[35m\u001b[0m \u001b[36mreq_header\u001b[0m=\u001b[35m{'host': '127.0.0.1:2024', 'connection': 'keep-alive', 'x-auth-scheme': 'langsmith', 'sec-ch-ua-platform': '\"macOS\"', 'user-agent': 'Mozilla/5.0 (Macintosh; Intel Mac OS X 10_15_7) AppleWebKit/537.36 (KHTML, like Gecko) Chrome/134.0.0.0 Safari/537.36', 'sec-ch-ua': '\"Chromium\";v=\"134\", \"Not:A-Brand\";v=\"24\", \"Google Chrome\";v=\"134\"', 'sec-ch-ua-mobile': '?0', 'accept': '*/*', 'origin': 'https://smith.langchain.com', 'sec-fetch-site': 'cross-site', 'sec-fetch-mode': 'cors', 'sec-fetch-dest': 'empty', 'accept-encoding': 'gzip, deflate, br, zstd', 'accept-language': 'en-US,en;q=0.9,ja;q=0.8,zh-CN;q=0.7,zh;q=0.6'}\u001b[0m \u001b[36mres_header\u001b[0m=\u001b[35m{'content-length': '54083', 'content-type': 'application/json'}\u001b[0m \u001b[36mroute\u001b[0m=\u001b[35m/assistants/{assistant_id}/schemas\u001b[0m \u001b[36mstatus\u001b[0m=\u001b[35m200\u001b[0m \u001b[36mthread_name\u001b[0m=\u001b[35masyncio_0\u001b[0m\n",
      "\u001b[2m2025-03-13T03:37:11.676646Z\u001b[0m [\u001b[32m\u001b[1minfo     \u001b[0m] \u001b[1mPOST /assistants/search 200 3ms\u001b[0m [\u001b[0m\u001b[1m\u001b[34mlanggraph_api.server\u001b[0m]\u001b[0m \u001b[36mapi_variant\u001b[0m=\u001b[35mlocal_dev\u001b[0m \u001b[36mlatency_ms\u001b[0m=\u001b[35m3\u001b[0m \u001b[36mmethod\u001b[0m=\u001b[35mPOST\u001b[0m \u001b[36mpath\u001b[0m=\u001b[35m/assistants/search\u001b[0m \u001b[36mpath_params\u001b[0m=\u001b[35m{}\u001b[0m \u001b[36mproto\u001b[0m=\u001b[35m1.1\u001b[0m \u001b[36mquery_string\u001b[0m=\u001b[35m\u001b[0m \u001b[36mreq_header\u001b[0m=\u001b[35m{'host': '127.0.0.1:2024', 'connection': 'keep-alive', 'content-length': '25', 'x-auth-scheme': 'langsmith', 'sec-ch-ua-platform': '\"macOS\"', 'user-agent': 'Mozilla/5.0 (Macintosh; Intel Mac OS X 10_15_7) AppleWebKit/537.36 (KHTML, like Gecko) Chrome/134.0.0.0 Safari/537.36', 'sec-ch-ua': '\"Chromium\";v=\"134\", \"Not:A-Brand\";v=\"24\", \"Google Chrome\";v=\"134\"', 'content-type': 'application/json', 'sec-ch-ua-mobile': '?0', 'accept': '*/*', 'origin': 'https://smith.langchain.com', 'sec-fetch-site': 'cross-site', 'sec-fetch-mode': 'cors', 'sec-fetch-dest': 'empty', 'accept-encoding': 'gzip, deflate, br, zstd', 'accept-language': 'en-US,en;q=0.9,ja;q=0.8,zh-CN;q=0.7,zh;q=0.6'}\u001b[0m \u001b[36mres_header\u001b[0m=\u001b[35m{'content-length': '246', 'content-type': 'application/json'}\u001b[0m \u001b[36mroute\u001b[0m=\u001b[35m/assistants/search\u001b[0m \u001b[36mstatus\u001b[0m=\u001b[35m200\u001b[0m \u001b[36mthread_name\u001b[0m=\u001b[35masyncio_1\u001b[0m\n",
      "\u001b[2m2025-03-13T03:37:20.352497Z\u001b[0m [\u001b[32m\u001b[1minfo     \u001b[0m] \u001b[1mPOST /threads 200 1ms         \u001b[0m [\u001b[0m\u001b[1m\u001b[34mlanggraph_api.server\u001b[0m]\u001b[0m \u001b[36mapi_variant\u001b[0m=\u001b[35mlocal_dev\u001b[0m \u001b[36mlatency_ms\u001b[0m=\u001b[35m1\u001b[0m \u001b[36mmethod\u001b[0m=\u001b[35mPOST\u001b[0m \u001b[36mpath\u001b[0m=\u001b[35m/threads\u001b[0m \u001b[36mpath_params\u001b[0m=\u001b[35m{}\u001b[0m \u001b[36mproto\u001b[0m=\u001b[35m1.1\u001b[0m \u001b[36mquery_string\u001b[0m=\u001b[35m\u001b[0m \u001b[36mreq_header\u001b[0m=\u001b[35m{'host': '127.0.0.1:2024', 'connection': 'keep-alive', 'content-length': '2', 'x-auth-scheme': 'langsmith', 'sec-ch-ua-platform': '\"macOS\"', 'user-agent': 'Mozilla/5.0 (Macintosh; Intel Mac OS X 10_15_7) AppleWebKit/537.36 (KHTML, like Gecko) Chrome/134.0.0.0 Safari/537.36', 'sec-ch-ua': '\"Chromium\";v=\"134\", \"Not:A-Brand\";v=\"24\", \"Google Chrome\";v=\"134\"', 'content-type': 'application/json', 'sec-ch-ua-mobile': '?0', 'accept': '*/*', 'origin': 'https://smith.langchain.com', 'sec-fetch-site': 'cross-site', 'sec-fetch-mode': 'cors', 'sec-fetch-dest': 'empty', 'accept-encoding': 'gzip, deflate, br, zstd', 'accept-language': 'en-US,en;q=0.9,ja;q=0.8,zh-CN;q=0.7,zh;q=0.6'}\u001b[0m \u001b[36mres_header\u001b[0m=\u001b[35m{'content-length': '204', 'content-type': 'application/json'}\u001b[0m \u001b[36mroute\u001b[0m=\u001b[35m/threads\u001b[0m \u001b[36mstatus\u001b[0m=\u001b[35m200\u001b[0m \u001b[36mthread_name\u001b[0m=\u001b[35masyncio_0\u001b[0m\n",
      "\u001b[2m2025-03-13T03:37:20.362254Z\u001b[0m [\u001b[32m\u001b[1minfo     \u001b[0m] \u001b[1mCreated run                   \u001b[0m [\u001b[0m\u001b[1m\u001b[34mlanggraph_storage.ops\u001b[0m]\u001b[0m \u001b[36mapi_variant\u001b[0m=\u001b[35mlocal_dev\u001b[0m \u001b[36mrun_id\u001b[0m=\u001b[35m1efffbc7-7fa8-6f82-8af2-24b07d51ff17\u001b[0m \u001b[36mthread_id\u001b[0m=\u001b[35m067ba93a-7a03-4ed9-a89d-a18c70fc0f51\u001b[0m \u001b[36mthread_name\u001b[0m=\u001b[35mMainThread\u001b[0m\n",
      "\u001b[2m2025-03-13T03:37:20.426761Z\u001b[0m [\u001b[32m\u001b[1minfo     \u001b[0m] \u001b[1mGET /threads/067ba93a-7a03-4ed9-a89d-a18c70fc0f51/runs 200 57ms\u001b[0m [\u001b[0m\u001b[1m\u001b[34mlanggraph_api.server\u001b[0m]\u001b[0m \u001b[36mapi_variant\u001b[0m=\u001b[35mlocal_dev\u001b[0m \u001b[36mlatency_ms\u001b[0m=\u001b[35m57\u001b[0m \u001b[36mmethod\u001b[0m=\u001b[35mGET\u001b[0m \u001b[36mpath\u001b[0m=\u001b[35m/threads/067ba93a-7a03-4ed9-a89d-a18c70fc0f51/runs\u001b[0m \u001b[36mpath_params\u001b[0m=\u001b[35m{'thread_id': '067ba93a-7a03-4ed9-a89d-a18c70fc0f51'}\u001b[0m \u001b[36mproto\u001b[0m=\u001b[35m1.1\u001b[0m \u001b[36mquery_string\u001b[0m=\u001b[35m'limit=1000&offset=0&status=pending'\u001b[0m \u001b[36mreq_header\u001b[0m=\u001b[35m{'host': '127.0.0.1:2024', 'connection': 'keep-alive', 'x-auth-scheme': 'langsmith', 'sec-ch-ua-platform': '\"macOS\"', 'user-agent': 'Mozilla/5.0 (Macintosh; Intel Mac OS X 10_15_7) AppleWebKit/537.36 (KHTML, like Gecko) Chrome/134.0.0.0 Safari/537.36', 'sec-ch-ua': '\"Chromium\";v=\"134\", \"Not:A-Brand\";v=\"24\", \"Google Chrome\";v=\"134\"', 'sec-ch-ua-mobile': '?0', 'accept': '*/*', 'origin': 'https://smith.langchain.com', 'sec-fetch-site': 'cross-site', 'sec-fetch-mode': 'cors', 'sec-fetch-dest': 'empty', 'accept-encoding': 'gzip, deflate, br, zstd', 'accept-language': 'en-US,en;q=0.9,ja;q=0.8,zh-CN;q=0.7,zh;q=0.6'}\u001b[0m \u001b[36mres_header\u001b[0m=\u001b[35m{'content-length': '1139', 'content-type': 'application/json'}\u001b[0m \u001b[36mroute\u001b[0m=\u001b[35m/threads/{thread_id}/runs\u001b[0m \u001b[36mstatus\u001b[0m=\u001b[35m200\u001b[0m \u001b[36mthread_name\u001b[0m=\u001b[35masyncio_1\u001b[0m\n",
      "\u001b[2m2025-03-13T03:37:20.428117Z\u001b[0m [\u001b[32m\u001b[1minfo     \u001b[0m] \u001b[1mPOST /threads/067ba93a-7a03-4ed9-a89d-a18c70fc0f51/history 200 62ms\u001b[0m [\u001b[0m\u001b[1m\u001b[34mlanggraph_api.server\u001b[0m]\u001b[0m \u001b[36mapi_variant\u001b[0m=\u001b[35mlocal_dev\u001b[0m \u001b[36mlatency_ms\u001b[0m=\u001b[35m62\u001b[0m \u001b[36mmethod\u001b[0m=\u001b[35mPOST\u001b[0m \u001b[36mpath\u001b[0m=\u001b[35m/threads/067ba93a-7a03-4ed9-a89d-a18c70fc0f51/history\u001b[0m \u001b[36mpath_params\u001b[0m=\u001b[35m{'thread_id': '067ba93a-7a03-4ed9-a89d-a18c70fc0f51'}\u001b[0m \u001b[36mproto\u001b[0m=\u001b[35m1.1\u001b[0m \u001b[36mquery_string\u001b[0m=\u001b[35m\u001b[0m \u001b[36mreq_header\u001b[0m=\u001b[35m{'host': '127.0.0.1:2024', 'connection': 'keep-alive', 'content-length': '14', 'x-auth-scheme': 'langsmith', 'sec-ch-ua-platform': '\"macOS\"', 'user-agent': 'Mozilla/5.0 (Macintosh; Intel Mac OS X 10_15_7) AppleWebKit/537.36 (KHTML, like Gecko) Chrome/134.0.0.0 Safari/537.36', 'sec-ch-ua': '\"Chromium\";v=\"134\", \"Not:A-Brand\";v=\"24\", \"Google Chrome\";v=\"134\"', 'content-type': 'application/json', 'sec-ch-ua-mobile': '?0', 'accept': '*/*', 'origin': 'https://smith.langchain.com', 'sec-fetch-site': 'cross-site', 'sec-fetch-mode': 'cors', 'sec-fetch-dest': 'empty', 'accept-encoding': 'gzip, deflate, br, zstd', 'accept-language': 'en-US,en;q=0.9,ja;q=0.8,zh-CN;q=0.7,zh;q=0.6'}\u001b[0m \u001b[36mres_header\u001b[0m=\u001b[35m{'content-length': '2', 'content-type': 'application/json'}\u001b[0m \u001b[36mroute\u001b[0m=\u001b[35m/threads/{thread_id}/history\u001b[0m \u001b[36mstatus\u001b[0m=\u001b[35m200\u001b[0m \u001b[36mthread_name\u001b[0m=\u001b[35masyncio_0\u001b[0m\n",
      "\u001b[2m2025-03-13T03:37:20.428901Z\u001b[0m [\u001b[32m\u001b[1minfo     \u001b[0m] \u001b[1mPOST /threads/067ba93a-7a03-4ed9-a89d-a18c70fc0f51/history 200 59ms\u001b[0m [\u001b[0m\u001b[1m\u001b[34mlanggraph_api.server\u001b[0m]\u001b[0m \u001b[36mapi_variant\u001b[0m=\u001b[35mlocal_dev\u001b[0m \u001b[36mlatency_ms\u001b[0m=\u001b[35m59\u001b[0m \u001b[36mmethod\u001b[0m=\u001b[35mPOST\u001b[0m \u001b[36mpath\u001b[0m=\u001b[35m/threads/067ba93a-7a03-4ed9-a89d-a18c70fc0f51/history\u001b[0m \u001b[36mpath_params\u001b[0m=\u001b[35m{'thread_id': '067ba93a-7a03-4ed9-a89d-a18c70fc0f51'}\u001b[0m \u001b[36mproto\u001b[0m=\u001b[35m1.1\u001b[0m \u001b[36mquery_string\u001b[0m=\u001b[35m\u001b[0m \u001b[36mreq_header\u001b[0m=\u001b[35m{'host': '127.0.0.1:2024', 'connection': 'keep-alive', 'content-length': '14', 'x-auth-scheme': 'langsmith', 'sec-ch-ua-platform': '\"macOS\"', 'user-agent': 'Mozilla/5.0 (Macintosh; Intel Mac OS X 10_15_7) AppleWebKit/537.36 (KHTML, like Gecko) Chrome/134.0.0.0 Safari/537.36', 'sec-ch-ua': '\"Chromium\";v=\"134\", \"Not:A-Brand\";v=\"24\", \"Google Chrome\";v=\"134\"', 'content-type': 'application/json', 'sec-ch-ua-mobile': '?0', 'accept': '*/*', 'origin': 'https://smith.langchain.com', 'sec-fetch-site': 'cross-site', 'sec-fetch-mode': 'cors', 'sec-fetch-dest': 'empty', 'accept-encoding': 'gzip, deflate, br, zstd', 'accept-language': 'en-US,en;q=0.9,ja;q=0.8,zh-CN;q=0.7,zh;q=0.6'}\u001b[0m \u001b[36mres_header\u001b[0m=\u001b[35m{'content-length': '2', 'content-type': 'application/json'}\u001b[0m \u001b[36mroute\u001b[0m=\u001b[35m/threads/{thread_id}/history\u001b[0m \u001b[36mstatus\u001b[0m=\u001b[35m200\u001b[0m \u001b[36mthread_name\u001b[0m=\u001b[35masyncio_1\u001b[0m\n",
      "\u001b[2m2025-03-13T03:37:20.429979Z\u001b[0m [\u001b[32m\u001b[1minfo     \u001b[0m] \u001b[1mGET /threads/067ba93a-7a03-4ed9-a89d-a18c70fc0f51/runs 200 1ms\u001b[0m [\u001b[0m\u001b[1m\u001b[34mlanggraph_api.server\u001b[0m]\u001b[0m \u001b[36mapi_variant\u001b[0m=\u001b[35mlocal_dev\u001b[0m \u001b[36mlatency_ms\u001b[0m=\u001b[35m1\u001b[0m \u001b[36mmethod\u001b[0m=\u001b[35mGET\u001b[0m \u001b[36mpath\u001b[0m=\u001b[35m/threads/067ba93a-7a03-4ed9-a89d-a18c70fc0f51/runs\u001b[0m \u001b[36mpath_params\u001b[0m=\u001b[35m{'thread_id': '067ba93a-7a03-4ed9-a89d-a18c70fc0f51'}\u001b[0m \u001b[36mproto\u001b[0m=\u001b[35m1.1\u001b[0m \u001b[36mquery_string\u001b[0m=\u001b[35m'limit=1000&offset=0&status=pending'\u001b[0m \u001b[36mreq_header\u001b[0m=\u001b[35m{'host': '127.0.0.1:2024', 'connection': 'keep-alive', 'x-auth-scheme': 'langsmith', 'sec-ch-ua-platform': '\"macOS\"', 'user-agent': 'Mozilla/5.0 (Macintosh; Intel Mac OS X 10_15_7) AppleWebKit/537.36 (KHTML, like Gecko) Chrome/134.0.0.0 Safari/537.36', 'sec-ch-ua': '\"Chromium\";v=\"134\", \"Not:A-Brand\";v=\"24\", \"Google Chrome\";v=\"134\"', 'sec-ch-ua-mobile': '?0', 'accept': '*/*', 'origin': 'https://smith.langchain.com', 'sec-fetch-site': 'cross-site', 'sec-fetch-mode': 'cors', 'sec-fetch-dest': 'empty', 'accept-encoding': 'gzip, deflate, br, zstd', 'accept-language': 'en-US,en;q=0.9,ja;q=0.8,zh-CN;q=0.7,zh;q=0.6'}\u001b[0m \u001b[36mres_header\u001b[0m=\u001b[35m{'content-length': '1139', 'content-type': 'application/json'}\u001b[0m \u001b[36mroute\u001b[0m=\u001b[35m/threads/{thread_id}/runs\u001b[0m \u001b[36mstatus\u001b[0m=\u001b[35m200\u001b[0m \u001b[36mthread_name\u001b[0m=\u001b[35masyncio_0\u001b[0m\n",
      "\u001b[2m2025-03-13T03:37:21.327968Z\u001b[0m [\u001b[32m\u001b[1minfo     \u001b[0m] \u001b[1mStarting background run       \u001b[0m [\u001b[0m\u001b[1m\u001b[34mlanggraph_api.worker\u001b[0m]\u001b[0m \u001b[36mapi_variant\u001b[0m=\u001b[35mlocal_dev\u001b[0m \u001b[36mrun_attempt\u001b[0m=\u001b[35m1\u001b[0m \u001b[36mrun_created_at\u001b[0m=\u001b[35m2025-03-13T03:37:20.362180+00:00\u001b[0m \u001b[36mrun_id\u001b[0m=\u001b[35m1efffbc7-7fa8-6f82-8af2-24b07d51ff17\u001b[0m \u001b[36mrun_queue_ms\u001b[0m=\u001b[35m965\u001b[0m \u001b[36mrun_started_at\u001b[0m=\u001b[35m2025-03-13T03:37:21.327218+00:00\u001b[0m \u001b[36mthread_name\u001b[0m=\u001b[35masyncio_1\u001b[0m\n",
      "\u001b[2m2025-03-13T03:37:21.695728Z\u001b[0m [\u001b[32m\u001b[1minfo     \u001b[0m] \u001b[1mGET /assistants/fe096781-5601-53d2-b2f6-0d3403f7e9ca/schemas 200 77ms\u001b[0m [\u001b[0m\u001b[1m\u001b[34mlanggraph_api.server\u001b[0m]\u001b[0m \u001b[36mapi_variant\u001b[0m=\u001b[35mlocal_dev\u001b[0m \u001b[36mlatency_ms\u001b[0m=\u001b[35m77\u001b[0m \u001b[36mmethod\u001b[0m=\u001b[35mGET\u001b[0m \u001b[36mpath\u001b[0m=\u001b[35m/assistants/fe096781-5601-53d2-b2f6-0d3403f7e9ca/schemas\u001b[0m \u001b[36mpath_params\u001b[0m=\u001b[35m{'assistant_id': 'fe096781-5601-53d2-b2f6-0d3403f7e9ca'}\u001b[0m \u001b[36mproto\u001b[0m=\u001b[35m1.1\u001b[0m \u001b[36mquery_string\u001b[0m=\u001b[35m\u001b[0m \u001b[36mreq_header\u001b[0m=\u001b[35m{'host': '127.0.0.1:2024', 'connection': 'keep-alive', 'x-auth-scheme': 'langsmith', 'sec-ch-ua-platform': '\"macOS\"', 'user-agent': 'Mozilla/5.0 (Macintosh; Intel Mac OS X 10_15_7) AppleWebKit/537.36 (KHTML, like Gecko) Chrome/134.0.0.0 Safari/537.36', 'sec-ch-ua': '\"Chromium\";v=\"134\", \"Not:A-Brand\";v=\"24\", \"Google Chrome\";v=\"134\"', 'sec-ch-ua-mobile': '?0', 'accept': '*/*', 'origin': 'https://smith.langchain.com', 'sec-fetch-site': 'cross-site', 'sec-fetch-mode': 'cors', 'sec-fetch-dest': 'empty', 'accept-encoding': 'gzip, deflate, br, zstd', 'accept-language': 'en-US,en;q=0.9,ja;q=0.8,zh-CN;q=0.7,zh;q=0.6'}\u001b[0m \u001b[36mres_header\u001b[0m=\u001b[35m{'content-length': '54083', 'content-type': 'application/json'}\u001b[0m \u001b[36mroute\u001b[0m=\u001b[35m/assistants/{assistant_id}/schemas\u001b[0m \u001b[36mstatus\u001b[0m=\u001b[35m200\u001b[0m \u001b[36mthread_name\u001b[0m=\u001b[35masyncio_0\u001b[0m\n",
      "\u001b[2m2025-03-13T03:37:21.696277Z\u001b[0m [\u001b[32m\u001b[1minfo     \u001b[0m] \u001b[1mGET /assistants/fe096781-5601-53d2-b2f6-0d3403f7e9ca/graph 200 77ms\u001b[0m [\u001b[0m\u001b[1m\u001b[34mlanggraph_api.server\u001b[0m]\u001b[0m \u001b[36mapi_variant\u001b[0m=\u001b[35mlocal_dev\u001b[0m \u001b[36mlatency_ms\u001b[0m=\u001b[35m77\u001b[0m \u001b[36mmethod\u001b[0m=\u001b[35mGET\u001b[0m \u001b[36mpath\u001b[0m=\u001b[35m/assistants/fe096781-5601-53d2-b2f6-0d3403f7e9ca/graph\u001b[0m \u001b[36mpath_params\u001b[0m=\u001b[35m{'assistant_id': 'fe096781-5601-53d2-b2f6-0d3403f7e9ca'}\u001b[0m \u001b[36mproto\u001b[0m=\u001b[35m1.1\u001b[0m \u001b[36mquery_string\u001b[0m=\u001b[35m'xray=true'\u001b[0m \u001b[36mreq_header\u001b[0m=\u001b[35m{'host': '127.0.0.1:2024', 'connection': 'keep-alive', 'x-auth-scheme': 'langsmith', 'sec-ch-ua-platform': '\"macOS\"', 'user-agent': 'Mozilla/5.0 (Macintosh; Intel Mac OS X 10_15_7) AppleWebKit/537.36 (KHTML, like Gecko) Chrome/134.0.0.0 Safari/537.36', 'sec-ch-ua': '\"Chromium\";v=\"134\", \"Not:A-Brand\";v=\"24\", \"Google Chrome\";v=\"134\"', 'sec-ch-ua-mobile': '?0', 'accept': '*/*', 'origin': 'https://smith.langchain.com', 'sec-fetch-site': 'cross-site', 'sec-fetch-mode': 'cors', 'sec-fetch-dest': 'empty', 'accept-encoding': 'gzip, deflate, br, zstd', 'accept-language': 'en-US,en;q=0.9,ja;q=0.8,zh-CN;q=0.7,zh;q=0.6'}\u001b[0m \u001b[36mres_header\u001b[0m=\u001b[35m{'content-length': '567', 'content-type': 'application/json'}\u001b[0m \u001b[36mroute\u001b[0m=\u001b[35m/assistants/{assistant_id}/graph\u001b[0m \u001b[36mstatus\u001b[0m=\u001b[35m200\u001b[0m \u001b[36mthread_name\u001b[0m=\u001b[35masyncio_1\u001b[0m\n",
      "\u001b[2m2025-03-13T03:37:21.696521Z\u001b[0m [\u001b[32m\u001b[1minfo     \u001b[0m] \u001b[1mGET /assistants/fe096781-5601-53d2-b2f6-0d3403f7e9ca/subgraphs 200 77ms\u001b[0m [\u001b[0m\u001b[1m\u001b[34mlanggraph_api.server\u001b[0m]\u001b[0m \u001b[36mapi_variant\u001b[0m=\u001b[35mlocal_dev\u001b[0m \u001b[36mlatency_ms\u001b[0m=\u001b[35m77\u001b[0m \u001b[36mmethod\u001b[0m=\u001b[35mGET\u001b[0m \u001b[36mpath\u001b[0m=\u001b[35m/assistants/fe096781-5601-53d2-b2f6-0d3403f7e9ca/subgraphs\u001b[0m \u001b[36mpath_params\u001b[0m=\u001b[35m{'assistant_id': 'fe096781-5601-53d2-b2f6-0d3403f7e9ca'}\u001b[0m \u001b[36mproto\u001b[0m=\u001b[35m1.1\u001b[0m \u001b[36mquery_string\u001b[0m=\u001b[35m'recurse=true'\u001b[0m \u001b[36mreq_header\u001b[0m=\u001b[35m{'host': '127.0.0.1:2024', 'connection': 'keep-alive', 'x-auth-scheme': 'langsmith', 'sec-ch-ua-platform': '\"macOS\"', 'user-agent': 'Mozilla/5.0 (Macintosh; Intel Mac OS X 10_15_7) AppleWebKit/537.36 (KHTML, like Gecko) Chrome/134.0.0.0 Safari/537.36', 'sec-ch-ua': '\"Chromium\";v=\"134\", \"Not:A-Brand\";v=\"24\", \"Google Chrome\";v=\"134\"', 'sec-ch-ua-mobile': '?0', 'accept': '*/*', 'origin': 'https://smith.langchain.com', 'sec-fetch-site': 'cross-site', 'sec-fetch-mode': 'cors', 'sec-fetch-dest': 'empty', 'accept-encoding': 'gzip, deflate, br, zstd', 'accept-language': 'en-US,en;q=0.9,ja;q=0.8,zh-CN;q=0.7,zh;q=0.6'}\u001b[0m \u001b[36mres_header\u001b[0m=\u001b[35m{'content-length': '2', 'content-type': 'application/json'}\u001b[0m \u001b[36mroute\u001b[0m=\u001b[35m/assistants/{assistant_id}/subgraphs\u001b[0m \u001b[36mstatus\u001b[0m=\u001b[35m200\u001b[0m \u001b[36mthread_name\u001b[0m=\u001b[35masyncio_0\u001b[0m\n",
      "\u001b[2m2025-03-13T03:37:24.024316Z\u001b[0m [\u001b[32m\u001b[1minfo     \u001b[0m] \u001b[1mHTTP Request: POST http://localhost:11434/v1/chat/completions \"HTTP/1.1 200 OK\"\u001b[0m [\u001b[0m\u001b[1m\u001b[34mhttpx\u001b[0m]\u001b[0m \u001b[36mapi_variant\u001b[0m=\u001b[35mlocal_dev\u001b[0m \u001b[36mthread_name\u001b[0m=\u001b[35mMainThread\u001b[0m\n",
      "\u001b[2m2025-03-13T03:37:24.197198Z\u001b[0m [\u001b[32m\u001b[1minfo     \u001b[0m] \u001b[1mGET /assistants/fe096781-5601-53d2-b2f6-0d3403f7e9ca/schemas 200 103ms\u001b[0m [\u001b[0m\u001b[1m\u001b[34mlanggraph_api.server\u001b[0m]\u001b[0m \u001b[36mapi_variant\u001b[0m=\u001b[35mlocal_dev\u001b[0m \u001b[36mlatency_ms\u001b[0m=\u001b[35m103\u001b[0m \u001b[36mmethod\u001b[0m=\u001b[35mGET\u001b[0m \u001b[36mpath\u001b[0m=\u001b[35m/assistants/fe096781-5601-53d2-b2f6-0d3403f7e9ca/schemas\u001b[0m \u001b[36mpath_params\u001b[0m=\u001b[35m{'assistant_id': 'fe096781-5601-53d2-b2f6-0d3403f7e9ca'}\u001b[0m \u001b[36mproto\u001b[0m=\u001b[35m1.1\u001b[0m \u001b[36mquery_string\u001b[0m=\u001b[35m\u001b[0m \u001b[36mreq_header\u001b[0m=\u001b[35m{'host': '127.0.0.1:2024', 'connection': 'keep-alive', 'x-auth-scheme': 'langsmith', 'sec-ch-ua-platform': '\"macOS\"', 'user-agent': 'Mozilla/5.0 (Macintosh; Intel Mac OS X 10_15_7) AppleWebKit/537.36 (KHTML, like Gecko) Chrome/134.0.0.0 Safari/537.36', 'sec-ch-ua': '\"Chromium\";v=\"134\", \"Not:A-Brand\";v=\"24\", \"Google Chrome\";v=\"134\"', 'sec-ch-ua-mobile': '?0', 'accept': '*/*', 'origin': 'https://smith.langchain.com', 'sec-fetch-site': 'cross-site', 'sec-fetch-mode': 'cors', 'sec-fetch-dest': 'empty', 'accept-encoding': 'gzip, deflate, br, zstd', 'accept-language': 'en-US,en;q=0.9,ja;q=0.8,zh-CN;q=0.7,zh;q=0.6'}\u001b[0m \u001b[36mres_header\u001b[0m=\u001b[35m{'content-length': '54083', 'content-type': 'application/json'}\u001b[0m \u001b[36mroute\u001b[0m=\u001b[35m/assistants/{assistant_id}/schemas\u001b[0m \u001b[36mstatus\u001b[0m=\u001b[35m200\u001b[0m \u001b[36mthread_name\u001b[0m=\u001b[35masyncio_2\u001b[0m\n",
      "\u001b[2m2025-03-13T03:37:24.198446Z\u001b[0m [\u001b[32m\u001b[1minfo     \u001b[0m] \u001b[1mGET /assistants/fe096781-5601-53d2-b2f6-0d3403f7e9ca/graph 200 102ms\u001b[0m [\u001b[0m\u001b[1m\u001b[34mlanggraph_api.server\u001b[0m]\u001b[0m \u001b[36mapi_variant\u001b[0m=\u001b[35mlocal_dev\u001b[0m \u001b[36mlatency_ms\u001b[0m=\u001b[35m102\u001b[0m \u001b[36mmethod\u001b[0m=\u001b[35mGET\u001b[0m \u001b[36mpath\u001b[0m=\u001b[35m/assistants/fe096781-5601-53d2-b2f6-0d3403f7e9ca/graph\u001b[0m \u001b[36mpath_params\u001b[0m=\u001b[35m{'assistant_id': 'fe096781-5601-53d2-b2f6-0d3403f7e9ca'}\u001b[0m \u001b[36mproto\u001b[0m=\u001b[35m1.1\u001b[0m \u001b[36mquery_string\u001b[0m=\u001b[35m'xray=true'\u001b[0m \u001b[36mreq_header\u001b[0m=\u001b[35m{'host': '127.0.0.1:2024', 'connection': 'keep-alive', 'x-auth-scheme': 'langsmith', 'sec-ch-ua-platform': '\"macOS\"', 'user-agent': 'Mozilla/5.0 (Macintosh; Intel Mac OS X 10_15_7) AppleWebKit/537.36 (KHTML, like Gecko) Chrome/134.0.0.0 Safari/537.36', 'sec-ch-ua': '\"Chromium\";v=\"134\", \"Not:A-Brand\";v=\"24\", \"Google Chrome\";v=\"134\"', 'sec-ch-ua-mobile': '?0', 'accept': '*/*', 'origin': 'https://smith.langchain.com', 'sec-fetch-site': 'cross-site', 'sec-fetch-mode': 'cors', 'sec-fetch-dest': 'empty', 'accept-encoding': 'gzip, deflate, br, zstd', 'accept-language': 'en-US,en;q=0.9,ja;q=0.8,zh-CN;q=0.7,zh;q=0.6'}\u001b[0m \u001b[36mres_header\u001b[0m=\u001b[35m{'content-length': '567', 'content-type': 'application/json'}\u001b[0m \u001b[36mroute\u001b[0m=\u001b[35m/assistants/{assistant_id}/graph\u001b[0m \u001b[36mstatus\u001b[0m=\u001b[35m200\u001b[0m \u001b[36mthread_name\u001b[0m=\u001b[35masyncio_0\u001b[0m\n",
      "\u001b[2m2025-03-13T03:37:24.198975Z\u001b[0m [\u001b[32m\u001b[1minfo     \u001b[0m] \u001b[1mGET /assistants/fe096781-5601-53d2-b2f6-0d3403f7e9ca/subgraphs 200 103ms\u001b[0m [\u001b[0m\u001b[1m\u001b[34mlanggraph_api.server\u001b[0m]\u001b[0m \u001b[36mapi_variant\u001b[0m=\u001b[35mlocal_dev\u001b[0m \u001b[36mlatency_ms\u001b[0m=\u001b[35m103\u001b[0m \u001b[36mmethod\u001b[0m=\u001b[35mGET\u001b[0m \u001b[36mpath\u001b[0m=\u001b[35m/assistants/fe096781-5601-53d2-b2f6-0d3403f7e9ca/subgraphs\u001b[0m \u001b[36mpath_params\u001b[0m=\u001b[35m{'assistant_id': 'fe096781-5601-53d2-b2f6-0d3403f7e9ca'}\u001b[0m \u001b[36mproto\u001b[0m=\u001b[35m1.1\u001b[0m \u001b[36mquery_string\u001b[0m=\u001b[35m'recurse=true'\u001b[0m \u001b[36mreq_header\u001b[0m=\u001b[35m{'host': '127.0.0.1:2024', 'connection': 'keep-alive', 'x-auth-scheme': 'langsmith', 'sec-ch-ua-platform': '\"macOS\"', 'user-agent': 'Mozilla/5.0 (Macintosh; Intel Mac OS X 10_15_7) AppleWebKit/537.36 (KHTML, like Gecko) Chrome/134.0.0.0 Safari/537.36', 'sec-ch-ua': '\"Chromium\";v=\"134\", \"Not:A-Brand\";v=\"24\", \"Google Chrome\";v=\"134\"', 'sec-ch-ua-mobile': '?0', 'accept': '*/*', 'origin': 'https://smith.langchain.com', 'sec-fetch-site': 'cross-site', 'sec-fetch-mode': 'cors', 'sec-fetch-dest': 'empty', 'accept-encoding': 'gzip, deflate, br, zstd', 'accept-language': 'en-US,en;q=0.9,ja;q=0.8,zh-CN;q=0.7,zh;q=0.6'}\u001b[0m \u001b[36mres_header\u001b[0m=\u001b[35m{'content-length': '2', 'content-type': 'application/json'}\u001b[0m \u001b[36mroute\u001b[0m=\u001b[35m/assistants/{assistant_id}/subgraphs\u001b[0m \u001b[36mstatus\u001b[0m=\u001b[35m200\u001b[0m \u001b[36mthread_name\u001b[0m=\u001b[35masyncio_1\u001b[0m\n",
      "\u001b[2m2025-03-13T03:37:27.735039Z\u001b[0m [\u001b[32m\u001b[1minfo     \u001b[0m] \u001b[1mGET /assistants/fe096781-5601-53d2-b2f6-0d3403f7e9ca/schemas 200 70ms\u001b[0m [\u001b[0m\u001b[1m\u001b[34mlanggraph_api.server\u001b[0m]\u001b[0m \u001b[36mapi_variant\u001b[0m=\u001b[35mlocal_dev\u001b[0m \u001b[36mlatency_ms\u001b[0m=\u001b[35m70\u001b[0m \u001b[36mmethod\u001b[0m=\u001b[35mGET\u001b[0m \u001b[36mpath\u001b[0m=\u001b[35m/assistants/fe096781-5601-53d2-b2f6-0d3403f7e9ca/schemas\u001b[0m \u001b[36mpath_params\u001b[0m=\u001b[35m{'assistant_id': 'fe096781-5601-53d2-b2f6-0d3403f7e9ca'}\u001b[0m \u001b[36mproto\u001b[0m=\u001b[35m1.1\u001b[0m \u001b[36mquery_string\u001b[0m=\u001b[35m\u001b[0m \u001b[36mreq_header\u001b[0m=\u001b[35m{'host': '127.0.0.1:2024', 'connection': 'keep-alive', 'x-auth-scheme': 'langsmith', 'sec-ch-ua-platform': '\"macOS\"', 'user-agent': 'Mozilla/5.0 (Macintosh; Intel Mac OS X 10_15_7) AppleWebKit/537.36 (KHTML, like Gecko) Chrome/134.0.0.0 Safari/537.36', 'sec-ch-ua': '\"Chromium\";v=\"134\", \"Not:A-Brand\";v=\"24\", \"Google Chrome\";v=\"134\"', 'sec-ch-ua-mobile': '?0', 'accept': '*/*', 'origin': 'https://smith.langchain.com', 'sec-fetch-site': 'cross-site', 'sec-fetch-mode': 'cors', 'sec-fetch-dest': 'empty', 'accept-encoding': 'gzip, deflate, br, zstd', 'accept-language': 'en-US,en;q=0.9,ja;q=0.8,zh-CN;q=0.7,zh;q=0.6'}\u001b[0m \u001b[36mres_header\u001b[0m=\u001b[35m{'content-length': '54083', 'content-type': 'application/json'}\u001b[0m \u001b[36mroute\u001b[0m=\u001b[35m/assistants/{assistant_id}/schemas\u001b[0m \u001b[36mstatus\u001b[0m=\u001b[35m200\u001b[0m \u001b[36mthread_name\u001b[0m=\u001b[35masyncio_3\u001b[0m\n",
      "\u001b[2m2025-03-13T03:37:27.735809Z\u001b[0m [\u001b[32m\u001b[1minfo     \u001b[0m] \u001b[1mGET /assistants/fe096781-5601-53d2-b2f6-0d3403f7e9ca/graph 200 70ms\u001b[0m [\u001b[0m\u001b[1m\u001b[34mlanggraph_api.server\u001b[0m]\u001b[0m \u001b[36mapi_variant\u001b[0m=\u001b[35mlocal_dev\u001b[0m \u001b[36mlatency_ms\u001b[0m=\u001b[35m70\u001b[0m \u001b[36mmethod\u001b[0m=\u001b[35mGET\u001b[0m \u001b[36mpath\u001b[0m=\u001b[35m/assistants/fe096781-5601-53d2-b2f6-0d3403f7e9ca/graph\u001b[0m \u001b[36mpath_params\u001b[0m=\u001b[35m{'assistant_id': 'fe096781-5601-53d2-b2f6-0d3403f7e9ca'}\u001b[0m \u001b[36mproto\u001b[0m=\u001b[35m1.1\u001b[0m \u001b[36mquery_string\u001b[0m=\u001b[35m'xray=true'\u001b[0m \u001b[36mreq_header\u001b[0m=\u001b[35m{'host': '127.0.0.1:2024', 'connection': 'keep-alive', 'x-auth-scheme': 'langsmith', 'sec-ch-ua-platform': '\"macOS\"', 'user-agent': 'Mozilla/5.0 (Macintosh; Intel Mac OS X 10_15_7) AppleWebKit/537.36 (KHTML, like Gecko) Chrome/134.0.0.0 Safari/537.36', 'sec-ch-ua': '\"Chromium\";v=\"134\", \"Not:A-Brand\";v=\"24\", \"Google Chrome\";v=\"134\"', 'sec-ch-ua-mobile': '?0', 'accept': '*/*', 'origin': 'https://smith.langchain.com', 'sec-fetch-site': 'cross-site', 'sec-fetch-mode': 'cors', 'sec-fetch-dest': 'empty', 'accept-encoding': 'gzip, deflate, br, zstd', 'accept-language': 'en-US,en;q=0.9,ja;q=0.8,zh-CN;q=0.7,zh;q=0.6'}\u001b[0m \u001b[36mres_header\u001b[0m=\u001b[35m{'content-length': '567', 'content-type': 'application/json'}\u001b[0m \u001b[36mroute\u001b[0m=\u001b[35m/assistants/{assistant_id}/graph\u001b[0m \u001b[36mstatus\u001b[0m=\u001b[35m200\u001b[0m \u001b[36mthread_name\u001b[0m=\u001b[35masyncio_1\u001b[0m\n",
      "\u001b[2m2025-03-13T03:37:27.736119Z\u001b[0m [\u001b[32m\u001b[1minfo     \u001b[0m] \u001b[1mGET /assistants/fe096781-5601-53d2-b2f6-0d3403f7e9ca/subgraphs 200 70ms\u001b[0m [\u001b[0m\u001b[1m\u001b[34mlanggraph_api.server\u001b[0m]\u001b[0m \u001b[36mapi_variant\u001b[0m=\u001b[35mlocal_dev\u001b[0m \u001b[36mlatency_ms\u001b[0m=\u001b[35m70\u001b[0m \u001b[36mmethod\u001b[0m=\u001b[35mGET\u001b[0m \u001b[36mpath\u001b[0m=\u001b[35m/assistants/fe096781-5601-53d2-b2f6-0d3403f7e9ca/subgraphs\u001b[0m \u001b[36mpath_params\u001b[0m=\u001b[35m{'assistant_id': 'fe096781-5601-53d2-b2f6-0d3403f7e9ca'}\u001b[0m \u001b[36mproto\u001b[0m=\u001b[35m1.1\u001b[0m \u001b[36mquery_string\u001b[0m=\u001b[35m'recurse=true'\u001b[0m \u001b[36mreq_header\u001b[0m=\u001b[35m{'host': '127.0.0.1:2024', 'connection': 'keep-alive', 'x-auth-scheme': 'langsmith', 'sec-ch-ua-platform': '\"macOS\"', 'user-agent': 'Mozilla/5.0 (Macintosh; Intel Mac OS X 10_15_7) AppleWebKit/537.36 (KHTML, like Gecko) Chrome/134.0.0.0 Safari/537.36', 'sec-ch-ua': '\"Chromium\";v=\"134\", \"Not:A-Brand\";v=\"24\", \"Google Chrome\";v=\"134\"', 'sec-ch-ua-mobile': '?0', 'accept': '*/*', 'origin': 'https://smith.langchain.com', 'sec-fetch-site': 'cross-site', 'sec-fetch-mode': 'cors', 'sec-fetch-dest': 'empty', 'accept-encoding': 'gzip, deflate, br, zstd', 'accept-language': 'en-US,en;q=0.9,ja;q=0.8,zh-CN;q=0.7,zh;q=0.6'}\u001b[0m \u001b[36mres_header\u001b[0m=\u001b[35m{'content-length': '2', 'content-type': 'application/json'}\u001b[0m \u001b[36mroute\u001b[0m=\u001b[35m/assistants/{assistant_id}/subgraphs\u001b[0m \u001b[36mstatus\u001b[0m=\u001b[35m200\u001b[0m \u001b[36mthread_name\u001b[0m=\u001b[35masyncio_0\u001b[0m\n",
      "\u001b[2m2025-03-13T03:37:41.119569Z\u001b[0m [\u001b[32m\u001b[1minfo     \u001b[0m] \u001b[1mHTTP Request: POST http://localhost:11434/v1/chat/completions \"HTTP/1.1 200 OK\"\u001b[0m [\u001b[0m\u001b[1m\u001b[34mhttpx\u001b[0m]\u001b[0m \u001b[36mapi_variant\u001b[0m=\u001b[35mlocal_dev\u001b[0m \u001b[36mthread_name\u001b[0m=\u001b[35mMainThread\u001b[0m\n",
      "\u001b[2m2025-03-13T03:37:41.133445Z\u001b[0m [\u001b[32m\u001b[1minfo     \u001b[0m] \u001b[1mBackground run succeeded      \u001b[0m [\u001b[0m\u001b[1m\u001b[34mlanggraph_api.worker\u001b[0m]\u001b[0m \u001b[36mapi_variant\u001b[0m=\u001b[35mlocal_dev\u001b[0m \u001b[36mrun_attempt\u001b[0m=\u001b[35m1\u001b[0m \u001b[36mrun_created_at\u001b[0m=\u001b[35m2025-03-13T03:37:20.362180+00:00\u001b[0m \u001b[36mrun_ended_at\u001b[0m=\u001b[35m2025-03-13T03:37:41.133303+00:00\u001b[0m \u001b[36mrun_exec_ms\u001b[0m=\u001b[35m19806\u001b[0m \u001b[36mrun_id\u001b[0m=\u001b[35m1efffbc7-7fa8-6f82-8af2-24b07d51ff17\u001b[0m \u001b[36mrun_started_at\u001b[0m=\u001b[35m2025-03-13T03:37:21.327218+00:00\u001b[0m \u001b[36mthread_name\u001b[0m=\u001b[35masyncio_1\u001b[0m\n",
      "\u001b[2m2025-03-13T03:37:41.135079Z\u001b[0m [\u001b[32m\u001b[1minfo     \u001b[0m] \u001b[1mPOST /threads/067ba93a-7a03-4ed9-a89d-a18c70fc0f51/runs/stream 200 20773ms\u001b[0m [\u001b[0m\u001b[1m\u001b[34mlanggraph_api.server\u001b[0m]\u001b[0m \u001b[36mapi_variant\u001b[0m=\u001b[35mlocal_dev\u001b[0m \u001b[36mlatency_ms\u001b[0m=\u001b[35m20773\u001b[0m \u001b[36mmethod\u001b[0m=\u001b[35mPOST\u001b[0m \u001b[36mpath\u001b[0m=\u001b[35m/threads/067ba93a-7a03-4ed9-a89d-a18c70fc0f51/runs/stream\u001b[0m \u001b[36mpath_params\u001b[0m=\u001b[35m{'thread_id': '067ba93a-7a03-4ed9-a89d-a18c70fc0f51'}\u001b[0m \u001b[36mproto\u001b[0m=\u001b[35m1.1\u001b[0m \u001b[36mquery_string\u001b[0m=\u001b[35m\u001b[0m \u001b[36mreq_header\u001b[0m=\u001b[35m{'host': '127.0.0.1:2024', 'connection': 'keep-alive', 'content-length': '379', 'x-auth-scheme': 'langsmith', 'sec-ch-ua-platform': '\"macOS\"', 'user-agent': 'Mozilla/5.0 (Macintosh; Intel Mac OS X 10_15_7) AppleWebKit/537.36 (KHTML, like Gecko) Chrome/134.0.0.0 Safari/537.36', 'sec-ch-ua': '\"Chromium\";v=\"134\", \"Not:A-Brand\";v=\"24\", \"Google Chrome\";v=\"134\"', 'content-type': 'application/json', 'sec-ch-ua-mobile': '?0', 'accept': '*/*', 'origin': 'https://smith.langchain.com', 'sec-fetch-site': 'cross-site', 'sec-fetch-mode': 'cors', 'sec-fetch-dest': 'empty', 'accept-encoding': 'gzip, deflate, br, zstd', 'accept-language': 'en-US,en;q=0.9,ja;q=0.8,zh-CN;q=0.7,zh;q=0.6'}\u001b[0m \u001b[36mres_header\u001b[0m=\u001b[35m{'location': '/threads/067ba93a-7a03-4ed9-a89d-a18c70fc0f51/runs/1efffbc7-7fa8-6f82-8af2-24b07d51ff17/stream', 'cache-control': 'no-store', 'connection': 'keep-alive', 'x-accel-buffering': 'no', 'content-type': 'text/event-stream; charset=utf-8'}\u001b[0m \u001b[36mroute\u001b[0m=\u001b[35m/threads/{thread_id}/runs/stream\u001b[0m \u001b[36mstatus\u001b[0m=\u001b[35m200\u001b[0m \u001b[36mthread_name\u001b[0m=\u001b[35masyncio_0\u001b[0m\n",
      "\u001b[2m2025-03-13T03:37:41.178039Z\u001b[0m [\u001b[32m\u001b[1minfo     \u001b[0m] \u001b[1mGET /threads/067ba93a-7a03-4ed9-a89d-a18c70fc0f51/runs 200 1ms\u001b[0m [\u001b[0m\u001b[1m\u001b[34mlanggraph_api.server\u001b[0m]\u001b[0m \u001b[36mapi_variant\u001b[0m=\u001b[35mlocal_dev\u001b[0m \u001b[36mlatency_ms\u001b[0m=\u001b[35m1\u001b[0m \u001b[36mmethod\u001b[0m=\u001b[35mGET\u001b[0m \u001b[36mpath\u001b[0m=\u001b[35m/threads/067ba93a-7a03-4ed9-a89d-a18c70fc0f51/runs\u001b[0m \u001b[36mpath_params\u001b[0m=\u001b[35m{'thread_id': '067ba93a-7a03-4ed9-a89d-a18c70fc0f51'}\u001b[0m \u001b[36mproto\u001b[0m=\u001b[35m1.1\u001b[0m \u001b[36mquery_string\u001b[0m=\u001b[35m'limit=1000&offset=0&status=pending'\u001b[0m \u001b[36mreq_header\u001b[0m=\u001b[35m{'host': '127.0.0.1:2024', 'connection': 'keep-alive', 'x-auth-scheme': 'langsmith', 'sec-ch-ua-platform': '\"macOS\"', 'user-agent': 'Mozilla/5.0 (Macintosh; Intel Mac OS X 10_15_7) AppleWebKit/537.36 (KHTML, like Gecko) Chrome/134.0.0.0 Safari/537.36', 'sec-ch-ua': '\"Chromium\";v=\"134\", \"Not:A-Brand\";v=\"24\", \"Google Chrome\";v=\"134\"', 'sec-ch-ua-mobile': '?0', 'accept': '*/*', 'origin': 'https://smith.langchain.com', 'sec-fetch-site': 'cross-site', 'sec-fetch-mode': 'cors', 'sec-fetch-dest': 'empty', 'accept-encoding': 'gzip, deflate, br, zstd', 'accept-language': 'en-US,en;q=0.9,ja;q=0.8,zh-CN;q=0.7,zh;q=0.6'}\u001b[0m \u001b[36mres_header\u001b[0m=\u001b[35m{'content-length': '2', 'content-type': 'application/json'}\u001b[0m \u001b[36mroute\u001b[0m=\u001b[35m/threads/{thread_id}/runs\u001b[0m \u001b[36mstatus\u001b[0m=\u001b[35m200\u001b[0m \u001b[36mthread_name\u001b[0m=\u001b[35masyncio_2\u001b[0m\n",
      "\u001b[2m2025-03-13T03:37:41.181902Z\u001b[0m [\u001b[32m\u001b[1minfo     \u001b[0m] \u001b[1mPOST /threads/067ba93a-7a03-4ed9-a89d-a18c70fc0f51/history 200 6ms\u001b[0m [\u001b[0m\u001b[1m\u001b[34mlanggraph_api.server\u001b[0m]\u001b[0m \u001b[36mapi_variant\u001b[0m=\u001b[35mlocal_dev\u001b[0m \u001b[36mlatency_ms\u001b[0m=\u001b[35m6\u001b[0m \u001b[36mmethod\u001b[0m=\u001b[35mPOST\u001b[0m \u001b[36mpath\u001b[0m=\u001b[35m/threads/067ba93a-7a03-4ed9-a89d-a18c70fc0f51/history\u001b[0m \u001b[36mpath_params\u001b[0m=\u001b[35m{'thread_id': '067ba93a-7a03-4ed9-a89d-a18c70fc0f51'}\u001b[0m \u001b[36mproto\u001b[0m=\u001b[35m1.1\u001b[0m \u001b[36mquery_string\u001b[0m=\u001b[35m\u001b[0m \u001b[36mreq_header\u001b[0m=\u001b[35m{'host': '127.0.0.1:2024', 'connection': 'keep-alive', 'content-length': '14', 'x-auth-scheme': 'langsmith', 'sec-ch-ua-platform': '\"macOS\"', 'user-agent': 'Mozilla/5.0 (Macintosh; Intel Mac OS X 10_15_7) AppleWebKit/537.36 (KHTML, like Gecko) Chrome/134.0.0.0 Safari/537.36', 'sec-ch-ua': '\"Chromium\";v=\"134\", \"Not:A-Brand\";v=\"24\", \"Google Chrome\";v=\"134\"', 'content-type': 'application/json', 'sec-ch-ua-mobile': '?0', 'accept': '*/*', 'origin': 'https://smith.langchain.com', 'sec-fetch-site': 'cross-site', 'sec-fetch-mode': 'cors', 'sec-fetch-dest': 'empty', 'accept-encoding': 'gzip, deflate, br, zstd', 'accept-language': 'en-US,en;q=0.9,ja;q=0.8,zh-CN;q=0.7,zh;q=0.6'}\u001b[0m \u001b[36mres_header\u001b[0m=\u001b[35m{'content-length': '51159', 'content-type': 'application/json'}\u001b[0m \u001b[36mroute\u001b[0m=\u001b[35m/threads/{thread_id}/history\u001b[0m \u001b[36mstatus\u001b[0m=\u001b[35m200\u001b[0m \u001b[36mthread_name\u001b[0m=\u001b[35masyncio_3\u001b[0m\n",
      "\u001b[2m2025-03-13T03:37:41.292535Z\u001b[0m [\u001b[32m\u001b[1minfo     \u001b[0m] \u001b[1mGET /assistants/fe096781-5601-53d2-b2f6-0d3403f7e9ca/schemas 200 90ms\u001b[0m [\u001b[0m\u001b[1m\u001b[34mlanggraph_api.server\u001b[0m]\u001b[0m \u001b[36mapi_variant\u001b[0m=\u001b[35mlocal_dev\u001b[0m \u001b[36mlatency_ms\u001b[0m=\u001b[35m90\u001b[0m \u001b[36mmethod\u001b[0m=\u001b[35mGET\u001b[0m \u001b[36mpath\u001b[0m=\u001b[35m/assistants/fe096781-5601-53d2-b2f6-0d3403f7e9ca/schemas\u001b[0m \u001b[36mpath_params\u001b[0m=\u001b[35m{'assistant_id': 'fe096781-5601-53d2-b2f6-0d3403f7e9ca'}\u001b[0m \u001b[36mproto\u001b[0m=\u001b[35m1.1\u001b[0m \u001b[36mquery_string\u001b[0m=\u001b[35m\u001b[0m \u001b[36mreq_header\u001b[0m=\u001b[35m{'host': '127.0.0.1:2024', 'connection': 'keep-alive', 'x-auth-scheme': 'langsmith', 'sec-ch-ua-platform': '\"macOS\"', 'user-agent': 'Mozilla/5.0 (Macintosh; Intel Mac OS X 10_15_7) AppleWebKit/537.36 (KHTML, like Gecko) Chrome/134.0.0.0 Safari/537.36', 'sec-ch-ua': '\"Chromium\";v=\"134\", \"Not:A-Brand\";v=\"24\", \"Google Chrome\";v=\"134\"', 'sec-ch-ua-mobile': '?0', 'accept': '*/*', 'origin': 'https://smith.langchain.com', 'sec-fetch-site': 'cross-site', 'sec-fetch-mode': 'cors', 'sec-fetch-dest': 'empty', 'accept-encoding': 'gzip, deflate, br, zstd', 'accept-language': 'en-US,en;q=0.9,ja;q=0.8,zh-CN;q=0.7,zh;q=0.6'}\u001b[0m \u001b[36mres_header\u001b[0m=\u001b[35m{'content-length': '54083', 'content-type': 'application/json'}\u001b[0m \u001b[36mroute\u001b[0m=\u001b[35m/assistants/{assistant_id}/schemas\u001b[0m \u001b[36mstatus\u001b[0m=\u001b[35m200\u001b[0m \u001b[36mthread_name\u001b[0m=\u001b[35masyncio_3\u001b[0m\n",
      "\u001b[2m2025-03-13T03:37:41.293263Z\u001b[0m [\u001b[32m\u001b[1minfo     \u001b[0m] \u001b[1mGET /assistants/fe096781-5601-53d2-b2f6-0d3403f7e9ca/graph 200 91ms\u001b[0m [\u001b[0m\u001b[1m\u001b[34mlanggraph_api.server\u001b[0m]\u001b[0m \u001b[36mapi_variant\u001b[0m=\u001b[35mlocal_dev\u001b[0m \u001b[36mlatency_ms\u001b[0m=\u001b[35m91\u001b[0m \u001b[36mmethod\u001b[0m=\u001b[35mGET\u001b[0m \u001b[36mpath\u001b[0m=\u001b[35m/assistants/fe096781-5601-53d2-b2f6-0d3403f7e9ca/graph\u001b[0m \u001b[36mpath_params\u001b[0m=\u001b[35m{'assistant_id': 'fe096781-5601-53d2-b2f6-0d3403f7e9ca'}\u001b[0m \u001b[36mproto\u001b[0m=\u001b[35m1.1\u001b[0m \u001b[36mquery_string\u001b[0m=\u001b[35m'xray=true'\u001b[0m \u001b[36mreq_header\u001b[0m=\u001b[35m{'host': '127.0.0.1:2024', 'connection': 'keep-alive', 'x-auth-scheme': 'langsmith', 'sec-ch-ua-platform': '\"macOS\"', 'user-agent': 'Mozilla/5.0 (Macintosh; Intel Mac OS X 10_15_7) AppleWebKit/537.36 (KHTML, like Gecko) Chrome/134.0.0.0 Safari/537.36', 'sec-ch-ua': '\"Chromium\";v=\"134\", \"Not:A-Brand\";v=\"24\", \"Google Chrome\";v=\"134\"', 'sec-ch-ua-mobile': '?0', 'accept': '*/*', 'origin': 'https://smith.langchain.com', 'sec-fetch-site': 'cross-site', 'sec-fetch-mode': 'cors', 'sec-fetch-dest': 'empty', 'accept-encoding': 'gzip, deflate, br, zstd', 'accept-language': 'en-US,en;q=0.9,ja;q=0.8,zh-CN;q=0.7,zh;q=0.6'}\u001b[0m \u001b[36mres_header\u001b[0m=\u001b[35m{'content-length': '567', 'content-type': 'application/json'}\u001b[0m \u001b[36mroute\u001b[0m=\u001b[35m/assistants/{assistant_id}/graph\u001b[0m \u001b[36mstatus\u001b[0m=\u001b[35m200\u001b[0m \u001b[36mthread_name\u001b[0m=\u001b[35masyncio_1\u001b[0m\n",
      "\u001b[2m2025-03-13T03:37:41.293979Z\u001b[0m [\u001b[32m\u001b[1minfo     \u001b[0m] \u001b[1mGET /assistants/fe096781-5601-53d2-b2f6-0d3403f7e9ca/subgraphs 200 91ms\u001b[0m [\u001b[0m\u001b[1m\u001b[34mlanggraph_api.server\u001b[0m]\u001b[0m \u001b[36mapi_variant\u001b[0m=\u001b[35mlocal_dev\u001b[0m \u001b[36mlatency_ms\u001b[0m=\u001b[35m91\u001b[0m \u001b[36mmethod\u001b[0m=\u001b[35mGET\u001b[0m \u001b[36mpath\u001b[0m=\u001b[35m/assistants/fe096781-5601-53d2-b2f6-0d3403f7e9ca/subgraphs\u001b[0m \u001b[36mpath_params\u001b[0m=\u001b[35m{'assistant_id': 'fe096781-5601-53d2-b2f6-0d3403f7e9ca'}\u001b[0m \u001b[36mproto\u001b[0m=\u001b[35m1.1\u001b[0m \u001b[36mquery_string\u001b[0m=\u001b[35m'recurse=true'\u001b[0m \u001b[36mreq_header\u001b[0m=\u001b[35m{'host': '127.0.0.1:2024', 'connection': 'keep-alive', 'x-auth-scheme': 'langsmith', 'sec-ch-ua-platform': '\"macOS\"', 'user-agent': 'Mozilla/5.0 (Macintosh; Intel Mac OS X 10_15_7) AppleWebKit/537.36 (KHTML, like Gecko) Chrome/134.0.0.0 Safari/537.36', 'sec-ch-ua': '\"Chromium\";v=\"134\", \"Not:A-Brand\";v=\"24\", \"Google Chrome\";v=\"134\"', 'sec-ch-ua-mobile': '?0', 'accept': '*/*', 'origin': 'https://smith.langchain.com', 'sec-fetch-site': 'cross-site', 'sec-fetch-mode': 'cors', 'sec-fetch-dest': 'empty', 'accept-encoding': 'gzip, deflate, br, zstd', 'accept-language': 'en-US,en;q=0.9,ja;q=0.8,zh-CN;q=0.7,zh;q=0.6'}\u001b[0m \u001b[36mres_header\u001b[0m=\u001b[35m{'content-length': '2', 'content-type': 'application/json'}\u001b[0m \u001b[36mroute\u001b[0m=\u001b[35m/assistants/{assistant_id}/subgraphs\u001b[0m \u001b[36mstatus\u001b[0m=\u001b[35m200\u001b[0m \u001b[36mthread_name\u001b[0m=\u001b[35masyncio_0\u001b[0m\n",
      "\u001b[2m2025-03-13T03:38:06.434321Z\u001b[0m [\u001b[32m\u001b[1minfo     \u001b[0m] \u001b[1mWorker stats                  \u001b[0m [\u001b[0m\u001b[1m\u001b[34mlanggraph_storage.queue\u001b[0m]\u001b[0m \u001b[36mactive\u001b[0m=\u001b[35m0\u001b[0m \u001b[36mapi_variant\u001b[0m=\u001b[35mlocal_dev\u001b[0m \u001b[36mavailable\u001b[0m=\u001b[35m1\u001b[0m \u001b[36mmax\u001b[0m=\u001b[35m1\u001b[0m \u001b[36mthread_name\u001b[0m=\u001b[35masyncio_2\u001b[0m\n",
      "\u001b[2m2025-03-13T03:38:06.936329Z\u001b[0m [\u001b[32m\u001b[1minfo     \u001b[0m] \u001b[1mQueue stats                   \u001b[0m [\u001b[0m\u001b[1m\u001b[34mlanggraph_storage.queue\u001b[0m]\u001b[0m \u001b[36mapi_variant\u001b[0m=\u001b[35mlocal_dev\u001b[0m \u001b[36mmax_age_secs\u001b[0m=\u001b[35mNone\u001b[0m \u001b[36mmed_age_secs\u001b[0m=\u001b[35mNone\u001b[0m \u001b[36mn_pending\u001b[0m=\u001b[35m0\u001b[0m \u001b[36mn_running\u001b[0m=\u001b[35m0\u001b[0m \u001b[36mthread_name\u001b[0m=\u001b[35masyncio_3\u001b[0m\n",
      "^C\n",
      "\u001b[2m2025-03-13T03:38:27.101903Z\u001b[0m [\u001b[32m\u001b[1minfo     \u001b[0m] \u001b[1mFinished server process [17862]\u001b[0m [\u001b[0m\u001b[1m\u001b[34muvicorn.error\u001b[0m]\u001b[0m \u001b[36mapi_variant\u001b[0m=\u001b[35mlocal_dev\u001b[0m \u001b[36mcolor_message\u001b[0m=\u001b[35m'Finished server process [\\x1b[36m%d\\x1b[0m]'\u001b[0m \u001b[36mthread_name\u001b[0m=\u001b[35mMainThread\u001b[0m\n",
      "\u001b[2m2025-03-13T03:38:27.111522Z\u001b[0m [\u001b[32m\u001b[1minfo     \u001b[0m] \u001b[1mStopping reloader process [17860]\u001b[0m [\u001b[0m\u001b[1m\u001b[34muvicorn.error\u001b[0m]\u001b[0m \u001b[36mapi_variant\u001b[0m=\u001b[35mlocal_dev\u001b[0m \u001b[36mcolor_message\u001b[0m=\u001b[35m'Stopping reloader process [\\x1b[36m\\x1b[1m17860\\x1b[0m]'\u001b[0m \u001b[36mthread_name\u001b[0m=\u001b[35mMainThread\u001b[0m\n"
     ]
    }
   ],
   "source": [
    "# this starts up a browser tab \n",
    "!langgraph dev"
   ]
  }
 ],
 "metadata": {
  "kernelspec": {
   "display_name": "langchain_venv",
   "language": "python",
   "name": "python3"
  },
  "language_info": {
   "codemirror_mode": {
    "name": "ipython",
    "version": 3
   },
   "file_extension": ".py",
   "mimetype": "text/x-python",
   "name": "python",
   "nbconvert_exporter": "python",
   "pygments_lexer": "ipython3",
   "version": "3.12.8"
  }
 },
 "nbformat": 4,
 "nbformat_minor": 2
}
