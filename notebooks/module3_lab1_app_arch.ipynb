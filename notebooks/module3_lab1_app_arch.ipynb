{
 "cells": [
  {
   "cell_type": "markdown",
   "metadata": {},
   "source": [
    "# Module 3 - Lab 1 - LLM App Arch \n",
    "## Pre-requisites\n",
    "> handled by codespace custom initialization\n",
    "- ollama installed and running \n",
    "- python packages \n",
    "    - langchain\n",
    "    - langchain-openai\n",
    "    - langgraph"
   ]
  },
  {
   "cell_type": "markdown",
   "metadata": {},
   "source": [
    "## Pull the LLM model"
   ]
  },
  {
   "cell_type": "code",
   "execution_count": 15,
   "metadata": {},
   "outputs": [
    {
     "name": "stdout",
     "output_type": "stream",
     "text": [
      "\u001b[?2026h\u001b[?25l\u001b[1Gpulling manifest ⠋ \u001b[K\u001b[?25h\u001b[?2026l\u001b[?2026h\u001b[?25l\u001b[1Gpulling manifest ⠙ \u001b[K\u001b[?25h\u001b[?2026l\u001b[?2026h\u001b[?25l\u001b[1Gpulling manifest ⠹ \u001b[K\u001b[?25h\u001b[?2026l\u001b[?2026h\u001b[?25l\u001b[1Gpulling manifest ⠸ \u001b[K\u001b[?25h\u001b[?2026l\u001b[?2026h\u001b[?25l\u001b[1Gpulling manifest ⠼ \u001b[K\u001b[?25h\u001b[?2026l\u001b[?2026h\u001b[?25l\u001b[1Gpulling manifest ⠴ \u001b[K\u001b[?25h\u001b[?2026l\u001b[?2026h\u001b[?25l\u001b[1Gpulling manifest ⠦ \u001b[K\u001b[?25h\u001b[?2026l\u001b[?2026h\u001b[?25l\u001b[1Gpulling manifest ⠧ \u001b[K\u001b[?25h\u001b[?2026l\u001b[?2026h\u001b[?25l\u001b[1Gpulling manifest ⠇ \u001b[K\u001b[?25h\u001b[?2026l\u001b[?2026h\u001b[?25l\u001b[1Gpulling manifest \u001b[K\n",
      "pulling b98b382ad859... 100% ▕████████████████▏ 770 MB                         \u001b[K\n",
      "pulling 966de95ca8a6... 100% ▕████████████████▏ 1.4 KB                         \u001b[K\n",
      "pulling fcc5a6bec9da... 100% ▕████████████████▏ 7.7 KB                         \u001b[K\n",
      "pulling a70ff7e570d9... 100% ▕████████████████▏ 6.0 KB                         \u001b[K\n",
      "pulling e9e2eec515fb... 100% ▕████████████████▏  485 B                         \u001b[K\n",
      "verifying sha256 digest \u001b[K\n",
      "writing manifest \u001b[K\n",
      "success \u001b[K\u001b[?25h\u001b[?2026l\n"
     ]
    }
   ],
   "source": [
    "# ollama - pull the model\n",
    "!ollama pull llama3.2:1b-instruct-q4_0"
   ]
  },
  {
   "cell_type": "code",
   "execution_count": 16,
   "metadata": {},
   "outputs": [
    {
     "name": "stdout",
     "output_type": "stream",
     "text": [
      "NAME                                                 ID              SIZE      MODIFIED               \n",
      "llama3.2:1b-instruct-q4_0                            53f2745c8077    770 MB    Less than a second ago    \n",
      "hf.co/bartowski/Llama-3.2-1B-Instruct-GGUF:IQ4_XS    0c8e6e099ddb    743 MB    13 days ago               \n",
      "nomic-embed-text:latest                              0a109f422b47    274 MB    2 weeks ago               \n",
      "llama3.2:1b                                          baf6a787fdff    1.3 GB    3 weeks ago               \n",
      "llama3.2:3b                                          a80c4f17acd5    2.0 GB    3 weeks ago               \n",
      "deepseek-r1:1.5b                                     a42b25d8c10a    1.1 GB    3 weeks ago               \n"
     ]
    }
   ],
   "source": [
    "# list out LLMs available\n",
    "!ollama list  "
   ]
  },
  {
   "cell_type": "markdown",
   "metadata": {},
   "source": [
    "## LLM to use"
   ]
  },
  {
   "cell_type": "code",
   "execution_count": 17,
   "metadata": {},
   "outputs": [],
   "source": [
    "from langchain_openai import ChatOpenAI\n",
    "\n",
    "llm = ChatOpenAI(\n",
    "    model=\"llama3.2:1b-instruct-q4_0\",\n",
    "    base_url=\"http://localhost:11434/v1\", # Ollama\n",
    "    #base_url=\"http://localhost:1234/v1\", #LM Studio\n",
    "    api_key=\"not-needed\"\n",
    "    )"
   ]
  },
  {
   "cell_type": "markdown",
   "metadata": {},
   "source": [
    "# Build the Graph \n",
    "- Using LangGraph \n",
    "    - prebuilt `MessagesState`\n",
    "        - contains simple `messages` key\n",
    "            - list of `AnyMessage` objects\n",
    "        - uses `add_messages` reducer \n",
    "    - `MemorySaver()` \n",
    "        - in-memory key-value store for Graph state\n"
   ]
  },
  {
   "cell_type": "markdown",
   "metadata": {},
   "source": [
    "## Define State"
   ]
  },
  {
   "cell_type": "code",
   "execution_count": 5,
   "metadata": {},
   "outputs": [],
   "source": [
    "# LangGraph `MessageState` \n",
    "# - contains a built-in `messages` key\n",
    "# - added our custom key to store summaries\n",
    "from langgraph.graph import MessagesState \n",
    "\n",
    "class State(MessagesState):\n",
    "    summary: str"
   ]
  },
  {
   "cell_type": "markdown",
   "metadata": {},
   "source": [
    "## Define Nodes"
   ]
  },
  {
   "cell_type": "code",
   "execution_count": 6,
   "metadata": {},
   "outputs": [],
   "source": [
    "# Define node to invoke LLM \n",
    "# - incorporate summmary if exists\n",
    "\n",
    "from langchain_core.messages import SystemMessage\n",
    "\n",
    "def invoke_llm(state: State):\n",
    "    summary = state.get(\"summary\", \"\")\n",
    "    if summary:\n",
    "        sys_msg = f\"Summary of conversation: {summary}\"\n",
    "        messages = [SystemMessage(content=sys_msg)] + state[\"messages\"]\n",
    "    else:\n",
    "        messages = state[\"messages\"]\n",
    "    response = llm.invoke(messages)\n",
    "    return { \"messages\": response }"
   ]
  },
  {
   "cell_type": "code",
   "execution_count": 7,
   "metadata": {},
   "outputs": [],
   "source": [
    "# Define node to summarize conversations\n",
    "# - reduce cost by reducing number of tokens\n",
    "#   - trade off is some details of conversation might be lost\n",
    "\n",
    "from langchain_core.messages import HumanMessage, RemoveMessage\n",
    "\n",
    "def summarize_thread(state: State):\n",
    "    summary = state.get(\"summary\", \"\")\n",
    "\n",
    "    if summary:\n",
    "        summary_prompt_msg = (\n",
    "            f\"SUMMARY: {summary}\\n\" \n",
    "            \"Create a a summary of the conversation above:\"\n",
    "        )\n",
    "    else:\n",
    "        summary_prompt_msg = \"Create a summary of the conversation above:\"\n",
    "    # add summary prompt to our history\n",
    "    messages = state[\"messages\"] + [HumanMessage(content=summary_prompt_msg)]\n",
    "    response = llm.invoke(messages)\n",
    "    # delete all but the 2 most recent messages\n",
    "    post_deleted_messages = [RemoveMessage(id=m.id) for m in state[\"messages\"][:-2]]\n",
    "    return {\n",
    "        \"summary\": response.content,\n",
    "        \"messages\": post_deleted_messages\n",
    "    }"
   ]
  },
  {
   "cell_type": "markdown",
   "metadata": {},
   "source": [
    "## Define Edge Condition"
   ]
  },
  {
   "cell_type": "code",
   "execution_count": 8,
   "metadata": {},
   "outputs": [],
   "source": [
    "# Condition edge to check if we need to produce summary\n",
    "from langgraph.graph import END\n",
    "\n",
    "def require_summary(state: State):\n",
    "    messages = state[\"messages\"]\n",
    "    if len(messages) > 6:\n",
    "        return \"summarize_thread\"\n",
    "    else:\n",
    "        return END"
   ]
  },
  {
   "cell_type": "markdown",
   "metadata": {},
   "source": [
    "# Create the Graph"
   ]
  },
  {
   "cell_type": "code",
   "execution_count": 9,
   "metadata": {},
   "outputs": [],
   "source": [
    "from langgraph.graph import StateGraph, START, END\n",
    "from langgraph.checkpoint.memory import MemorySaver\n",
    "\n",
    "\n",
    "# Build graph\n",
    "builder = StateGraph(State)\n",
    "builder.add_node(\"assistant\", invoke_llm)\n",
    "builder.add_node(\"summarize_thread\", summarize_thread)\n",
    "\n",
    "builder.add_edge(START, \"assistant\")\n",
    "builder.add_conditional_edges(\"assistant\", require_summary)\n",
    "builder.add_edge(\"summarize_thread\", END)\n",
    "\n",
    "\n",
    "memory = MemorySaver()\n",
    "graph = builder.compile(checkpointer=memory)"
   ]
  },
  {
   "cell_type": "code",
   "execution_count": 10,
   "metadata": {},
   "outputs": [
    {
     "data": {
      "image/png": "[encoded data removed]",
      "text/plain": [
       "<IPython.core.display.Image object>"
      ]
     },
     "metadata": {},
     "output_type": "display_data"
    }
   ],
   "source": [
    "# Display graph\n",
    "from IPython.display import Image, display\n",
    "display(Image(graph.get_graph().draw_mermaid_png()))"
   ]
  },
  {
   "cell_type": "code",
   "execution_count": 11,
   "metadata": {},
   "outputs": [],
   "source": [
    "# Create unique thread id for short-term memory (checkpointer)\n",
    "import uuid\n",
    "thread_id = str(uuid.uuid4())\n",
    "config = {\"configurable\": {\"thread_id\": thread_id}}"
   ]
  },
  {
   "cell_type": "code",
   "execution_count": 12,
   "metadata": {},
   "outputs": [
    {
     "name": "stdout",
     "output_type": "stream",
     "text": [
      "================================\u001b[1m Human Message \u001b[0m=================================\n",
      "\n",
      "My name is Joshua\n",
      "==================================\u001b[1m Ai Message \u001b[0m==================================\n",
      "\n",
      "I'm glad you chose a strong and unique name for yourself, Joshua. That's a popular name that evokes confidence and ambition – just like the character from the Bible who was considered one of the greatest leaders in history.\n",
      "\n",
      "What do you like to do with your time, Josh? Do you have any hobbies or passions that bring you joy and fulfillment?\n",
      "================================\u001b[1m Human Message \u001b[0m=================================\n",
      "\n",
      "I live in Phoenix\n",
      "==================================\u001b[1m Ai Message \u001b[0m==================================\n",
      "\n",
      "Phoenix is a great city with a vibrant atmosphere. Being surrounded by natural beauty, from the nearby mountains to the Sonoran Desert, must provide you with plenty of opportunities for outdoor activities.\n",
      "\n",
      "What do you like to do most in Phoenix, Josh? Do you have a favorite spot or activity that you enjoy during your free time?\n",
      "================================\u001b[1m Human Message \u001b[0m=================================\n",
      "\n",
      "I have 2 dogs\n",
      "==================================\u001b[1m Ai Message \u001b[0m==================================\n",
      "\n",
      "It sounds like your life is pretty ruff when it comes to having two furry friends by your side! You must love them just the same. What are their names, and what breeds do they belong to? Are there any funny or memorable stories about them?\n",
      "================================\u001b[1m Human Message \u001b[0m=================================\n",
      "\n",
      "I worked in restaurant\n",
      "==================================\u001b[1m Ai Message \u001b[0m==================================\n",
      "\n",
      "Working in a restaurant can be tough, both physically and mentally, I imagine. The fast-paced environment, the constant noise, and the pressure to perform can take a toll on employees. Did you enjoy your experience at work, Joshua, or was there anything that made you feel like it wasn't worth it?\n",
      "================================\u001b[1m Human Message \u001b[0m=================================\n",
      "\n",
      "Loved going on hikes\n",
      "==================================\u001b[1m Ai Message \u001b[0m==================================\n",
      "\n",
      "It sounds like hiking was a great way for you to clear your mind and recharge after a long day of work in the restaurant. Being outdoors and engaging in physical activity can be very therapeutic, doesn't it? I'm curious, did you have a favorite hike or path that you enjoyed exploring, or did you find yourself going back to familiar places time and time again?\n",
      "================================\u001b[1m Human Message \u001b[0m=================================\n",
      "\n",
      "Can you recommend good hikes near my area\n",
      "==================================\u001b[1m Ai Message \u001b[0m==================================\n",
      "\n",
      "I'm glad you're excited about hiking! Unfortunately, I don't have any prior knowledge of your location or what area you're referring to. Our conversation just started, and I don't have any information about your personal experiences or preferences when it comes to hiking.\n",
      "\n",
      "If you'd like to share more about where you live or what type of hikes you enjoy, I'd be happy to try and provide some recommendations. Alternatively, if you'd prefer not to share this information, that's okay too! We can still start a new conversation or I can suggest some general tips for finding good hiking trails in your area.\n",
      "================================\u001b[1m Human Message \u001b[0m=================================\n",
      "\n",
      "Can you recommend good restaurants near my area\n",
      "==================================\u001b[1m Ai Message \u001b[0m==================================\n",
      "\n",
      "I don't have any specific information about the area you're referring to, Joshua. As our conversation started, we only discussed initial topics and didn't delve into personal details or geographical specifics.\n",
      "\n",
      "If you'd like to share more about your location or what type of cuisine you're in the mood for, I can try to provide some recommendations. Alternatively, if there's a specific restaurant in mind that you'd like to recommend, I'll be happy to help with that as well.\n"
     ]
    }
   ],
   "source": [
    "from langchain_core.messages import HumanMessage\n",
    "msgList = [\n",
    "    HumanMessage(content=\"My name is Joshua\"),\n",
    "    HumanMessage(content=\"I live in Phoenix\"), \n",
    "    HumanMessage(content=\"I have 2 dogs\"),\n",
    "    HumanMessage(content=\"I worked in restaurant\"),\n",
    "    HumanMessage(content=\"Loved going on hikes\"),\n",
    "    HumanMessage(content=\"Can you recommend good hikes near my area\"),\n",
    "    HumanMessage(content=\"Can you recommend good restaurants near my area\")\n",
    "]               \n",
    "\n",
    "for msg in msgList:\n",
    "    output = graph.invoke({\"messages\": [msg]}, config)\n",
    "    for m in output['messages'][-2:]:\n",
    "        m.pretty_print()\n",
    "\n"
   ]
  },
  {
   "cell_type": "code",
   "execution_count": 18,
   "metadata": {},
   "outputs": [
    {
     "name": "stdout",
     "output_type": "stream",
     "text": [
      "(\"Here's a summary of our conversation:\\n\"\n",
      " '\\n'\n",
      " 'We started talking about my name (\"Joshua\") and then shifted to discussing '\n",
      " 'your experience working in a restaurant. You shared that you enjoyed going '\n",
      " \"on hikes but didn't love working in one, and we took a brief break from the \"\n",
      " 'conversation before jumping back into it.\\n'\n",
      " '\\n'\n",
      " \"Since this is the beginning of our conversation, there's not much to \"\n",
      " \"summarize yet. If you'd like to share something new or continue the \"\n",
      " \"discussion about your name or work experience, I'm here to help!\")\n"
     ]
    }
   ],
   "source": [
    "from pprint import pprint\n",
    "pprint(graph.get_state(config).values.get(\"summary\",\"\"))\n"
   ]
  },
  {
   "cell_type": "code",
   "execution_count": 19,
   "metadata": {},
   "outputs": [
    {
     "name": "stdout",
     "output_type": "stream",
     "text": [
      "[HumanMessage(content='Can you recommend good restaurants near my area', additional_kwargs={}, response_metadata={}, id='d7c96a78-587e-4442-be15-39df3f361112'),\n",
      " AIMessage(content=\"I don't have any specific information about the area you're referring to, Joshua. As our conversation started, we only discussed initial topics and didn't delve into personal details or geographical specifics.\\n\\nIf you'd like to share more about your location or what type of cuisine you're in the mood for, I can try to provide some recommendations. Alternatively, if there's a specific restaurant in mind that you'd like to recommend, I'll be happy to help with that as well.\", additional_kwargs={'refusal': None}, response_metadata={'token_usage': {'completion_tokens': 97, 'prompt_tokens': 419, 'total_tokens': 516, 'completion_tokens_details': None, 'prompt_tokens_details': None}, 'model_name': 'llama3.2:1b-instruct-q4_0', 'system_fingerprint': 'fp_ollama', 'finish_reason': 'stop', 'logprobs': None}, id='run-46ed6920-39cf-47fe-a16e-7ee6bf41c864-0', usage_metadata={'input_tokens': 419, 'output_tokens': 97, 'total_tokens': 516, 'input_token_details': {}, 'output_token_details': {}})]\n"
     ]
    }
   ],
   "source": [
    "pprint(graph.get_state(config).values.get(\"messages\",\"\"))"
   ]
  }
 ],
 "metadata": {
  "kernelspec": {
   "display_name": "venv",
   "language": "python",
   "name": "python3"
  },
  "language_info": {
   "codemirror_mode": {
    "name": "ipython",
    "version": 3
   },
   "file_extension": ".py",
   "mimetype": "text/x-python",
   "name": "python",
   "nbconvert_exporter": "python",
   "pygments_lexer": "ipython3",
   "version": "3.13.1"
  }
 },
 "nbformat": 4,
 "nbformat_minor": 2
}
