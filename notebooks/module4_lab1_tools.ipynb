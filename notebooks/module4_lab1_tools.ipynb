{
 "cells": [
  {
   "cell_type": "markdown",
   "metadata": {},
   "source": [
    "# Module 4 - Lab 1 - LLM Enhance LLM Application - Tools \n",
    "## Pre-requisites\n",
    "> handled by codespace custom initialization\n",
    "- ollama installed and running \n",
    "- python packages \n",
    "    - langchain\n",
    "    - langchain-openai\n",
    "    - langgraph"
   ]
  },
  {
   "cell_type": "markdown",
   "metadata": {},
   "source": [
    "## Pull the LLM model"
   ]
  },
  {
   "cell_type": "code",
   "execution_count": 1,
   "metadata": {},
   "outputs": [
    {
     "name": "stdout",
     "output_type": "stream",
     "text": [
      "\u001b[?2026h\u001b[?25l\u001b[1Gpulling manifest ⠋ \u001b[K\u001b[?25h\u001b[?2026l\u001b[?2026h\u001b[?25l\u001b[1Gpulling manifest ⠙ \u001b[K\u001b[?25h\u001b[?2026l\u001b[?2026h\u001b[?25l\u001b[1Gpulling manifest ⠹ \u001b[K\u001b[?25h\u001b[?2026l\u001b[?2026h\u001b[?25l\u001b[1Gpulling manifest ⠸ \u001b[K\u001b[?25h\u001b[?2026l\u001b[?2026h\u001b[?25l\u001b[1Gpulling manifest ⠼ \u001b[K\u001b[?25h\u001b[?2026l\u001b[?2026h\u001b[?25l\u001b[1Gpulling manifest ⠴ \u001b[K\u001b[?25h\u001b[?2026l\u001b[?2026h\u001b[?25l\u001b[1Gpulling manifest ⠦ \u001b[K\u001b[?25h\u001b[?2026l\u001b[?2026h\u001b[?25l\u001b[1Gpulling manifest ⠧ \u001b[K\u001b[?25h\u001b[?2026l\u001b[?2026h\u001b[?25l\u001b[1Gpulling manifest ⠇ \u001b[K\u001b[?25h\u001b[?2026l\u001b[?2026h\u001b[?25l\u001b[1Gpulling manifest ⠏ \u001b[K\u001b[?25h\u001b[?2026l\u001b[?2026h\u001b[?25l\u001b[1Gpulling manifest \u001b[K\n",
      "pulling b98b382ad859... 100% ▕████████████████▏ 770 MB                         \u001b[K\n",
      "pulling 966de95ca8a6... 100% ▕████████████████▏ 1.4 KB                         \u001b[K\n",
      "pulling fcc5a6bec9da... 100% ▕████████████████▏ 7.7 KB                         \u001b[K\n",
      "pulling a70ff7e570d9... 100% ▕████████████████▏ 6.0 KB                         \u001b[K\n",
      "pulling e9e2eec515fb... 100% ▕████████████████▏  485 B                         \u001b[K\n",
      "verifying sha256 digest \u001b[K\n",
      "writing manifest \u001b[K\n",
      "success \u001b[K\u001b[?25h\u001b[?2026l\n"
     ]
    }
   ],
   "source": [
    "# ollama - pull the model\n",
    "!ollama pull llama3.2:1b-instruct-q4_0"
   ]
  },
  {
   "cell_type": "code",
   "execution_count": 2,
   "metadata": {},
   "outputs": [
    {
     "name": "stdout",
     "output_type": "stream",
     "text": [
      "NAME                                                 ID              SIZE      MODIFIED      \n",
      "llama3.2:1b-instruct-q4_0                            53f2745c8077    770 MB    8 seconds ago    \n",
      "llama3.2:1b                                          baf6a787fdff    1.3 GB    2 days ago       \n",
      "hf.co/bartowski/Llama-3.2-1B-Instruct-GGUF:IQ4_XS    0c8e6e099ddb    743 MB    2 weeks ago      \n",
      "nomic-embed-text:latest                              0a109f422b47    274 MB    2 weeks ago      \n",
      "llama3.2:3b                                          a80c4f17acd5    2.0 GB    3 weeks ago      \n",
      "deepseek-r1:1.5b                                     a42b25d8c10a    1.1 GB    3 weeks ago      \n"
     ]
    }
   ],
   "source": [
    "# list out LLMs available\n",
    "!ollama list  "
   ]
  },
  {
   "cell_type": "markdown",
   "metadata": {},
   "source": [
    "## Tool to use \n",
    "### Tavily Search\n",
    "- Register with [Tavily](https://tavily.com/) \n",
    "    - Create API key"
   ]
  },
  {
   "cell_type": "code",
   "execution_count": 3,
   "metadata": {},
   "outputs": [],
   "source": [
    "import os \n",
    "import getpass \n",
    "from dotenv import load_dotenv\n",
    "\n",
    "# Attempt to read from .env file\n",
    "load_dotenv()\n",
    "tavily_api_token = os.getenv(\"TAVILY_API_KEY\")\n",
    "\n",
    "# If env not set, prompt user\n",
    "if tavily_api_token is None: \n",
    "    tavily_api_token = getpass.getpass(\"Enter Tavily API key:\")\n",
    "    os.environ[\"TAVILY_API_KEY\"] = tavily_api_token\n"
   ]
  },
  {
   "cell_type": "code",
   "execution_count": 4,
   "metadata": {},
   "outputs": [],
   "source": [
    "# Verify tool works with API key\n",
    "from langchain_community.tools.tavily_search import TavilySearchResults\n",
    "tavily_search = TavilySearchResults(max_results=3)\n",
    "search_docs = tavily_search.invoke(\"When was the last super bowl?\")"
   ]
  },
  {
   "cell_type": "code",
   "execution_count": 5,
   "metadata": {},
   "outputs": [
    {
     "name": "stdout",
     "output_type": "stream",
     "text": [
      "[{'content': \"One year later, the AFL's Kansas City Chiefs defeated the NFL's \"\n",
      "             'Minnesota Vikings 23–7 in Super Bowl IV in New Orleans, which '\n",
      "             'was the final AFL–NFL World Championship Game played before the '\n",
      "             'merger. The winning team receives the Vince Lombardi Trophy, '\n",
      "             'named after the former coach of the Green Bay Packers, who won '\n",
      "             'the first two Super Bowl games as well as five NFL championships '\n",
      "             'preceding the merger (1961, 1962, 1965, 1966, 1967).',\n",
      "  'score': 0.66621506,\n",
      "  'title': 'Super Bowl - Wikipedia',\n",
      "  'url': 'https://en.wikipedia.org/wiki/Super_Bowl'},\n",
      " {'content': 'I: Green Bay Packers II: Green Bay Packers III: New York Jets '\n",
      "             'IV: Kansas City Chiefs V: Baltimore Colts VI: Dallas Cowboys '\n",
      "             'VII: Miami Dolphins VIII: Miami Dolphins IX: Pittsburgh Steelers '\n",
      "             'X: Pittsburgh Steelers XI: Oakland Raiders XII: Dallas Cowboys '\n",
      "             'XIII: Pittsburgh Steelers XIV: Pittsburgh Steelers XV: Oakland '\n",
      "             'Raiders XVI: San Francisco 49ers XVII: Washington Redskins '\n",
      "             'XVIII: Los Angeles Raiders XIX: San Francisco 49ers XX: Chicago '\n",
      "             'Bears XXI: New York Giants XXII: Washington Redskins XXIII: San '\n",
      "             'Francisco 49ers XXIV: San Francisco 49ers XXV: New York Giants '\n",
      "             'XXVI: Washington Redskins XXVII: Dallas Cowboys XXVIII: Dallas '\n",
      "             'Cowboys XXIX: San Francisco 49ers XXX: Dallas Cowboys XXXI: '\n",
      "             'Green Bay Packers XXXII: Denver Broncos XXXIII: Denver Broncos '\n",
      "             'XXXIV: St. Louis Rams XXXV: Baltimore Ravens XXXVI: New England '\n",
      "             'Patriots XXXVII: Tampa Bay Buccaneers XXXVIII: New England '\n",
      "             'Patriots XXXIX: New England Patriots XL: Pittsburgh Steelers '\n",
      "             'XLI: Indianapolis Colts XLII: New York Giants XLIII: Pittsburgh '\n",
      "             'Steelers XLIV: New Orleans Saints XLV: Green Bay PackersXLVI: '\n",
      "             'New York GiantsXLVII: Baltimore RavensXLVIII: Seattle '\n",
      "             'SeahawksXLIX: New England Patriots50: Denver BroncosLI: New '\n",
      "             'England PatriotsLII: Philadelphia EaglesLIII: New England '\n",
      "             'PatriotsLIV: Kansas City ChiefsLV: Tampa Bay BuccaneersLVI: Los '\n",
      "             'Angeles RamsLVII: Kansas City ChiefsLVIII: Kansas City '\n",
      "             'ChiefsLIX: Philadelphia Eagles',\n",
      "  'score': 0.32937068,\n",
      "  'title': 'List of Super Bowl champions - Wikipedia',\n",
      "  'url': 'https://en.wikipedia.org/wiki/List_of_Super_Bowl_champions'},\n",
      " {'content': 'Super Bowl Winners by Year - ESPN NFL History - Super Bowl '\n",
      "             'Winners Leaders Super Bowl Winners Super Bowl MVPs SPORTS NBA '\n",
      "             'College Football Olympic Sports Horse Racing Football ESPN THE '\n",
      "             'MAGAZINE TEAM ESPN ESPN FRONT ROW ESPN NBA More Sports Gaming '\n",
      "             'NBA G League NBA Summer League RN BB RN FB Sports Betting X '\n",
      "             'Games ESPN BET ESPN+ Super Bowl Fantasy Football Super Bowl '\n",
      "             'Winners Weekly Leaders ESPN.com: Help | Press | Advertise on '\n",
      "             'ESPN.com | Sales Media Kit | Interest-Based Ads | Do Not Sell or '\n",
      "             'Share My Personal Information | Report a Bug | Corrections | '\n",
      "             'Contact Us | Site Map | Jobs at ESPN © 2025 ESPN Internet '\n",
      "             'Ventures.',\n",
      "  'score': 0.15468249,\n",
      "  'title': 'Super Bowl Winners by Year - ESPN',\n",
      "  'url': 'http://www.espn.com/nfl/superbowl/history/winners'}]\n"
     ]
    }
   ],
   "source": [
    "from pprint import pprint\n",
    "\n",
    "pprint(search_docs)"
   ]
  },
  {
   "cell_type": "markdown",
   "metadata": {},
   "source": [
    "## LLM to use"
   ]
  },
  {
   "cell_type": "code",
   "execution_count": 6,
   "metadata": {},
   "outputs": [],
   "source": [
    "from langchain_openai import ChatOpenAI\n",
    "\n",
    "llm = ChatOpenAI(\n",
    "    model=\"llama3.2:1b-instruct-q4_0\",\n",
    "    base_url=\"http://localhost:11434/v1\", # Ollama\n",
    "    #base_url=\"http://localhost:1234/v1\", #LM Studio\n",
    "    api_key=\"not-needed\"\n",
    "    )"
   ]
  },
  {
   "cell_type": "code",
   "execution_count": 7,
   "metadata": {},
   "outputs": [],
   "source": [
    "# bind with tools\n",
    "tools = [tavily_search]\n",
    "llm_with_tools = llm.bind_tools(tools=tools)"
   ]
  },
  {
   "cell_type": "code",
   "execution_count": 8,
   "metadata": {},
   "outputs": [],
   "source": [
    "from langchain_core.messages import SystemMessage, HumanMessage\n",
    "\n",
    "sys_msg = '''\n",
    "You are an experienced assistant who always finds high-quality and relevant information on the Internet\n",
    "'''\n",
    "\n",
    "messages = [\n",
    "    SystemMessage(content=sys_msg),\n",
    "    HumanMessage(content=\"What is the weather in New York?\")\n",
    "    ]\n",
    "\n",
    "response = llm_with_tools.invoke(messages)"
   ]
  },
  {
   "cell_type": "code",
   "execution_count": 9,
   "metadata": {},
   "outputs": [
    {
     "data": {
      "text/plain": [
       "{'content': '```json\\n{\\n  \"name\": \"tavily_search_results_json\",\\n  \"parameters\": {\\n    \"type\": \"string\",\\n    \"properties\": {\\n      \"\\\\\"query\\\\\": \\\\\"New York weather\\\\\"\"\\n    }\\n  }\\n}\\n```\\n\\n```json\\n{\\n  \"$schema := \\\\\"https://sigma.app/schema/sigma-0.8\\\\`\",\\n  \"name\": \"tavily_search_results_json\",\\n  \"parameters\": {\\n    \"type\": \"string\",\\n    \"props\": {\\n      \"\\\\\"query\\\\\": \\\\\"New York weather\\\\\"\"\\n    }\\n  },\\n  \"# sigma function template\\n}\\n```',\n",
       " 'additional_kwargs': {'refusal': None},\n",
       " 'response_metadata': {'token_usage': {'completion_tokens': 125,\n",
       "   'prompt_tokens': 211,\n",
       "   'total_tokens': 336,\n",
       "   'completion_tokens_details': None,\n",
       "   'prompt_tokens_details': None},\n",
       "  'model_name': 'llama3.2:1b-instruct-q4_0',\n",
       "  'system_fingerprint': 'fp_ollama',\n",
       "  'finish_reason': 'stop',\n",
       "  'logprobs': None},\n",
       " 'type': 'ai',\n",
       " 'name': None,\n",
       " 'id': 'run-e03feb3b-3faf-4525-9214-3472524c53cc-0',\n",
       " 'example': False,\n",
       " 'tool_calls': [],\n",
       " 'invalid_tool_calls': [],\n",
       " 'usage_metadata': {'input_tokens': 211,\n",
       "  'output_tokens': 125,\n",
       "  'total_tokens': 336,\n",
       "  'input_token_details': {},\n",
       "  'output_token_details': {}}}"
      ]
     },
     "execution_count": 9,
     "metadata": {},
     "output_type": "execute_result"
    }
   ],
   "source": [
    "vars(response)"
   ]
  },
  {
   "cell_type": "markdown",
   "metadata": {},
   "source": [
    "- LLM does NOT invoke tool\n",
    "    - replies with `tool_calls` that contain tool to call with arguments"
   ]
  },
  {
   "cell_type": "markdown",
   "metadata": {},
   "source": [
    "## Build Graph\n",
    "- LangGraph does have a [prebuilt ReAct agent](https://langchain-ai.github.io/langgraph/reference/prebuilt/#langgraph.prebuilt.chat_agent_executor.create_react_agent)\n",
    "    - however, the recommendation is to build own agent to use full power of LangGraph"
   ]
  },
  {
   "cell_type": "code",
   "execution_count": 10,
   "metadata": {},
   "outputs": [],
   "source": [
    "from langgraph.graph import MessagesState\n",
    "\n",
    "# Node\n",
    "def assistant(state: MessagesState):\n",
    "   return {\"messages\": [llm_with_tools.invoke([sys_msg] + state[\"messages\"])]}"
   ]
  },
  {
   "cell_type": "code",
   "execution_count": 11,
   "metadata": {},
   "outputs": [],
   "source": [
    "from langgraph.checkpoint.memory import MemorySaver\n",
    "memory = MemorySaver()"
   ]
  },
  {
   "cell_type": "code",
   "execution_count": 12,
   "metadata": {},
   "outputs": [],
   "source": [
    "from langgraph.graph import MessagesState\n",
    "from langgraph.graph import START, StateGraph\n",
    "from langgraph.prebuilt import tools_condition, ToolNode\n",
    "\n",
    "\n",
    "# Graph\n",
    "builder = StateGraph(MessagesState)\n",
    "\n",
    "# Define nodes: these do the work\n",
    "builder.add_node(\"assistant\", assistant)\n",
    "builder.add_node(\"tools\", ToolNode(tools))\n",
    "\n",
    "# Define edges: these determine how the control flow moves\n",
    "builder.add_edge(START, \"assistant\")\n",
    "builder.add_conditional_edges(\n",
    "    \"assistant\",\n",
    "    # If the latest message (result) from assistant is a tool call -> tools_condition routes to tools\n",
    "    # If the latest message (result) from assistant is a not a tool call -> tools_condition routes to END\n",
    "    tools_condition,\n",
    ")\n",
    "builder.add_edge(\"tools\", \"assistant\")\n",
    "react_graph = builder.compile(checkpointer=memory)\n"
   ]
  },
  {
   "cell_type": "code",
   "execution_count": 13,
   "metadata": {},
   "outputs": [
    {
     "data": {
      "image/png": "[encoded data removed]",
      "text/plain": [
       "<IPython.core.display.Image object>"
      ]
     },
     "metadata": {},
     "output_type": "display_data"
    }
   ],
   "source": [
    "from IPython.display import Image, display\n",
    "# Show\n",
    "\n",
    "display(Image(react_graph.get_graph(xray=True).draw_mermaid_png()))"
   ]
  },
  {
   "cell_type": "code",
   "execution_count": 14,
   "metadata": {},
   "outputs": [],
   "source": [
    "# Create unique thread id for short-term memory (checkpointer)\n",
    "import uuid\n",
    "thread_id = str(uuid.uuid4())\n",
    "config = {\"configurable\": {\"thread_id\": thread_id}}"
   ]
  },
  {
   "cell_type": "markdown",
   "metadata": {},
   "source": [
    "## Invoke ReAct Agent"
   ]
  },
  {
   "cell_type": "code",
   "execution_count": 15,
   "metadata": {},
   "outputs": [
    {
     "name": "stdout",
     "output_type": "stream",
     "text": [
      "================================\u001b[1m Human Message \u001b[0m=================================\n",
      "\n",
      "What is the weather in Tokyo\n",
      "==================================\u001b[1m Ai Message \u001b[0m==================================\n",
      "Tool Calls:\n",
      "  tavily_search_results_json (call_0wdvhm73)\n",
      " Call ID: call_0wdvhm73\n",
      "  Args:\n",
      "    query: Tokyo weather\n",
      "=================================\u001b[1m Tool Message \u001b[0m=================================\n",
      "Name: tavily_search_results_json\n",
      "\n",
      "[{\"title\": \"Weather in Tokyo\", \"url\": \"https://www.weatherapi.com/\", \"content\": \"{'location': {'name': 'Tokyo', 'region': 'Tokyo', 'country': 'Japan', 'lat': 35.6895, 'lon': 139.6917, 'tz_id': 'Asia/Tokyo', 'localtime_epoch': 1741572554, 'localtime': '2025-03-10 11:09'}, 'current': {'last_updated_epoch': 1741572000, 'last_updated': '2025-03-10 11:00', 'temp_c': 11.1, 'temp_f': 52.0, 'is_day': 1, 'condition': {'text': 'Partly cloudy', 'icon': '//cdn.weatherapi.com/weather/64x64/day/116.png', 'code': 1003}, 'wind_mph': 4.7, 'wind_kph': 7.6, 'wind_degree': 345, 'wind_dir': 'NNW', 'pressure_mb': 1030.0, 'pressure_in': 30.42, 'precip_mm': 0.0, 'precip_in': 0.0, 'humidity': 30, 'cloud': 25, 'feelslike_c': 10.4, 'feelslike_f': 50.7, 'windchill_c': 8.7, 'windchill_f': 47.7, 'heatindex_c': 9.7, 'heatindex_f': 49.4, 'dewpoint_c': -7.1, 'dewpoint_f': 19.3, 'vis_km': 10.0, 'vis_miles': 6.0, 'uv': 4.8, 'gust_mph': 5.5, 'gust_kph': 8.9}}\", \"score\": 0.947004}, {\"title\": \"Weather in Tokyo in March 2025 - Detailed Forecast\", \"url\": \"https://www.easeweather.com/asia/japan/tokyo/march\", \"content\": \"Weather in Tokyo in March 2025 - Detailed Forecast Weather in Tokyo for March 2025 Your guide to Tokyo weather in March - trends and predictions In general, the average temperature in Tokyo at the beginning of March is 13 °C. Tokyo in March average weather Temperatures trend during March in Tokyo March in Tokyo, Japan, marks the transition from winter to spring, bringing a noticeable change in the weather. Tokyo in March - FAQ What to pack to Tokyo in March? As you prepare for your trip to Tokyo in March, it's important to consider the typical weather patterns for the time of year. Explore the daily rainfall trends and prepare for Tokyos March weather 💧\", \"score\": 0.8995547}, {\"title\": \"Tokyo weather in March 2025 - Weather25.com\", \"url\": \"https://www.weather25.com/asia/japan/tokyo?page=month&month=March\", \"content\": \"Tokyo weather in March 2025 | Tokyo 14 day weather Tokyo  Tokyo Tokyo weather in March 2025 | Tokyo in March | | Tokyo in May | Temperatures in Tokyo in March Rain in Tokyo in March Weather in Tokyo in March - FAQ The average temperature in Tokyo in March is 6/13° C. On average, there are 8 rainy days in Tokyo during March. Weather wise, is March a good time to visit Tokyo? The weather in Tokyo in March is bad. On average, there are 1 snowy days in Tokyo in March. More about the weather in Tokyo Tokyo 14 day weather Long range weather for Tokyo Tokyo weather in February Tokyo Webcam Weather tomorrow Hotels in Tokyo\", \"score\": 0.8674071}]\n",
      "==================================\u001b[1m Ai Message \u001b[0m==================================\n",
      "\n",
      "The weather in Tokyo in late March is unlikely to be good with a chance of 1 snowy day on April 25th at 11:59 AM \n",
      "\n",
      "However it does have the potential to rain, with slight precipitation possibility up until May, as well as temperatures varying by a range from 5 degree C (49-degree F) near lower latitude areas in early morning, increasing up to 13degC (or 83.2°F) near higher latitude.\n"
     ]
    }
   ],
   "source": [
    "# Specify an input\n",
    "messages = [HumanMessage(content=\"What is the weather in Tokyo\")]\n",
    "\n",
    "# Run\n",
    "messages = react_graph.invoke({\"messages\": messages},config)\n",
    "for m in messages['messages']:\n",
    "    m.pretty_print()"
   ]
  },
  {
   "cell_type": "code",
   "execution_count": 16,
   "metadata": {},
   "outputs": [
    {
     "name": "stdout",
     "output_type": "stream",
     "text": [
      "================================\u001b[1m Human Message \u001b[0m=================================\n",
      "\n",
      "What is the weather in Tokyo\n",
      "==================================\u001b[1m Ai Message \u001b[0m==================================\n",
      "Tool Calls:\n",
      "  tavily_search_results_json (call_0wdvhm73)\n",
      " Call ID: call_0wdvhm73\n",
      "  Args:\n",
      "    query: Tokyo weather\n",
      "=================================\u001b[1m Tool Message \u001b[0m=================================\n",
      "Name: tavily_search_results_json\n",
      "\n",
      "[{\"title\": \"Weather in Tokyo\", \"url\": \"https://www.weatherapi.com/\", \"content\": \"{'location': {'name': 'Tokyo', 'region': 'Tokyo', 'country': 'Japan', 'lat': 35.6895, 'lon': 139.6917, 'tz_id': 'Asia/Tokyo', 'localtime_epoch': 1741572554, 'localtime': '2025-03-10 11:09'}, 'current': {'last_updated_epoch': 1741572000, 'last_updated': '2025-03-10 11:00', 'temp_c': 11.1, 'temp_f': 52.0, 'is_day': 1, 'condition': {'text': 'Partly cloudy', 'icon': '//cdn.weatherapi.com/weather/64x64/day/116.png', 'code': 1003}, 'wind_mph': 4.7, 'wind_kph': 7.6, 'wind_degree': 345, 'wind_dir': 'NNW', 'pressure_mb': 1030.0, 'pressure_in': 30.42, 'precip_mm': 0.0, 'precip_in': 0.0, 'humidity': 30, 'cloud': 25, 'feelslike_c': 10.4, 'feelslike_f': 50.7, 'windchill_c': 8.7, 'windchill_f': 47.7, 'heatindex_c': 9.7, 'heatindex_f': 49.4, 'dewpoint_c': -7.1, 'dewpoint_f': 19.3, 'vis_km': 10.0, 'vis_miles': 6.0, 'uv': 4.8, 'gust_mph': 5.5, 'gust_kph': 8.9}}\", \"score\": 0.947004}, {\"title\": \"Weather in Tokyo in March 2025 - Detailed Forecast\", \"url\": \"https://www.easeweather.com/asia/japan/tokyo/march\", \"content\": \"Weather in Tokyo in March 2025 - Detailed Forecast Weather in Tokyo for March 2025 Your guide to Tokyo weather in March - trends and predictions In general, the average temperature in Tokyo at the beginning of March is 13 °C. Tokyo in March average weather Temperatures trend during March in Tokyo March in Tokyo, Japan, marks the transition from winter to spring, bringing a noticeable change in the weather. Tokyo in March - FAQ What to pack to Tokyo in March? As you prepare for your trip to Tokyo in March, it's important to consider the typical weather patterns for the time of year. Explore the daily rainfall trends and prepare for Tokyos March weather 💧\", \"score\": 0.8995547}, {\"title\": \"Tokyo weather in March 2025 - Weather25.com\", \"url\": \"https://www.weather25.com/asia/japan/tokyo?page=month&month=March\", \"content\": \"Tokyo weather in March 2025 | Tokyo 14 day weather Tokyo  Tokyo Tokyo weather in March 2025 | Tokyo in March | | Tokyo in May | Temperatures in Tokyo in March Rain in Tokyo in March Weather in Tokyo in March - FAQ The average temperature in Tokyo in March is 6/13° C. On average, there are 8 rainy days in Tokyo during March. Weather wise, is March a good time to visit Tokyo? The weather in Tokyo in March is bad. On average, there are 1 snowy days in Tokyo in March. More about the weather in Tokyo Tokyo 14 day weather Long range weather for Tokyo Tokyo weather in February Tokyo Webcam Weather tomorrow Hotels in Tokyo\", \"score\": 0.8674071}]\n",
      "==================================\u001b[1m Ai Message \u001b[0m==================================\n",
      "\n",
      "The weather in Tokyo in late March is unlikely to be good with a chance of 1 snowy day on April 25th at 11:59 AM \n",
      "\n",
      "However it does have the potential to rain, with slight precipitation possibility up until May, as well as temperatures varying by a range from 5 degree C (49-degree F) near lower latitude areas in early morning, increasing up to 13degC (or 83.2°F) near higher latitude.\n",
      "================================\u001b[1m Human Message \u001b[0m=================================\n",
      "\n",
      "What about Singapore\n",
      "==================================\u001b[1m Ai Message \u001b[0m==================================\n",
      "Tool Calls:\n",
      "  tavily_search_results_json (call_kfy0n3gi)\n",
      " Call ID: call_kfy0n3gi\n",
      "  Args:\n",
      "    query: Singapore weather in March 2025\n",
      "=================================\u001b[1m Tool Message \u001b[0m=================================\n",
      "Name: tavily_search_results_json\n",
      "\n",
      "[{\"title\": \"Weather in Singapore\", \"url\": \"https://www.weatherapi.com/\", \"content\": \"{'location': {'name': 'Singapore', 'region': '', 'country': 'Singapore', 'lat': 1.293, 'lon': 103.856, 'tz_id': 'Asia/Singapore', 'localtime_epoch': 1741572585, 'localtime': '2025-03-10 10:09'}, 'current': {'last_updated_epoch': 1741572000, 'last_updated': '2025-03-10 10:00', 'temp_c': 28.3, 'temp_f': 82.9, 'is_day': 1, 'condition': {'text': 'Partly cloudy', 'icon': '//cdn.weatherapi.com/weather/64x64/day/116.png', 'code': 1003}, 'wind_mph': 10.5, 'wind_kph': 16.9, 'wind_degree': 7, 'wind_dir': 'N', 'pressure_mb': 1012.0, 'pressure_in': 29.88, 'precip_mm': 0.02, 'precip_in': 0.0, 'humidity': 79, 'cloud': 75, 'feelslike_c': 33.8, 'feelslike_f': 92.8, 'windchill_c': 27.2, 'windchill_f': 81.0, 'heatindex_c': 31.3, 'heatindex_f': 88.4, 'dewpoint_c': 24.4, 'dewpoint_f': 75.9, 'vis_km': 10.0, 'vis_miles': 6.0, 'uv': 4.7, 'gust_mph': 14.0, 'gust_kph': 22.5}}\", \"score\": 0.960913}, {\"title\": \"Singapore weather in March 2025 - Weather25.com\", \"url\": \"https://www.weather25.com/asia/singapore?page=month&month=March\", \"content\": \"The weather in Singapore in March is very hot. The average temperatures are between 26°C and 31°C, drinking water regularly is advisable.\", \"score\": 0.94314384}, {\"title\": \"Singapore weather in March 2025: How hot & sunny?\", \"url\": \"https://www.weather2travel.com/singapore/march/\", \"content\": \"Singapore weather in March 2025 · 6 hours of sunshine per day · 13 days with some rainfall · 198 mm of rainfall in the month. 31°C maximum daytime temperature\", \"score\": 0.9092728}]\n",
      "==================================\u001b[1m Ai Message \u001b[0m==================================\n",
      "\n",
      "The current weather in Singapore in late March is expected to be very hot, with temperatures ranging from 26°C to 31°C.\n",
      "\n",
      "Note: The response provided by the tavily search API does provide some relevant data for Weather in Singapore In Late March As of my knowledge cutoff on 01 March 2023, here are the general points you can observe. \n",
      "\n",
      "* You will not be able to guess whether it is a good time to travel without checking forecasts further \n",
      "*   The temperature expectation has slight possibility to drop at night depending upon wind or other reasons.\n",
      "*   There might be one potential reason for not traveling during late March weather -  Rainfall in this time frame is rather high.\n",
      "*   On other sides, temperature can provide you a clear sign of whether it's good to travel with an average temperature of 26°C and no rainfall at present which is very much pleasant.\n"
     ]
    }
   ],
   "source": [
    "# Specify an input\n",
    "messages = [HumanMessage(content=\"What about Singapore\")]\n",
    "\n",
    "# Run\n",
    "messages = react_graph.invoke({\"messages\": messages},config)\n",
    "for m in messages['messages']:\n",
    "    m.pretty_print()"
   ]
  }
 ],
 "metadata": {
  "kernelspec": {
   "display_name": "venv",
   "language": "python",
   "name": "python3"
  },
  "language_info": {
   "codemirror_mode": {
    "name": "ipython",
    "version": 3
   },
   "file_extension": ".py",
   "mimetype": "text/x-python",
   "name": "python",
   "nbconvert_exporter": "python",
   "pygments_lexer": "ipython3",
   "version": "3.13.1"
  }
 },
 "nbformat": 4,
 "nbformat_minor": 2
}
